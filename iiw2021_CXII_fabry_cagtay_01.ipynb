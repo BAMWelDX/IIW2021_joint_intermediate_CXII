{
 "cells": [
  {
   "cell_type": "markdown",
   "id": "encouraging-hampton",
   "metadata": {
    "slideshow": {
     "slide_type": "skip"
    }
   },
   "source": [
    "# IIW 2021 joint intermediate meeting C-I, C-IV, C-XII, SG-212\n",
    "This notebook is an extended interactive version of the `weldx` features and example dataset presented at the **2021 IIW joint intermediate meeting of C-I, C-IV, C-XII & SG-212**.\n",
    "\n",
    "The code of this notebook can be found here: https://github.com/BAMWelDX/IIW2021_joint_intermediate_CXII\n",
    "\n",
    "You can launch this notebook as an interactive binder session in your browser following this link: \\\n",
    "https://mybinder.org/v2/gh/BAMWelDX/IIW_2021_joint_intermediate_CXII/main?urlpath=lab/tree/iiw2021_CXII_fabry_cagtay_01.ipynb\n",
    "\n",
    "The `weldx` documentation and code is available online:\\\n",
    "https://weldx.readthedocs.io/en/latest/ \\\n",
    "https://github.com/BAMWelDX/weldx\n",
    "\n",
    "The `weldx` documentation and GitHub links for this specific code version `v0.3.3` can be found here:\\\n",
    "https://weldx.readthedocs.io/en/v0.3.3/index.html \\\n",
    "https://github.com/BAMWelDX/weldx/tree/v0.3.3\n",
    "\n"
   ]
  },
  {
   "cell_type": "markdown",
   "id": "second-chemical",
   "metadata": {
    "slideshow": {
     "slide_type": "skip"
    }
   },
   "source": [
    "## Process Video\n",
    "To give an ovierview of this welding example, here is a video recording of the welding experiment conducted at BAM.\n",
    "\n",
    "We can see the pre- and post-welding scan of the workpiece geometry as well as the position of the temperature measurements.\n",
    "\n",
    "<video controls src=\"./data/WID417.webm\" />"
   ]
  },
  {
   "cell_type": "markdown",
   "id": "later-atlas",
   "metadata": {
    "slideshow": {
     "slide_type": "skip"
    }
   },
   "source": [
    "## Imports\n",
    "We start with some general python package imports used throughout this notebook."
   ]
  },
  {
   "cell_type": "code",
   "execution_count": 1,
   "id": "affiliated-pilot",
   "metadata": {
    "slideshow": {
     "slide_type": "skip"
    }
   },
   "outputs": [],
   "source": [
    "import pprint\n",
    "from pathlib import Path\n",
    "\n",
    "import matplotlib.pyplot as plt\n",
    "import pandas as pd\n",
    "\n",
    "import asdf\n",
    "import weldx\n",
    "from weldx import Q_, WeldxFile\n",
    "from weldx.asdf.util import view_tree\n",
    "\n",
    "pp = pprint.PrettyPrinter(indent=2)\n",
    "pprint = pp.pprint"
   ]
  },
  {
   "cell_type": "markdown",
   "id": "olive-grace",
   "metadata": {
    "slideshow": {
     "slide_type": "skip"
    }
   },
   "source": [
    "Some helper functions for this notebook are included in the `helpers.py` file."
   ]
  },
  {
   "cell_type": "code",
   "execution_count": 2,
   "id": "continuous-magazine",
   "metadata": {
    "slideshow": {
     "slide_type": "skip"
    }
   },
   "outputs": [],
   "source": [
    "from helpers import (\n",
    "    add_axis_labels_3d,\n",
    "    ax_setup,\n",
    "    build_base_csm,\n",
    "    create_geometry,\n",
    "    cs_colors,\n",
    "    plot_gmaw,\n",
    "    plot_measurements,\n",
    "    plot_signal,\n",
    "    welding_wire_geo_data,\n",
    "    ipympl_style\n",
    ")"
   ]
  },
  {
   "cell_type": "markdown",
   "id": "fantastic-mustang",
   "metadata": {
    "slideshow": {
     "slide_type": "slide"
    }
   },
   "source": [
    "## opening the file\n",
    "To open and access the file contents we will use the `asdf` library to open the weldx example dataset.\n",
    "\n",
    "We define the ASDF filename that contains the data used for this notebook."
   ]
  },
  {
   "cell_type": "code",
   "execution_count": 3,
   "id": "mobile-dressing",
   "metadata": {},
   "outputs": [],
   "source": [
    "wx_file = WeldxFile(\"./data/single_pass_weld.asdf\", \"r\")"
   ]
  },
  {
   "cell_type": "code",
   "execution_count": 4,
   "id": "electoral-vegetarian",
   "metadata": {
    "slideshow": {
     "slide_type": "-"
    }
   },
   "outputs": [],
   "source": [
    "filename = \"./data/single_pass_weld.asdf\""
   ]
  },
  {
   "cell_type": "markdown",
   "id": "quality-frame",
   "metadata": {
    "slideshow": {
     "slide_type": "skip"
    }
   },
   "source": [
    "To get an overview of the file contents we can use the `asdf_json_repr` function of the weldx library to create an interactive tree view.\n",
    "\n",
    "Try searching for a specific term like `wire_feedrate` using the ***Filter...*** box in the upper right."
   ]
  },
  {
   "cell_type": "code",
   "execution_count": 5,
   "id": "native-resident",
   "metadata": {
    "slideshow": {
     "slide_type": "skip"
    }
   },
   "outputs": [
    {
     "data": {
      "application/json": {
       "TCP": {
        "coordinates": {
         "data": {
          "byteorder": "little",
          "datatype": "float64",
          "shape": [
           2,
           3
          ],
          "source": 4
         },
         "dimensions": [
          "time",
          "c"
         ],
         "dtype": "<f8",
         "name": "coordinates"
        },
        "reference_time": {
         "value": "2021-03-17T11:06:42.334400"
        },
        "time": {
         "end": {
          "value": "P0DT0H0M41.333333333S"
         },
         "max": {
          "value": "P0DT0H0M41.333333333S"
         },
         "min": {
          "value": "P0DT0H0M0S"
         },
         "start": {
          "value": "P0DT0H0M0S"
         },
         "values": {
          "byteorder": "little",
          "datatype": "int64",
          "shape": [
           2
          ],
          "source": 5
         }
        }
       },
       "asdf_library": {
        "author": "The ASDF Developers",
        "homepage": "http://github.com/asdf-format/asdf",
        "name": "asdf",
        "version": "2.8.0"
       },
       "coordinate_systems": {
        "coordinate_systems": [
         {
          "name": "user_frame",
          "reference_system": "workpiece",
          "transformation": {
           "coordinates": {
            "data": {
             "data": [
              20,
              -115.5,
              8
             ],
             "datatype": "float64",
             "shape": [
              3
             ]
            },
            "dimensions": [
             "c"
            ],
            "dtype": "<f8",
            "name": "coordinates"
           }
          }
         },
         {
          "name": "TCP",
          "reference_system": "user_frame",
          "transformation": {
           "coordinates": {
            "data": {
             "byteorder": "little",
             "datatype": "float64",
             "shape": [
              5176,
              3
             ],
             "source": 6
            },
            "dimensions": [
             "time",
             "c"
            ],
            "dtype": "<f8",
            "name": "coordinates"
           },
           "reference_time": {
            "value": "2021-03-17T11:06:41.849400"
           },
           "time": {
            "end": {
             "value": "P0DT0H0M41.4S"
            },
            "freq": "8L",
            "max": {
             "value": "P0DT0H0M41.4S"
            },
            "min": {
             "value": "P0DT0H0M0S"
            },
            "start": {
             "value": "P0DT0H0M0S"
            }
           }
          }
         },
         {
          "name": "TCP",
          "reference_system": "flange",
          "transformation": {
           "coordinates": {
            "data": {
             "data": [
              -49.325,
              -0.41,
              477.208
             ],
             "datatype": "float64",
             "shape": [
              3
             ]
            },
            "dimensions": [
             "c"
            ],
            "dtype": "<f8",
            "name": "coordinates"
           },
           "orientations": {
            "data": {
             "data": [
              [
               0.9267336773751215,
               0.013819064325030852,
               0.3754646783386755
              ],
              [
               0.016515967820919346,
               -0.999855739167001,
               -0.003965307270386556
              ],
              [
               0.37535571665517864,
               0.009875946333941035,
               -0.9268282212245625
              ]
             ],
             "datatype": "float64",
             "shape": [
              3,
              3
             ]
            },
            "dimensions": [
             "c",
             "v"
            ],
            "dtype": "<f8",
            "name": "orientations"
           }
          }
         },
         {
          "name": "LLT_1",
          "reference_system": "flange",
          "transformation": {
           "coordinates": {
            "data": {
             "data": [
              -47.25,
              0.2,
              516.75
             ],
             "datatype": "float64",
             "shape": [
              3
             ]
            },
            "dimensions": [
             "c"
            ],
            "dtype": "<f8",
            "name": "coordinates"
           },
           "orientations": {
            "data": {
             "data": [
              [
               0.9267343612134203,
               0.013816681174916207,
               0.37546307816836594
              ],
              [
               0.016514362037814815,
               -0.9998557560537017,
               -0.003967736478724144
              ],
              [
               0.375354098942369,
               0.009877570935778363,
               -0.9268288590670722
              ]
             ],
             "datatype": "float64",
             "shape": [
              3,
              3
             ]
            },
            "dimensions": [
             "c",
             "v"
            ],
            "dtype": "<f8",
            "name": "orientations"
           }
          }
         },
         {
          "name": "XIRIS_1",
          "reference_system": "flange",
          "transformation": {
           "coordinates": {
            "data": {
             "data": [
              -49.325,
              -0.41,
              477.208
             ],
             "datatype": "float64",
             "shape": [
              3
             ]
            },
            "dimensions": [
             "c"
            ],
            "dtype": "<f8",
            "name": "coordinates"
           },
           "orientations": {
            "data": {
             "data": [
              [
               0.38980655948248927,
               0.01382002085303293,
               0.9207930566680259
              ],
              [
               0.014483631368437009,
               -0.999855717313102,
               0.008875188938022706
              ],
              [
               0.9207828574679309,
               0.009876820334708339,
               -0.38995048123225595
              ]
             ],
             "datatype": "float64",
             "shape": [
              3,
              3
             ]
            },
            "dimensions": [
             "c",
             "v"
            ],
            "dtype": "<f8",
            "name": "orientations"
           }
          }
         },
         {
          "name": "TCP design",
          "reference_system": "workpiece",
          "transformation": {
           "coordinates": {
            "data": {
             "byteorder": "little",
             "datatype": "float64",
             "shape": [
              2,
              3
             ],
             "source": 7
            },
            "dimensions": [
             "time",
             "c"
            ],
            "dtype": "<f8",
            "name": "coordinates"
           },
           "time": {
            "end": {
             "value": "P0DT0H0M41.333333333S"
            },
            "max": {
             "value": "P0DT0H0M41.333333333S"
            },
            "min": {
             "value": "P0DT0H0M0S"
            },
            "start": {
             "value": "P0DT0H0M0S"
            },
            "values": {
             "byteorder": "little",
             "datatype": "int64",
             "shape": [
              2
             ],
             "source": 8
            }
           }
          }
         },
         {
          "name": "T1",
          "reference_system": "workpiece",
          "transformation": {
           "coordinates": {
            "data": {
             "data": [
              175,
              8,
              8
             ],
             "datatype": "float64",
             "shape": [
              3
             ]
            },
            "dimensions": [
             "c"
            ],
            "dtype": "<f8",
            "name": "coordinates"
           }
          }
         },
         {
          "name": "T2",
          "reference_system": "T1",
          "transformation": {
           "coordinates": {
            "data": {
             "data": [
              0,
              5,
              0
             ],
             "datatype": "float64",
             "shape": [
              3
             ]
            },
            "dimensions": [
             "c"
            ],
            "dtype": "<f8",
            "name": "coordinates"
           }
          }
         }
        ],
        "name": "Robot Trace",
        "reference_time": {
         "value": "2021-03-17T11:06:42.334400"
        },
        "root_system_name": "user_frame",
        "subsystem_names": [
         "TOOL config",
         "TCP trace design"
        ],
        "subsystems": [
         {
          "members": [
           "LLT_1",
           "XIRIS_1",
           "TCP",
           "flange"
          ],
          "name": "TOOL config",
          "parent_system": "Robot Trace",
          "root_cs": "flange",
          "subsystem_names": []
         },
         {
          "members": [
           "user_frame",
           "workpiece",
           "TCP design",
           "T1",
           "T2"
          ],
          "name": "TCP trace design",
          "parent_system": "Robot Trace",
          "root_cs": "workpiece",
          "subsystem_names": []
         }
        ]
       },
       "equipment": [
        {
         "name": "HKS P1000-S3",
         "sources": [
          {
           "error": {
            "deviation": {
             "unit": "percent",
             "value": 0.1
            }
           },
           "name": "Current Sensor",
           "output_signal": {
            "signal_type": "analog",
            "unit": "V"
           }
          },
          {
           "error": {
            "deviation": {
             "unit": "percent",
             "value": 0.1
            }
           },
           "name": "Voltage Sensor",
           "output_signal": {
            "signal_type": "analog",
            "unit": "V"
           }
          }
         ],
         "transformations": []
        },
        {
         "name": "Beckhoff ELM3002-0000",
         "sources": [],
         "transformations": [
          {
           "error": {
            "deviation": {
             "unit": "percent",
             "value": 0.01
            }
           },
           "func": {
            "expression": "a*x + b",
            "parameters": {
             "a": {
              "unit": "1 / volt",
              "value": 3276.8
             },
             "b": {
              "unit": "dimensionless",
              "value": 0
             }
            }
           },
           "name": "AD current conversion",
           "type_transformation": "AD"
          },
          {
           "error": {
            "deviation": {
             "unit": "percent",
             "value": 0.01
            }
           },
           "func": {
            "expression": "a*x + b",
            "parameters": {
             "a": {
              "unit": "1 / volt",
              "value": 3276.8
             },
             "b": {
              "unit": "dimensionless",
              "value": 0
             }
            }
           },
           "name": "AD voltage conversion",
           "type_transformation": "AD"
          }
         ]
        },
        {
         "name": "Beckhoff EL3314-0010",
         "sources": [],
         "transformations": [
          {
           "error": {
            "deviation": {
             "unit": "microvolt",
             "value": 0.25
            }
           },
           "func": {
            "expression": "a*x",
            "parameters": {
             "a": {
              "unit": "1 / volt",
              "value": 1
             }
            }
           },
           "name": "AD temperature conversion T1",
           "type_transformation": "AD"
          },
          {
           "error": {
            "deviation": {
             "unit": "microvolt",
             "value": 0.25
            }
           },
           "func": {
            "expression": "a*x",
            "parameters": {
             "a": {
              "unit": "1 / volt",
              "value": 1
             }
            }
           },
           "name": "AD temperature conversion T2",
           "type_transformation": "AD"
          }
         ]
        }
       ],
       "history": {
        "extensions": [
         {
          "extension_class": "asdf.extension.BuiltinExtension",
          "software": {
           "name": "asdf",
           "version": "2.8.0"
          }
         },
         {
          "extension_class": "weldx.asdf.extension.WeldxExtension",
          "software": {
           "name": "weldx",
           "version": "0.3.4.dev70+gbd32100.d20210531"
          }
         },
         {
          "extension_class": "weldx.asdf.extension.WeldxAsdfExtension",
          "software": {
           "name": "weldx",
           "version": "0.3.4.dev70+gbd32100.d20210531"
          }
         }
        ]
       },
       "measurements": [
        {
         "data": [
          {
           "interpolation": "step",
           "shape": [
            414091
           ],
           "time": {
            "end": {
             "value": "P0DT0H0M41.409S"
            },
            "max": {
             "value": "P0DT0H0M41.409S"
            },
            "min": {
             "value": "P0DT0H0M0S"
            },
            "start": {
             "value": "P0DT0H0M0S"
            },
            "values": {
             "byteorder": "little",
             "datatype": "int64",
             "shape": [
              414091
             ],
             "source": 0
            }
           },
           "unit": "volt",
           "values": {
            "byteorder": "little",
            "datatype": "float64",
            "shape": [
             414091
            ],
            "source": 1
           }
          }
         ],
         "measurement_chain": {
          "data_source": {
           "error": {
            "deviation": {
             "unit": "percent",
             "value": 0.1
            }
           },
           "name": "Current Sensor",
           "output_signal": {
            "signal_type": "analog",
            "unit": "V"
           }
          },
          "graph": {
           "root_node": {
            "attributes": {
             "signal": {
              "signal_type": "analog",
              "unit": "V"
             }
            },
            "edges": [
             {
              "attributes": {
               "equipment": {
                "name": "Beckhoff ELM3002-0000",
                "sources": [],
                "transformations": [
                 {
                  "error": {
                   "deviation": {
                    "unit": "percent",
                    "value": 0.01
                   }
                  },
                  "func": {
                   "expression": "a*x + b",
                   "parameters": {
                    "a": {
                     "unit": "1 / volt",
                     "value": 3276.8
                    },
                    "b": {
                     "unit": "dimensionless",
                     "value": 0
                    }
                   }
                  },
                  "name": "AD current conversion",
                  "type_transformation": "AD"
                 },
                 {
                  "error": {
                   "deviation": {
                    "unit": "percent",
                    "value": 0.01
                   }
                  },
                  "func": {
                   "expression": "a*x + b",
                   "parameters": {
                    "a": {
                     "unit": "1 / volt",
                     "value": 3276.8
                    },
                    "b": {
                     "unit": "dimensionless",
                     "value": 0
                    }
                   }
                  },
                  "name": "AD voltage conversion",
                  "type_transformation": "AD"
                 }
                ]
               },
               "transformation": {
                "error": {
                 "deviation": {
                  "unit": "percent",
                  "value": 0.01
                 }
                },
                "func": {
                 "expression": "a*x + b",
                 "parameters": {
                  "a": {
                   "unit": "1 / volt",
                   "value": 3276.8
                  },
                  "b": {
                   "unit": "dimensionless",
                   "value": 0
                  }
                 }
                },
                "name": "AD current conversion",
                "type_transformation": "AD"
               }
              },
              "direction": "fwd",
              "target_node": {
               "attributes": {
                "signal": {
                 "signal_type": "digital",
                 "unit": "dimensionless"
                }
               },
               "edges": [
                {
                 "attributes": {
                  "transformation": {
                   "error": {
                    "deviation": 0
                   },
                   "func": {
                    "expression": "a*x + b",
                    "parameters": {
                     "a": {
                      "unit": "ampere",
                      "value": 0.030517578125
                     },
                     "b": {
                      "unit": "ampere",
                      "value": 0
                     }
                    }
                   },
                   "meta": {
                    "name": "Beckhoff TwinCAT ScopeView",
                    "version": "3.4.3143"
                   },
                   "name": "current calibration"
                  }
                 },
                 "direction": "fwd",
                 "target_node": {
                  "attributes": {
                   "signal": {
                    "data": {
                     "interpolation": "step",
                     "shape": [
                      414091
                     ],
                     "time": {
                      "end": {
                       "value": "P0DT0H0M41.409S"
                      },
                      "max": {
                       "value": "P0DT0H0M41.409S"
                      },
                      "min": {
                       "value": "P0DT0H0M0S"
                      },
                      "start": {
                       "value": "P0DT0H0M0S"
                      },
                      "values": {
                       "byteorder": "little",
                       "datatype": "int64",
                       "shape": [
                        414091
                       ],
                       "source": 0
                      }
                     },
                     "unit": "volt",
                     "values": {
                      "byteorder": "little",
                      "datatype": "float64",
                      "shape": [
                       414091
                      ],
                      "source": 1
                     }
                    },
                    "signal_type": "digital",
                    "unit": "ampere"
                   }
                  },
                  "name": "current calibration"
                 }
                }
               ],
               "name": "AD current conversion"
              }
             }
            ],
            "name": "Current Sensor"
           }
          },
          "name": "welding current measurement chain",
          "source_equipment": {
           "name": "HKS P1000-S3",
           "sources": [
            {
             "error": {
              "deviation": {
               "unit": "percent",
               "value": 0.1
              }
             },
             "name": "Current Sensor",
             "output_signal": {
              "signal_type": "analog",
              "unit": "V"
             }
            },
            {
             "error": {
              "deviation": {
               "unit": "percent",
               "value": 0.1
              }
             },
             "name": "Voltage Sensor",
             "output_signal": {
              "signal_type": "analog",
              "unit": "V"
             }
            }
           ],
           "transformations": []
          }
         },
         "name": "welding current measurement"
        },
        {
         "data": [
          {
           "interpolation": "step",
           "shape": [
            414091
           ],
           "time": {
            "end": {
             "value": "P0DT0H0M41.409S"
            },
            "max": {
             "value": "P0DT0H0M41.409S"
            },
            "min": {
             "value": "P0DT0H0M0S"
            },
            "start": {
             "value": "P0DT0H0M0S"
            },
            "values": {
             "byteorder": "little",
             "datatype": "int64",
             "shape": [
              414091
             ],
             "source": 2
            }
           },
           "unit": "volt",
           "values": {
            "byteorder": "little",
            "datatype": "float64",
            "shape": [
             414091
            ],
            "source": 3
           }
          }
         ],
         "measurement_chain": {
          "data_source": {
           "error": {
            "deviation": {
             "unit": "percent",
             "value": 0.1
            }
           },
           "name": "Voltage Sensor",
           "output_signal": {
            "signal_type": "analog",
            "unit": "V"
           }
          },
          "graph": {
           "root_node": {
            "attributes": {
             "signal": {
              "signal_type": "analog",
              "unit": "V"
             }
            },
            "edges": [
             {
              "attributes": {
               "equipment": {
                "name": "Beckhoff ELM3002-0000",
                "sources": [],
                "transformations": [
                 {
                  "error": {
                   "deviation": {
                    "unit": "percent",
                    "value": 0.01
                   }
                  },
                  "func": {
                   "expression": "a*x + b",
                   "parameters": {
                    "a": {
                     "unit": "1 / volt",
                     "value": 3276.8
                    },
                    "b": {
                     "unit": "dimensionless",
                     "value": 0
                    }
                   }
                  },
                  "name": "AD current conversion",
                  "type_transformation": "AD"
                 },
                 {
                  "error": {
                   "deviation": {
                    "unit": "percent",
                    "value": 0.01
                   }
                  },
                  "func": {
                   "expression": "a*x + b",
                   "parameters": {
                    "a": {
                     "unit": "1 / volt",
                     "value": 3276.8
                    },
                    "b": {
                     "unit": "dimensionless",
                     "value": 0
                    }
                   }
                  },
                  "name": "AD voltage conversion",
                  "type_transformation": "AD"
                 }
                ]
               },
               "transformation": {
                "error": {
                 "deviation": {
                  "unit": "percent",
                  "value": 0.01
                 }
                },
                "func": {
                 "expression": "a*x + b",
                 "parameters": {
                  "a": {
                   "unit": "1 / volt",
                   "value": 3276.8
                  },
                  "b": {
                   "unit": "dimensionless",
                   "value": 0
                  }
                 }
                },
                "name": "AD voltage conversion",
                "type_transformation": "AD"
               }
              },
              "direction": "fwd",
              "target_node": {
               "attributes": {
                "signal": {
                 "signal_type": "digital",
                 "unit": "dimensionless"
                }
               },
               "edges": [
                {
                 "attributes": {
                  "transformation": {
                   "error": {
                    "deviation": 0
                   },
                   "func": {
                    "expression": "a*x + b",
                    "parameters": {
                     "a": {
                      "unit": "volt",
                      "value": 0.0030517578125
                     },
                     "b": {
                      "unit": "volt",
                      "value": 0
                     }
                    }
                   },
                   "meta": {
                    "name": "Beckhoff TwinCAT ScopeView",
                    "version": "3.4.3143"
                   },
                   "name": "voltage calibration"
                  }
                 },
                 "direction": "fwd",
                 "target_node": {
                  "attributes": {
                   "signal": {
                    "data": {
                     "interpolation": "step",
                     "shape": [
                      414091
                     ],
                     "time": {
                      "end": {
                       "value": "P0DT0H0M41.409S"
                      },
                      "max": {
                       "value": "P0DT0H0M41.409S"
                      },
                      "min": {
                       "value": "P0DT0H0M0S"
                      },
                      "start": {
                       "value": "P0DT0H0M0S"
                      },
                      "values": {
                       "byteorder": "little",
                       "datatype": "int64",
                       "shape": [
                        414091
                       ],
                       "source": 2
                      }
                     },
                     "unit": "volt",
                     "values": {
                      "byteorder": "little",
                      "datatype": "float64",
                      "shape": [
                       414091
                      ],
                      "source": 3
                     }
                    },
                    "signal_type": "digital",
                    "unit": "volt"
                   }
                  },
                  "name": "voltage calibration"
                 }
                }
               ],
               "name": "AD voltage conversion"
              }
             }
            ],
            "name": "Voltage Sensor"
           }
          },
          "name": "welding voltage measurement chain",
          "source_equipment": {
           "name": "HKS P1000-S3",
           "sources": [
            {
             "error": {
              "deviation": {
               "unit": "percent",
               "value": 0.1
              }
             },
             "name": "Current Sensor",
             "output_signal": {
              "signal_type": "analog",
              "unit": "V"
             }
            },
            {
             "error": {
              "deviation": {
               "unit": "percent",
               "value": 0.1
              }
             },
             "name": "Voltage Sensor",
             "output_signal": {
              "signal_type": "analog",
              "unit": "V"
             }
            }
           ],
           "transformations": []
          }
         },
         "name": "welding voltage measurement"
        },
        {
         "data": [
          {
           "interpolation": "step",
           "shape": [
            459092
           ],
           "time": {
            "end": {
             "value": "P0DT0H7M39.091S"
            },
            "freq": "L",
            "max": {
             "value": "P0DT0H7M39.091S"
            },
            "min": {
             "value": "P0DT0H0M0S"
            },
            "start": {
             "value": "P0DT0H0M0S"
            }
           },
           "unit": "volt",
           "values": {
            "byteorder": "little",
            "datatype": "float64",
            "shape": [
             459092
            ],
            "source": 9
           }
          }
         ],
         "measurement_chain": {
          "data_source": {
           "error": {
            "deviation": {
             "unit": "microvolt",
             "value": 0.25
            }
           },
           "name": "Thermocouple T1",
           "output_signal": {
            "signal_type": "analog",
            "unit": "V"
           }
          },
          "graph": {
           "root_node": {
            "attributes": {
             "signal": {
              "signal_type": "analog",
              "unit": "V"
             }
            },
            "edges": [
             {
              "attributes": {
               "equipment": {
                "name": "Beckhoff EL3314-0010",
                "sources": [],
                "transformations": [
                 {
                  "error": {
                   "deviation": {
                    "unit": "microvolt",
                    "value": 0.25
                   }
                  },
                  "func": {
                   "expression": "a*x",
                   "parameters": {
                    "a": {
                     "unit": "1 / volt",
                     "value": 1
                    }
                   }
                  },
                  "name": "AD temperature conversion T1",
                  "type_transformation": "AD"
                 },
                 {
                  "error": {
                   "deviation": {
                    "unit": "microvolt",
                    "value": 0.25
                   }
                  },
                  "func": {
                   "expression": "a*x",
                   "parameters": {
                    "a": {
                     "unit": "1 / volt",
                     "value": 1
                    }
                   }
                  },
                  "name": "AD temperature conversion T2",
                  "type_transformation": "AD"
                 }
                ]
               },
               "transformation": {
                "error": {
                 "deviation": {
                  "unit": "microvolt",
                  "value": 0.25
                 }
                },
                "func": {
                 "expression": "a*x",
                 "parameters": {
                  "a": {
                   "unit": "1 / volt",
                   "value": 1
                  }
                 }
                },
                "name": "AD temperature conversion T1",
                "type_transformation": "AD"
               }
              },
              "direction": "fwd",
              "target_node": {
               "attributes": {
                "signal": {
                 "signal_type": "digital",
                 "unit": "dimensionless"
                }
               },
               "edges": [
                {
                 "attributes": {
                  "transformation": {
                   "error": {
                    "deviation": 0
                   },
                   "func": {
                    "expression": "a*x + b",
                    "parameters": {
                     "a": {
                      "unit": "kelvin",
                      "value": 0.1
                     },
                     "b": {
                      "unit": "kelvin",
                      "value": 273.15
                     }
                    }
                   },
                   "meta": {
                    "name": "Beckhoff TwinCAT ScopeView",
                    "version": "3.4.3143"
                   },
                   "name": "temperature conversion"
                  }
                 },
                 "direction": "fwd",
                 "target_node": {
                  "attributes": {
                   "signal": {
                    "data": {
                     "interpolation": "step",
                     "shape": [
                      459092
                     ],
                     "time": {
                      "end": {
                       "value": "P0DT0H7M39.091S"
                      },
                      "freq": "L",
                      "max": {
                       "value": "P0DT0H7M39.091S"
                      },
                      "min": {
                       "value": "P0DT0H0M0S"
                      },
                      "start": {
                       "value": "P0DT0H0M0S"
                      }
                     },
                     "unit": "volt",
                     "values": {
                      "byteorder": "little",
                      "datatype": "float64",
                      "shape": [
                       459092
                      ],
                      "source": 9
                     }
                    },
                    "signal_type": "digital",
                    "unit": "kelvin"
                   }
                  },
                  "name": "temperature conversion"
                 }
                }
               ],
               "name": "AD temperature conversion T1"
              }
             }
            ],
            "name": "Thermocouple T1"
           }
          },
          "name": "temperature measurement chain T1",
          "source_equipment": {
           "name": "Thermocouple T1",
           "sources": [
            {
             "error": {
              "deviation": {
               "unit": "microvolt",
               "value": 0.25
              }
             },
             "name": "Thermocouple T1",
             "output_signal": {
              "signal_type": "analog",
              "unit": "V"
             }
            }
           ],
           "transformations": []
          }
         },
         "name": "temperature measurement T1"
        },
        {
         "data": [
          {
           "interpolation": "step",
           "shape": [
            459092
           ],
           "time": {
            "end": {
             "value": "P0DT0H7M39.091S"
            },
            "freq": "L",
            "max": {
             "value": "P0DT0H7M39.091S"
            },
            "min": {
             "value": "P0DT0H0M0S"
            },
            "start": {
             "value": "P0DT0H0M0S"
            }
           },
           "unit": "volt",
           "values": {
            "byteorder": "little",
            "datatype": "float64",
            "shape": [
             459092
            ],
            "source": 10
           }
          }
         ],
         "measurement_chain": {
          "data_source": {
           "error": {
            "deviation": {
             "unit": "microvolt",
             "value": 0.25
            }
           },
           "name": "Thermocouple T1",
           "output_signal": {
            "signal_type": "analog",
            "unit": "V"
           }
          },
          "graph": {
           "root_node": {
            "attributes": {
             "signal": {
              "signal_type": "analog",
              "unit": "V"
             }
            },
            "edges": [
             {
              "attributes": {
               "equipment": {
                "name": "Beckhoff EL3314-0010",
                "sources": [],
                "transformations": [
                 {
                  "error": {
                   "deviation": {
                    "unit": "microvolt",
                    "value": 0.25
                   }
                  },
                  "func": {
                   "expression": "a*x",
                   "parameters": {
                    "a": {
                     "unit": "1 / volt",
                     "value": 1
                    }
                   }
                  },
                  "name": "AD temperature conversion T1",
                  "type_transformation": "AD"
                 },
                 {
                  "error": {
                   "deviation": {
                    "unit": "microvolt",
                    "value": 0.25
                   }
                  },
                  "func": {
                   "expression": "a*x",
                   "parameters": {
                    "a": {
                     "unit": "1 / volt",
                     "value": 1
                    }
                   }
                  },
                  "name": "AD temperature conversion T2",
                  "type_transformation": "AD"
                 }
                ]
               },
               "transformation": {
                "error": {
                 "deviation": {
                  "unit": "microvolt",
                  "value": 0.25
                 }
                },
                "func": {
                 "expression": "a*x",
                 "parameters": {
                  "a": {
                   "unit": "1 / volt",
                   "value": 1
                  }
                 }
                },
                "name": "AD temperature conversion T2",
                "type_transformation": "AD"
               }
              },
              "direction": "fwd",
              "target_node": {
               "attributes": {
                "signal": {
                 "signal_type": "digital",
                 "unit": "dimensionless"
                }
               },
               "edges": [
                {
                 "attributes": {
                  "transformation": {
                   "error": {
                    "deviation": 0
                   },
                   "func": {
                    "expression": "a*x + b",
                    "parameters": {
                     "a": {
                      "unit": "kelvin",
                      "value": 0.1
                     },
                     "b": {
                      "unit": "kelvin",
                      "value": 273.15
                     }
                    }
                   },
                   "meta": {
                    "name": "Beckhoff TwinCAT ScopeView",
                    "version": "3.4.3143"
                   },
                   "name": "temperature conversion"
                  }
                 },
                 "direction": "fwd",
                 "target_node": {
                  "attributes": {
                   "signal": {
                    "data": {
                     "interpolation": "step",
                     "shape": [
                      459092
                     ],
                     "time": {
                      "end": {
                       "value": "P0DT0H7M39.091S"
                      },
                      "freq": "L",
                      "max": {
                       "value": "P0DT0H7M39.091S"
                      },
                      "min": {
                       "value": "P0DT0H0M0S"
                      },
                      "start": {
                       "value": "P0DT0H0M0S"
                      }
                     },
                     "unit": "volt",
                     "values": {
                      "byteorder": "little",
                      "datatype": "float64",
                      "shape": [
                       459092
                      ],
                      "source": 10
                     }
                    },
                    "signal_type": "digital",
                    "unit": "kelvin"
                   }
                  },
                  "name": "temperature conversion"
                 }
                }
               ],
               "name": "AD temperature conversion T2"
              }
             }
            ],
            "name": "Thermocouple T1"
           }
          },
          "name": "temperature measurement chain T2",
          "source_equipment": {
           "name": "Thermocouple T1",
           "sources": [
            {
             "error": {
              "deviation": {
               "unit": "microvolt",
               "value": 0.25
              }
             },
             "name": "Thermocouple T1",
             "output_signal": {
              "signal_type": "analog",
              "unit": "V"
             }
            }
           ],
           "transformations": []
          }
         },
         "name": "temperature measurement T2"
        }
       ],
       "process": {
        "shielding_gas": {
         "torch_shielding_gas": {
          "common_name": "corgon 18",
          "gas_component": [
           {
            "gas_chemical_name": "argon",
            "gas_percentage": {
             "unit": "percent",
             "value": 82
            }
           },
           {
            "gas_chemical_name": "carbon dioxide",
            "gas_percentage": {
             "unit": "percent",
             "value": 18
            }
           }
          ]
         },
         "torch_shielding_gas_flowrate": {
          "unit": "liter / minute",
          "value": 20
         },
         "use_torch_shielding_gas": true
        },
        "weld_speed": {
         "unit": "centimeter / minute",
         "value": 45
        },
        "welding_process": {
         "base_process": "pulse",
         "manufacturer": "Fronius",
         "parameters": {
          "base_voltage": {
           "unit": "volt",
           "value": 25
          },
          "pulse_current": {
           "unit": "ampere",
           "value": 480
          },
          "pulse_duration": {
           "unit": "millisecond",
           "value": 4
          },
          "pulse_frequency": {
           "unit": "hertz",
           "value": 200
          },
          "wire_feedrate": {
           "unit": "meter / minute",
           "value": 12
          }
         },
         "power_source": "TPS 500i",
         "tag": "GMAW"
        },
        "welding_wire": {
         "class": "G 42 2 C/M G4Si1",
         "diameter": {
          "unit": "millimeter",
          "value": 1.2
         },
         "wx_user": {
          "charge id": "00349764",
          "manufacturer": "WDI"
         }
        }
       },
       "reference_timestamp": {
        "value": "2021-03-17T11:06:42.334400"
       },
       "welding_current": {
        "data": {
         "interpolation": "step",
         "shape": [
          414091
         ],
         "time": {
          "end": {
           "value": "P0DT0H0M41.409S"
          },
          "max": {
           "value": "P0DT0H0M41.409S"
          },
          "min": {
           "value": "P0DT0H0M0S"
          },
          "start": {
           "value": "P0DT0H0M0S"
          },
          "values": {
           "byteorder": "little",
           "datatype": "int64",
           "shape": [
            414091
           ],
           "source": 0
          }
         },
         "unit": "volt",
         "values": {
          "byteorder": "little",
          "datatype": "float64",
          "shape": [
           414091
          ],
          "source": 1
         }
        },
        "signal_type": "digital",
        "unit": "ampere"
       },
       "welding_voltage": {
        "data": {
         "interpolation": "step",
         "shape": [
          414091
         ],
         "time": {
          "end": {
           "value": "P0DT0H0M41.409S"
          },
          "max": {
           "value": "P0DT0H0M41.409S"
          },
          "min": {
           "value": "P0DT0H0M0S"
          },
          "start": {
           "value": "P0DT0H0M0S"
          },
          "values": {
           "byteorder": "little",
           "datatype": "int64",
           "shape": [
            414091
           ],
           "source": 2
          }
         },
         "unit": "volt",
         "values": {
          "byteorder": "little",
          "datatype": "float64",
          "shape": [
           414091
          ],
          "source": 3
         }
        },
        "signal_type": "digital",
        "unit": "volt"
       },
       "workpiece": {
        "base_metal": {
         "common_name": "S355J2+N",
         "standard": "DIN EN 10225-2:2011"
        },
        "geometry": {
         "groove_shape": {
          "alpha": {
           "unit": "degree",
           "value": 45
          },
          "b": {
           "unit": "millimeter",
           "value": 1
          },
          "c": {
           "unit": "millimeter",
           "value": 1
          },
          "code_number": [
           "1.3",
           "1.5"
          ],
          "t": {
           "unit": "millimeter",
           "value": 8
          }
         },
         "seam_length": {
          "unit": "millimeter",
          "value": 350
         }
        }
       },
       "wx_user": {
        "WID": 417,
        "operator": "C. Schippereit",
        "project": "WelDX presentation"
       }
      },
      "text/plain": [
       "<IPython.core.display.JSON object>"
      ]
     },
     "execution_count": 5,
     "metadata": {
      "application/json": {
       "expanded": false,
       "root": "./data/single_pass_weld.asdf/"
      }
     },
     "output_type": "execute_result"
    }
   ],
   "source": [
    "view_tree(filename)"
   ]
  },
  {
   "cell_type": "markdown",
   "id": "legendary-headline",
   "metadata": {
    "slideshow": {
     "slide_type": "skip"
    }
   },
   "source": [
    "The file is expected to validate against the schema `single_pass_weld-1.0.0.schema.yaml`.\\\n",
    "The details describing the schema requirements can be found here: https://weldx.readthedocs.io/en/v0.3.3/generated/weldx.bam.de/weldx/datamodels/single_pass_weld-1.0.0.schema.html"
   ]
  },
  {
   "cell_type": "code",
   "execution_count": 6,
   "id": "preceding-member",
   "metadata": {
    "slideshow": {
     "slide_type": "skip"
    }
   },
   "outputs": [],
   "source": [
    "file_schema = (\n",
    "    Path(weldx.__path__[0])\n",
    "    / Path(\n",
    "        \"./asdf/schemas/weldx.bam.de/weldx/datamodels/single_pass_weld-1.0.0.schema.yaml\"\n",
    "    ).as_posix()\n",
    ")"
   ]
  },
  {
   "cell_type": "markdown",
   "id": "composed-stuff",
   "metadata": {
    "slideshow": {
     "slide_type": "subslide"
    }
   },
   "source": [
    "We open the weldx file and run a validation agains the `single_pass_weld-1.0.0.schema.yaml` schema.\\\n",
    "The validation ensures that all elements of the weldx file pass the requirements defined in the schema, including:\n",
    "- all requirement entries are present in the file:\n",
    "  - `workpiece`\n",
    "  - `TCP`\n",
    "  - `welding_current`\n",
    "  - `welding_voltage`\n",
    "  - `measurement chains`\n",
    "  - `equipment`\n",
    "- all entries and objects stored in the file have the correct type\n",
    "- all additional restrictions defined in `single_pass_weld-1.0.0.schema.yaml` are met"
   ]
  },
  {
   "cell_type": "code",
   "execution_count": 7,
   "id": "stopped-extent",
   "metadata": {},
   "outputs": [],
   "source": [
    "with asdf.open(filename, custom_schema=file_schema) as asdf_file:\n",
    "    weldx_file = asdf_file.tree"
   ]
  },
  {
   "cell_type": "markdown",
   "id": "nonprofit-parallel",
   "metadata": {
    "slideshow": {
     "slide_type": "slide"
    }
   },
   "source": [
    "## general metadata\n",
    "First let's look at some general simple metadata stored in the WelDX-file.\n",
    "\n",
    "The (optional) `reference_timestamp` field is used to indicate the start time of the experiment (the moment of arc ignition). All time data that is not given as absolute time are interpreted as relative to the given reference time."
   ]
  },
  {
   "cell_type": "code",
   "execution_count": 8,
   "id": "angry-society",
   "metadata": {
    "slideshow": {
     "slide_type": "-"
    }
   },
   "outputs": [
    {
     "data": {
      "text/plain": [
       "Timestamp('2021-03-17 11:06:42.334400')"
      ]
     },
     "execution_count": 8,
     "metadata": {},
     "output_type": "execute_result"
    }
   ],
   "source": [
    "weldx_file.get(\"reference_timestamp\")"
   ]
  },
  {
   "cell_type": "markdown",
   "id": "civilian-adams",
   "metadata": {
    "slideshow": {
     "slide_type": "skip"
    }
   },
   "source": [
    "We can deduce the total runtime of the experiment from the TCP movement of the welding."
   ]
  },
  {
   "cell_type": "code",
   "execution_count": 9,
   "id": "pleased-belle",
   "metadata": {
    "slideshow": {
     "slide_type": "skip"
    }
   },
   "outputs": [
    {
     "data": {
      "text/plain": [
       "TimedeltaIndex(['0 days 00:00:00', '0 days 00:00:41.333333333'], dtype='timedelta64[ns]', freq=None)"
      ]
     },
     "execution_count": 9,
     "metadata": {},
     "output_type": "execute_result"
    }
   ],
   "source": [
    "pd.TimedeltaIndex(weldx_file[\"TCP\"].time)"
   ]
  },
  {
   "cell_type": "markdown",
   "id": "patient-force",
   "metadata": {},
   "source": [
    "The WelDX standard introduces the `wx_user` field to store user specific content."
   ]
  },
  {
   "cell_type": "code",
   "execution_count": 10,
   "id": "intended-turning",
   "metadata": {
    "slideshow": {
     "slide_type": "-"
    }
   },
   "outputs": [
    {
     "data": {
      "text/plain": [
       "{'WID': 417, 'operator': 'C. Schippereit', 'project': 'WelDX presentation'}"
      ]
     },
     "execution_count": 10,
     "metadata": {},
     "output_type": "execute_result"
    }
   ],
   "source": [
    "weldx_file.get(\"wx_user\")"
   ]
  },
  {
   "cell_type": "markdown",
   "id": "minor-allergy",
   "metadata": {},
   "source": [
    "We define a time index from start to end of the experiment."
   ]
  },
  {
   "cell_type": "code",
   "execution_count": 11,
   "id": "affecting-accountability",
   "metadata": {
    "slideshow": {
     "slide_type": "skip"
    }
   },
   "outputs": [],
   "source": [
    "t = pd.TimedeltaIndex(weldx_file[\"TCP\"].time[[0, -1]])"
   ]
  },
  {
   "cell_type": "markdown",
   "id": "terminal-massachusetts",
   "metadata": {
    "slideshow": {
     "slide_type": "slide"
    }
   },
   "source": [
    "## workpiece definition\n",
    "The file schema mandates that the user provides workpiece information with the following properties:\n",
    "- `base_metal` referenced by a common name and the associated standard\n",
    "- the `geometry` consisting of a groove description following ISO 9692-1 and the seam length"
   ]
  },
  {
   "cell_type": "markdown",
   "id": "experienced-blocking",
   "metadata": {
    "slideshow": {
     "slide_type": "skip"
    }
   },
   "source": [
    "Here is how this information is stored the `workpiece` entry of the example dataset weldx file:\n",
    "```yaml\n",
    "workpiece:\n",
    "  base_metal: {common_name: 'S355J2+N', standard: 'DIN EN 10225-2:2011'}\n",
    "  geometry:\n",
    "    groove_shape: !<tag:weldx.bam.de:weldx/groove/iso_9692_1_2013_12/VGroove-1.0.0>\n",
    "      t: !unit/quantity-1.1.0 {unit: millimeter, value: 8}\n",
    "      alpha: !unit/quantity-1.1.0 {unit: degree, value: 45}\n",
    "      b: !unit/quantity-1.1.0 {unit: millimeter, value: 1}\n",
    "      c: !unit/quantity-1.1.0 {unit: millimeter, value: 1}\n",
    "    seam_length: !unit/quantity-1.1.0 {unit: millimeter, value: 350}\n",
    "```"
   ]
  },
  {
   "cell_type": "markdown",
   "id": "solved-newton",
   "metadata": {
    "slideshow": {
     "slide_type": "subslide"
    },
    "tags": []
   },
   "source": [
    "### workpiece material\n",
    "\n",
    "Since we know exactly where to find the information in the file, we can access the metadata directly for all files that validate against the file schema."
   ]
  },
  {
   "cell_type": "code",
   "execution_count": 12,
   "id": "accompanied-prediction",
   "metadata": {},
   "outputs": [
    {
     "data": {
      "text/plain": [
       "'S355J2+N'"
      ]
     },
     "execution_count": 12,
     "metadata": {},
     "output_type": "execute_result"
    }
   ],
   "source": [
    "weldx_file[\"workpiece\"][\"base_metal\"][\"common_name\"]"
   ]
  },
  {
   "cell_type": "code",
   "execution_count": 13,
   "id": "laden-species",
   "metadata": {},
   "outputs": [
    {
     "data": {
      "text/plain": [
       "'DIN EN 10225-2:2011'"
      ]
     },
     "execution_count": 13,
     "metadata": {},
     "output_type": "execute_result"
    }
   ],
   "source": [
    "weldx_file[\"workpiece\"][\"base_metal\"][\"standard\"]"
   ]
  },
  {
   "cell_type": "markdown",
   "id": "mechanical-bubble",
   "metadata": {
    "slideshow": {
     "slide_type": "fragment"
    }
   },
   "source": [
    "### seam length\n",
    "\n",
    "The total seam length of the workpiece is also stored.\\\n",
    "As throughout most of the functionality of the `weldx` API, physical units must be used where appropriate to avoid ambiguity."
   ]
  },
  {
   "cell_type": "code",
   "execution_count": 14,
   "id": "supported-bacon",
   "metadata": {},
   "outputs": [
    {
     "name": "stdout",
     "output_type": "stream",
     "text": [
      "350 millimeter\n"
     ]
    }
   ],
   "source": [
    "seam_length = weldx_file[\"workpiece\"][\"geometry\"][\"seam_length\"]\n",
    "print(seam_length)"
   ]
  },
  {
   "cell_type": "markdown",
   "id": "worldwide-start",
   "metadata": {
    "slideshow": {
     "slide_type": "subslide"
    }
   },
   "source": [
    "### welding groove\n",
    "\n",
    "The groove shape will be loaded into a specific weldx type:"
   ]
  },
  {
   "cell_type": "code",
   "execution_count": 15,
   "id": "female-sailing",
   "metadata": {},
   "outputs": [
    {
     "data": {
      "text/plain": [
       "\"VGroove(t=<Quantity(8, 'millimeter')>, alpha=<Quantity(45, 'degree')>, c=<Quantity(1, 'millimeter')>, b=<Quantity(1, 'millimeter')>, code_number=['1.3', '1.5'])\""
      ]
     },
     "execution_count": 15,
     "metadata": {},
     "output_type": "execute_result"
    }
   ],
   "source": [
    "groove = weldx_file[\"workpiece\"][\"geometry\"][\"groove_shape\"]\n",
    "str(groove)"
   ]
  },
  {
   "cell_type": "markdown",
   "id": "biological-appeal",
   "metadata": {
    "slideshow": {
     "slide_type": "skip"
    }
   },
   "source": [
    "The `weldx` API includes convinient functions to create and visualize different welding groove shapes.\\\n",
    "Many examples and details are available in this tutorial: https://weldx.readthedocs.io/en/v0.3.3/tutorials/groove_types_01.html"
   ]
  },
  {
   "cell_type": "markdown",
   "id": "streaming-positive",
   "metadata": {
    "slideshow": {
     "slide_type": "subslide"
    }
   },
   "source": [
    "To get a picture of the groove shape we can simply call the `plot` function."
   ]
  },
  {
   "cell_type": "code",
   "execution_count": 16,
   "id": "willing-baseline",
   "metadata": {},
   "outputs": [
    {
     "data": {
      "image/png": "[encoded data removed]",
      "text/plain": [
       "<Figure size 504x504 with 1 Axes>"
      ]
     },
     "metadata": {
      "needs_background": "light"
     },
     "output_type": "display_data"
    }
   ],
   "source": [
    "groove.plot()\n",
    "fig = plt.gcf(); fig.set_size_inches(7, 7);"
   ]
  },
  {
   "cell_type": "markdown",
   "id": "retained-politics",
   "metadata": {
    "slideshow": {
     "slide_type": "subslide"
    }
   },
   "source": [
    "### 3D Geometry\n",
    "With all the metadata of the workpiece available, it is easy to visualize a simple 3D model of the specimen."
   ]
  },
  {
   "cell_type": "code",
   "execution_count": 17,
   "id": "ideal-improvement",
   "metadata": {},
   "outputs": [
    {
     "data": {
      "image/png": "[encoded data removed]",
      "text/plain": [
       "<Figure size 504x504 with 1 Axes>"
      ]
     },
     "metadata": {
      "needs_background": "light"
     },
     "output_type": "display_data"
    }
   ],
   "source": [
    "geometry = create_geometry(groove, seam_length, Q_(10, \"mm\"))\n",
    "geometry.plot(profile_raster_width=Q_(4, \"mm\"), trace_raster_width=Q_(60, \"mm\"))\n",
    "ax_setup(plt.gca())\n",
    "fig = plt.gcf()\n",
    "fig.set_size_inches(7, 7)"
   ]
  },
  {
   "cell_type": "markdown",
   "id": "second-player",
   "metadata": {
    "slideshow": {
     "slide_type": "skip"
    }
   },
   "source": [
    "## Welding TCP movement description\n",
    "\n",
    "The path of the welding wire along the weld seam is given by the `TCP` property.\n",
    "\n",
    "The weld path is a linear movement between two points at a constant weld speed. The TCP reference frame is the workpiece base coordinate system, starting at the beginning of the weld seam. The x-axis coordinates will indicate the start- and end-point of the welding process along the workpiece length. The y- and z-coordinates determine the position of the TCP in relation to the cross-sectional groove plane.\n",
    "\n",
    "The information is stored in a [LocalCoordinateSystem](https://weldx.readthedocs.io/en/v0.3.3/_autosummary/weldx.transformations.LocalCoordinateSystem.html#weldx.transformations.LocalCoordinateSystem) instance with two points and the start and end time relative to the `reference_timestamp`.\n",
    "\n",
    "The YAML section of the weldx file describing the TCP movement looks like this:\n",
    "\n",
    "```yaml\n",
    "TCP: !<tag:weldx.bam.de:weldx/core/transformations/local_coordinate_system-1.0.0>\n",
    "  reference_time: !<tag:weldx.bam.de:weldx/time/timestamp-1.0.0> {value: '2021-03-17T11:06:42.334400'}\n",
    "  time: !<tag:weldx.bam.de:weldx/time/timedeltaindex-1.0.0>\n",
    "    values: !core/ndarray-1.0.0\n",
    "      data: [0, 41333333333]\n",
    "      datatype: int64\n",
    "      shape: [2]\n",
    "    start: !<tag:weldx.bam.de:weldx/time/timedelta-1.0.0> {value: 'P0DT0H0M0S'}\n",
    "    end: !<tag:weldx.bam.de:weldx/time/timedelta-1.0.0> {value: 'P0DT0H0M41.333333333S'}\n",
    "  coordinates: !<tag:weldx.bam.de:weldx/core/variable-1.0.0>\n",
    "    name: coordinates\n",
    "    dimensions: [time, c]\n",
    "    dtype: <f8\n",
    "    data: !core/ndarray-1.0.0\n",
    "      data:\n",
    "      - [20.0, 0.0, 3.0]\n",
    "      - [330.0, 0.0, 3.0]\n",
    "      datatype: float64\n",
    "      shape: [2, 3]\n",
    "```\n",
    "\n",
    "The `data` section of the coordiantes describe the start end end point in 3D space: `[20.0, 0.0, 3.0]` to `[330.0, 0.0, 3.0]` .\n",
    "Therefor the welded part of the workpiece will extend from 20 mm to 330 mm of the joint. The offset in z-direction is 3 mm from the workpiece bottom."
   ]
  },
  {
   "cell_type": "markdown",
   "id": "conservative-portsmouth",
   "metadata": {
    "slideshow": {
     "slide_type": "subslide"
    }
   },
   "source": [
    "We can create a `CoordinateSystemManager` instance and add the movement of the welding TCP to the geometry plot:"
   ]
  },
  {
   "cell_type": "code",
   "execution_count": 18,
   "id": "charming-croatia",
   "metadata": {},
   "outputs": [
    {
     "data": {
      "image/png": "[encoded data removed]",
      "text/plain": [
       "<Figure size 576x576 with 1 Axes>"
      ]
     },
     "metadata": {
      "needs_background": "light"
     },
     "output_type": "display_data"
    }
   ],
   "source": [
    "csm_base = build_base_csm(weldx_file, plot=False)\n",
    "csm_base.plot(\n",
    "    reference_system=\"workpiece\", coordinate_systems=[\"TCP weld\"],\n",
    "    data_sets=[\"workpiece (simple)\"], colors=cs_colors,\n",
    "    show_wireframe=True, show_data_labels=False, show_vectors=False,\n",
    ")\n",
    "ax_setup(plt.gca())"
   ]
  },
  {
   "cell_type": "markdown",
   "id": "attended-canon",
   "metadata": {
    "slideshow": {
     "slide_type": "slide"
    }
   },
   "source": [
    "## Process description\n",
    "The arc welding process must be defined using the following properties:\n",
    "```yaml\n",
    "process:\n",
    "  type: object\n",
    "  properties:\n",
    "    welding_process:\n",
    "      $ref: \"http://weldx.bam.de/schemas/weldx/process/GMAW-1.0.0\"\n",
    "    shielding_gas:\n",
    "      tag: \"tag:weldx.bam.de:weldx/aws/process/shielding_gas_for_procedure-1.0.0\"\n",
    "    weld_speed:\n",
    "      ...\n",
    "    welding_wire:\n",
    "      ...\n",
    "  required: [welding_process, shielding_gas, weld_speed, welding_wire]\n",
    "```\n",
    "\n",
    "We can store the process property in a new variable:"
   ]
  },
  {
   "cell_type": "code",
   "execution_count": 19,
   "id": "entitled-cancellation",
   "metadata": {
    "slideshow": {
     "slide_type": "skip"
    }
   },
   "outputs": [],
   "source": [
    "process = weldx_file[\"process\"]"
   ]
  },
  {
   "cell_type": "markdown",
   "id": "adaptive-swedish",
   "metadata": {
    "slideshow": {
     "slide_type": "skip"
    }
   },
   "source": [
    "The weld speed is restricted to a constant value of dimension \"[length]/[time]\"\n",
    "```yaml\n",
    "weld_speed:\n",
    "  tag: \"tag:weldx.bam.de:weldx/core/time_series-1.0.0\"\n",
    "  wx_unit: \"m/s\"\n",
    "  wx_shape: [1]\n",
    "```"
   ]
  },
  {
   "cell_type": "code",
   "execution_count": 20,
   "id": "increasing-edinburgh",
   "metadata": {
    "slideshow": {
     "slide_type": "subslide"
    }
   },
   "outputs": [
    {
     "data": {
      "text/plain": [
       "<TimeSeries>\n",
       "Constant value:\n",
       "\t45\n",
       "Units:\n",
       "\tcentimeter / minute"
      ]
     },
     "execution_count": 20,
     "metadata": {},
     "output_type": "execute_result"
    }
   ],
   "source": [
    "process[\"weld_speed\"]"
   ]
  },
  {
   "cell_type": "markdown",
   "id": "express-botswana",
   "metadata": {},
   "source": [
    "The welding wire is described by the constant diameter and a string describing the classification.\n",
    "```yaml\n",
    "welding_wire:\n",
    "  type: object\n",
    "  properties:\n",
    "    diameter:\n",
    "      description: |\n",
    "        The diameter of the welding wire.\n",
    "      tag: \"tag:stsci.edu:asdf/unit/quantity-1.1.0\"\n",
    "      wx_unit: \"m\"\n",
    "      wx_shape: [1]\n",
    "    class:\n",
    "      type: string\n",
    "```\n",
    "\n",
    "Additional metadata can be stored in the `wx_user` field if necessary. In the example, a G4Si1 wire with 1.2 mm diameter was used. The manufacturer and charge number are also given."
   ]
  },
  {
   "cell_type": "code",
   "execution_count": 21,
   "id": "outstanding-license",
   "metadata": {
    "slideshow": {
     "slide_type": "fragment"
    }
   },
   "outputs": [
    {
     "data": {
      "text/plain": [
       "{'class': 'G 42 2 C/M G4Si1',\n",
       " 'diameter': array(1.2) <Unit('millimeter')>,\n",
       " 'wx_user': {'charge id': '00349764', 'manufacturer': 'WDI'}}"
      ]
     },
     "execution_count": 21,
     "metadata": {},
     "output_type": "execute_result"
    }
   ],
   "source": [
    "process[\"welding_wire\"]"
   ]
  },
  {
   "cell_type": "markdown",
   "id": "assumed-pharmacology",
   "metadata": {},
   "source": [
    "The shielding gas information consists of a common name and the gas mixture."
   ]
  },
  {
   "cell_type": "code",
   "execution_count": 22,
   "id": "central-turning",
   "metadata": {
    "slideshow": {
     "slide_type": "fragment"
    }
   },
   "outputs": [
    {
     "name": "stdout",
     "output_type": "stream",
     "text": [
      "{ 'common_name': 'corgon 18',\n",
      "  'designation': None,\n",
      "  'gas_component': [ GasComponent(gas_chemical_name='argon', gas_percentage=<Quantity(82, 'percent')>),\n",
      "                     GasComponent(gas_chemical_name='carbon dioxide', gas_percentage=<Quantity(18, 'percent')>)]}\n"
     ]
    }
   ],
   "source": [
    "pprint(process[\"shielding_gas\"].torch_shielding_gas.__dict__)"
   ]
  },
  {
   "cell_type": "code",
   "execution_count": 23,
   "id": "tracked-commons",
   "metadata": {
    "slideshow": {
     "slide_type": "skip"
    }
   },
   "outputs": [],
   "source": [
    "# switch to static plots\n",
    "%matplotlib inline"
   ]
  },
  {
   "cell_type": "markdown",
   "id": "regional-publication",
   "metadata": {},
   "source": [
    "The `welding_process` describes the parameters set at the welding power source during the course of the experiment.\n",
    "\n",
    "Parameters are represented by a [`TimeSeries`](https://weldx.readthedocs.io/en/v0.3.3/tutorials/timeseries_01.html) object and can vary over time. In this example, all parameters are set to constant values."
   ]
  },
  {
   "cell_type": "code",
   "execution_count": 24,
   "id": "seeing-promise",
   "metadata": {
    "slideshow": {
     "slide_type": "subslide"
    }
   },
   "outputs": [
    {
     "data": {
      "image/png": "[encoded data removed]",
      "text/plain": [
       "<Figure size 720x720 with 5 Axes>"
      ]
     },
     "metadata": {
      "needs_background": "light"
     },
     "output_type": "display_data"
    }
   ],
   "source": [
    "gmaw_process = process[\"welding_process\"]\n",
    "fig, ax = plot_gmaw(gmaw_process, t)  "
   ]
  },
  {
   "cell_type": "markdown",
   "id": "arranged-amazon",
   "metadata": {
    "slideshow": {
     "slide_type": "slide"
    }
   },
   "source": [
    "## measurements\n",
    "We can list all measurements stored in the file."
   ]
  },
  {
   "cell_type": "code",
   "execution_count": 25,
   "id": "allied-weekly",
   "metadata": {},
   "outputs": [
    {
     "name": "stdout",
     "output_type": "stream",
     "text": [
      "welding current measurement\n",
      "welding voltage measurement\n",
      "temperature measurement T1\n",
      "temperature measurement T2\n"
     ]
    }
   ],
   "source": [
    "for measurement in weldx_file[\"measurements\"]:\n",
    "    print(measurement.name)"
   ]
  },
  {
   "cell_type": "markdown",
   "id": "relevant-enough",
   "metadata": {},
   "source": [
    "We can also create a plot showing all signals stored in the measurement chains listed under `measurements`.\n",
    "\n",
    "In the example dataset the welding current and voltage are recorded during the welding process. The temperature-measurements are recorded before and after the welding experiment. Due to the use of reference times, all signals can be synchronized. "
   ]
  },
  {
   "cell_type": "code",
   "execution_count": 26,
   "id": "ahead-status",
   "metadata": {
    "slideshow": {
     "slide_type": "subslide"
    }
   },
   "outputs": [
    {
     "name": "stderr",
     "output_type": "stream",
     "text": [
      "C:\\Users\\vhirtham\\Miniconda3\\envs\\weldx\\lib\\site-packages\\numpy\\core\\_asarray.py:102: UnitStrippedWarning: The unit of the quantity is stripped when downcasting to ndarray.\n",
      "  return array(a, dtype, copy=False, order=order)\n",
      "C:\\Users\\vhirtham\\Miniconda3\\envs\\weldx\\lib\\site-packages\\numpy\\core\\_asarray.py:102: UnitStrippedWarning: The unit of the quantity is stripped when downcasting to ndarray.\n",
      "  return array(a, dtype, copy=False, order=order)\n",
      "C:\\Users\\vhirtham\\Miniconda3\\envs\\weldx\\lib\\site-packages\\numpy\\core\\_asarray.py:102: UnitStrippedWarning: The unit of the quantity is stripped when downcasting to ndarray.\n",
      "  return array(a, dtype, copy=False, order=order)\n",
      "C:\\Users\\vhirtham\\Miniconda3\\envs\\weldx\\lib\\site-packages\\numpy\\core\\_asarray.py:102: UnitStrippedWarning: The unit of the quantity is stripped when downcasting to ndarray.\n",
      "  return array(a, dtype, copy=False, order=order)\n"
     ]
    },
    {
     "data": {
      "image/png": "[encoded data removed]",
      "text/plain": [
       "<Figure size 720x720 with 4 Axes>"
      ]
     },
     "metadata": {
      "needs_background": "light"
     },
     "output_type": "display_data"
    }
   ],
   "source": [
    "plot_measurements(weldx_file[\"measurements\"], ref_time=weldx_file[\"reference_timestamp\"])"
   ]
  },
  {
   "cell_type": "code",
   "execution_count": 27,
   "id": "fitted-breakfast",
   "metadata": {
    "slideshow": {
     "slide_type": "skip"
    }
   },
   "outputs": [
    {
     "ename": "ModuleNotFoundError",
     "evalue": "No module named 'ipympl'",
     "output_type": "error",
     "traceback": [
      "\u001b[1;31m---------------------------------------------------------------------------\u001b[0m",
      "\u001b[1;31mModuleNotFoundError\u001b[0m                       Traceback (most recent call last)",
      "\u001b[1;32m<ipython-input-27-4af836b06841>\u001b[0m in \u001b[0;36m<module>\u001b[1;34m\u001b[0m\n\u001b[0;32m      1\u001b[0m \u001b[1;31m# switch to interactive plots\u001b[0m\u001b[1;33m\u001b[0m\u001b[1;33m\u001b[0m\u001b[1;33m\u001b[0m\u001b[0m\n\u001b[1;32m----> 2\u001b[1;33m \u001b[0mget_ipython\u001b[0m\u001b[1;33m(\u001b[0m\u001b[1;33m)\u001b[0m\u001b[1;33m.\u001b[0m\u001b[0mrun_line_magic\u001b[0m\u001b[1;33m(\u001b[0m\u001b[1;34m'matplotlib'\u001b[0m\u001b[1;33m,\u001b[0m \u001b[1;34m'widget'\u001b[0m\u001b[1;33m)\u001b[0m\u001b[1;33m\u001b[0m\u001b[1;33m\u001b[0m\u001b[0m\n\u001b[0m",
      "\u001b[1;32m~\\Miniconda3\\envs\\weldx\\lib\\site-packages\\IPython\\core\\interactiveshell.py\u001b[0m in \u001b[0;36mrun_line_magic\u001b[1;34m(self, magic_name, line, _stack_depth)\u001b[0m\n\u001b[0;32m   2346\u001b[0m                 \u001b[0mkwargs\u001b[0m\u001b[1;33m[\u001b[0m\u001b[1;34m'local_ns'\u001b[0m\u001b[1;33m]\u001b[0m \u001b[1;33m=\u001b[0m \u001b[0mself\u001b[0m\u001b[1;33m.\u001b[0m\u001b[0mget_local_scope\u001b[0m\u001b[1;33m(\u001b[0m\u001b[0mstack_depth\u001b[0m\u001b[1;33m)\u001b[0m\u001b[1;33m\u001b[0m\u001b[1;33m\u001b[0m\u001b[0m\n\u001b[0;32m   2347\u001b[0m             \u001b[1;32mwith\u001b[0m \u001b[0mself\u001b[0m\u001b[1;33m.\u001b[0m\u001b[0mbuiltin_trap\u001b[0m\u001b[1;33m:\u001b[0m\u001b[1;33m\u001b[0m\u001b[1;33m\u001b[0m\u001b[0m\n\u001b[1;32m-> 2348\u001b[1;33m                 \u001b[0mresult\u001b[0m \u001b[1;33m=\u001b[0m \u001b[0mfn\u001b[0m\u001b[1;33m(\u001b[0m\u001b[1;33m*\u001b[0m\u001b[0margs\u001b[0m\u001b[1;33m,\u001b[0m \u001b[1;33m**\u001b[0m\u001b[0mkwargs\u001b[0m\u001b[1;33m)\u001b[0m\u001b[1;33m\u001b[0m\u001b[1;33m\u001b[0m\u001b[0m\n\u001b[0m\u001b[0;32m   2349\u001b[0m             \u001b[1;32mreturn\u001b[0m \u001b[0mresult\u001b[0m\u001b[1;33m\u001b[0m\u001b[1;33m\u001b[0m\u001b[0m\n\u001b[0;32m   2350\u001b[0m \u001b[1;33m\u001b[0m\u001b[0m\n",
      "\u001b[1;32m<decorator-gen-102>\u001b[0m in \u001b[0;36mmatplotlib\u001b[1;34m(self, line)\u001b[0m\n",
      "\u001b[1;32m~\\Miniconda3\\envs\\weldx\\lib\\site-packages\\IPython\\core\\magic.py\u001b[0m in \u001b[0;36m<lambda>\u001b[1;34m(f, *a, **k)\u001b[0m\n\u001b[0;32m    185\u001b[0m     \u001b[1;31m# but it's overkill for just that one bit of state.\u001b[0m\u001b[1;33m\u001b[0m\u001b[1;33m\u001b[0m\u001b[1;33m\u001b[0m\u001b[0m\n\u001b[0;32m    186\u001b[0m     \u001b[1;32mdef\u001b[0m \u001b[0mmagic_deco\u001b[0m\u001b[1;33m(\u001b[0m\u001b[0marg\u001b[0m\u001b[1;33m)\u001b[0m\u001b[1;33m:\u001b[0m\u001b[1;33m\u001b[0m\u001b[1;33m\u001b[0m\u001b[0m\n\u001b[1;32m--> 187\u001b[1;33m         \u001b[0mcall\u001b[0m \u001b[1;33m=\u001b[0m \u001b[1;32mlambda\u001b[0m \u001b[0mf\u001b[0m\u001b[1;33m,\u001b[0m \u001b[1;33m*\u001b[0m\u001b[0ma\u001b[0m\u001b[1;33m,\u001b[0m \u001b[1;33m**\u001b[0m\u001b[0mk\u001b[0m\u001b[1;33m:\u001b[0m \u001b[0mf\u001b[0m\u001b[1;33m(\u001b[0m\u001b[1;33m*\u001b[0m\u001b[0ma\u001b[0m\u001b[1;33m,\u001b[0m \u001b[1;33m**\u001b[0m\u001b[0mk\u001b[0m\u001b[1;33m)\u001b[0m\u001b[1;33m\u001b[0m\u001b[1;33m\u001b[0m\u001b[0m\n\u001b[0m\u001b[0;32m    188\u001b[0m \u001b[1;33m\u001b[0m\u001b[0m\n\u001b[0;32m    189\u001b[0m         \u001b[1;32mif\u001b[0m \u001b[0mcallable\u001b[0m\u001b[1;33m(\u001b[0m\u001b[0marg\u001b[0m\u001b[1;33m)\u001b[0m\u001b[1;33m:\u001b[0m\u001b[1;33m\u001b[0m\u001b[1;33m\u001b[0m\u001b[0m\n",
      "\u001b[1;32m~\\Miniconda3\\envs\\weldx\\lib\\site-packages\\IPython\\core\\magics\\pylab.py\u001b[0m in \u001b[0;36mmatplotlib\u001b[1;34m(self, line)\u001b[0m\n\u001b[0;32m     97\u001b[0m             \u001b[0mprint\u001b[0m\u001b[1;33m(\u001b[0m\u001b[1;34m\"Available matplotlib backends: %s\"\u001b[0m \u001b[1;33m%\u001b[0m \u001b[0mbackends_list\u001b[0m\u001b[1;33m)\u001b[0m\u001b[1;33m\u001b[0m\u001b[1;33m\u001b[0m\u001b[0m\n\u001b[0;32m     98\u001b[0m         \u001b[1;32melse\u001b[0m\u001b[1;33m:\u001b[0m\u001b[1;33m\u001b[0m\u001b[1;33m\u001b[0m\u001b[0m\n\u001b[1;32m---> 99\u001b[1;33m             \u001b[0mgui\u001b[0m\u001b[1;33m,\u001b[0m \u001b[0mbackend\u001b[0m \u001b[1;33m=\u001b[0m \u001b[0mself\u001b[0m\u001b[1;33m.\u001b[0m\u001b[0mshell\u001b[0m\u001b[1;33m.\u001b[0m\u001b[0menable_matplotlib\u001b[0m\u001b[1;33m(\u001b[0m\u001b[0margs\u001b[0m\u001b[1;33m.\u001b[0m\u001b[0mgui\u001b[0m\u001b[1;33m.\u001b[0m\u001b[0mlower\u001b[0m\u001b[1;33m(\u001b[0m\u001b[1;33m)\u001b[0m \u001b[1;32mif\u001b[0m \u001b[0misinstance\u001b[0m\u001b[1;33m(\u001b[0m\u001b[0margs\u001b[0m\u001b[1;33m.\u001b[0m\u001b[0mgui\u001b[0m\u001b[1;33m,\u001b[0m \u001b[0mstr\u001b[0m\u001b[1;33m)\u001b[0m \u001b[1;32melse\u001b[0m \u001b[0margs\u001b[0m\u001b[1;33m.\u001b[0m\u001b[0mgui\u001b[0m\u001b[1;33m)\u001b[0m\u001b[1;33m\u001b[0m\u001b[1;33m\u001b[0m\u001b[0m\n\u001b[0m\u001b[0;32m    100\u001b[0m             \u001b[0mself\u001b[0m\u001b[1;33m.\u001b[0m\u001b[0m_show_matplotlib_backend\u001b[0m\u001b[1;33m(\u001b[0m\u001b[0margs\u001b[0m\u001b[1;33m.\u001b[0m\u001b[0mgui\u001b[0m\u001b[1;33m,\u001b[0m \u001b[0mbackend\u001b[0m\u001b[1;33m)\u001b[0m\u001b[1;33m\u001b[0m\u001b[1;33m\u001b[0m\u001b[0m\n\u001b[0;32m    101\u001b[0m \u001b[1;33m\u001b[0m\u001b[0m\n",
      "\u001b[1;32m~\\Miniconda3\\envs\\weldx\\lib\\site-packages\\ipykernel\\zmqshell.py\u001b[0m in \u001b[0;36menable_matplotlib\u001b[1;34m(self, gui)\u001b[0m\n\u001b[0;32m    599\u001b[0m \u001b[1;33m\u001b[0m\u001b[0m\n\u001b[0;32m    600\u001b[0m     \u001b[1;32mdef\u001b[0m \u001b[0menable_matplotlib\u001b[0m\u001b[1;33m(\u001b[0m\u001b[0mself\u001b[0m\u001b[1;33m,\u001b[0m \u001b[0mgui\u001b[0m\u001b[1;33m=\u001b[0m\u001b[1;32mNone\u001b[0m\u001b[1;33m)\u001b[0m\u001b[1;33m:\u001b[0m\u001b[1;33m\u001b[0m\u001b[1;33m\u001b[0m\u001b[0m\n\u001b[1;32m--> 601\u001b[1;33m         \u001b[0mgui\u001b[0m\u001b[1;33m,\u001b[0m \u001b[0mbackend\u001b[0m \u001b[1;33m=\u001b[0m \u001b[0msuper\u001b[0m\u001b[1;33m(\u001b[0m\u001b[0mZMQInteractiveShell\u001b[0m\u001b[1;33m,\u001b[0m \u001b[0mself\u001b[0m\u001b[1;33m)\u001b[0m\u001b[1;33m.\u001b[0m\u001b[0menable_matplotlib\u001b[0m\u001b[1;33m(\u001b[0m\u001b[0mgui\u001b[0m\u001b[1;33m)\u001b[0m\u001b[1;33m\u001b[0m\u001b[1;33m\u001b[0m\u001b[0m\n\u001b[0m\u001b[0;32m    602\u001b[0m \u001b[1;33m\u001b[0m\u001b[0m\n\u001b[0;32m    603\u001b[0m         \u001b[1;32mfrom\u001b[0m \u001b[0mipykernel\u001b[0m\u001b[1;33m.\u001b[0m\u001b[0mpylab\u001b[0m\u001b[1;33m.\u001b[0m\u001b[0mbackend_inline\u001b[0m \u001b[1;32mimport\u001b[0m \u001b[0mconfigure_inline_support\u001b[0m\u001b[1;33m\u001b[0m\u001b[1;33m\u001b[0m\u001b[0m\n",
      "\u001b[1;32m~\\Miniconda3\\envs\\weldx\\lib\\site-packages\\IPython\\core\\interactiveshell.py\u001b[0m in \u001b[0;36menable_matplotlib\u001b[1;34m(self, gui)\u001b[0m\n\u001b[0;32m   3528\u001b[0m                 \u001b[0mgui\u001b[0m\u001b[1;33m,\u001b[0m \u001b[0mbackend\u001b[0m \u001b[1;33m=\u001b[0m \u001b[0mpt\u001b[0m\u001b[1;33m.\u001b[0m\u001b[0mfind_gui_and_backend\u001b[0m\u001b[1;33m(\u001b[0m\u001b[0mself\u001b[0m\u001b[1;33m.\u001b[0m\u001b[0mpylab_gui_select\u001b[0m\u001b[1;33m)\u001b[0m\u001b[1;33m\u001b[0m\u001b[1;33m\u001b[0m\u001b[0m\n\u001b[0;32m   3529\u001b[0m \u001b[1;33m\u001b[0m\u001b[0m\n\u001b[1;32m-> 3530\u001b[1;33m         \u001b[0mpt\u001b[0m\u001b[1;33m.\u001b[0m\u001b[0mactivate_matplotlib\u001b[0m\u001b[1;33m(\u001b[0m\u001b[0mbackend\u001b[0m\u001b[1;33m)\u001b[0m\u001b[1;33m\u001b[0m\u001b[1;33m\u001b[0m\u001b[0m\n\u001b[0m\u001b[0;32m   3531\u001b[0m         \u001b[0mconfigure_inline_support\u001b[0m\u001b[1;33m(\u001b[0m\u001b[0mself\u001b[0m\u001b[1;33m,\u001b[0m \u001b[0mbackend\u001b[0m\u001b[1;33m)\u001b[0m\u001b[1;33m\u001b[0m\u001b[1;33m\u001b[0m\u001b[0m\n\u001b[0;32m   3532\u001b[0m \u001b[1;33m\u001b[0m\u001b[0m\n",
      "\u001b[1;32m~\\Miniconda3\\envs\\weldx\\lib\\site-packages\\IPython\\core\\pylabtools.py\u001b[0m in \u001b[0;36mactivate_matplotlib\u001b[1;34m(backend)\u001b[0m\n\u001b[0;32m    322\u001b[0m     \u001b[1;32mfrom\u001b[0m \u001b[0mmatplotlib\u001b[0m \u001b[1;32mimport\u001b[0m \u001b[0mpyplot\u001b[0m \u001b[1;32mas\u001b[0m \u001b[0mplt\u001b[0m\u001b[1;33m\u001b[0m\u001b[1;33m\u001b[0m\u001b[0m\n\u001b[0;32m    323\u001b[0m \u001b[1;33m\u001b[0m\u001b[0m\n\u001b[1;32m--> 324\u001b[1;33m     \u001b[0mplt\u001b[0m\u001b[1;33m.\u001b[0m\u001b[0mswitch_backend\u001b[0m\u001b[1;33m(\u001b[0m\u001b[0mbackend\u001b[0m\u001b[1;33m)\u001b[0m\u001b[1;33m\u001b[0m\u001b[1;33m\u001b[0m\u001b[0m\n\u001b[0m\u001b[0;32m    325\u001b[0m \u001b[1;33m\u001b[0m\u001b[0m\n\u001b[0;32m    326\u001b[0m     \u001b[0mplt\u001b[0m\u001b[1;33m.\u001b[0m\u001b[0mshow\u001b[0m\u001b[1;33m.\u001b[0m\u001b[0m_needmain\u001b[0m \u001b[1;33m=\u001b[0m \u001b[1;32mFalse\u001b[0m\u001b[1;33m\u001b[0m\u001b[1;33m\u001b[0m\u001b[0m\n",
      "\u001b[1;32m~\\Miniconda3\\envs\\weldx\\lib\\site-packages\\matplotlib\\pyplot.py\u001b[0m in \u001b[0;36mswitch_backend\u001b[1;34m(newbackend)\u001b[0m\n\u001b[0;32m    275\u001b[0m     \u001b[0mbackend_name\u001b[0m \u001b[1;33m=\u001b[0m \u001b[0mcbook\u001b[0m\u001b[1;33m.\u001b[0m\u001b[0m_backend_module_name\u001b[0m\u001b[1;33m(\u001b[0m\u001b[0mnewbackend\u001b[0m\u001b[1;33m)\u001b[0m\u001b[1;33m\u001b[0m\u001b[1;33m\u001b[0m\u001b[0m\n\u001b[0;32m    276\u001b[0m \u001b[1;33m\u001b[0m\u001b[0m\n\u001b[1;32m--> 277\u001b[1;33m     \u001b[1;32mclass\u001b[0m \u001b[0mbackend_mod\u001b[0m\u001b[1;33m(\u001b[0m\u001b[0mmatplotlib\u001b[0m\u001b[1;33m.\u001b[0m\u001b[0mbackend_bases\u001b[0m\u001b[1;33m.\u001b[0m\u001b[0m_Backend\u001b[0m\u001b[1;33m)\u001b[0m\u001b[1;33m:\u001b[0m\u001b[1;33m\u001b[0m\u001b[1;33m\u001b[0m\u001b[0m\n\u001b[0m\u001b[0;32m    278\u001b[0m         \u001b[0mlocals\u001b[0m\u001b[1;33m(\u001b[0m\u001b[1;33m)\u001b[0m\u001b[1;33m.\u001b[0m\u001b[0mupdate\u001b[0m\u001b[1;33m(\u001b[0m\u001b[0mvars\u001b[0m\u001b[1;33m(\u001b[0m\u001b[0mimportlib\u001b[0m\u001b[1;33m.\u001b[0m\u001b[0mimport_module\u001b[0m\u001b[1;33m(\u001b[0m\u001b[0mbackend_name\u001b[0m\u001b[1;33m)\u001b[0m\u001b[1;33m)\u001b[0m\u001b[1;33m)\u001b[0m\u001b[1;33m\u001b[0m\u001b[1;33m\u001b[0m\u001b[0m\n\u001b[0;32m    279\u001b[0m \u001b[1;33m\u001b[0m\u001b[0m\n",
      "\u001b[1;32m~\\Miniconda3\\envs\\weldx\\lib\\site-packages\\matplotlib\\pyplot.py\u001b[0m in \u001b[0;36mbackend_mod\u001b[1;34m()\u001b[0m\n\u001b[0;32m    276\u001b[0m \u001b[1;33m\u001b[0m\u001b[0m\n\u001b[0;32m    277\u001b[0m     \u001b[1;32mclass\u001b[0m \u001b[0mbackend_mod\u001b[0m\u001b[1;33m(\u001b[0m\u001b[0mmatplotlib\u001b[0m\u001b[1;33m.\u001b[0m\u001b[0mbackend_bases\u001b[0m\u001b[1;33m.\u001b[0m\u001b[0m_Backend\u001b[0m\u001b[1;33m)\u001b[0m\u001b[1;33m:\u001b[0m\u001b[1;33m\u001b[0m\u001b[1;33m\u001b[0m\u001b[0m\n\u001b[1;32m--> 278\u001b[1;33m         \u001b[0mlocals\u001b[0m\u001b[1;33m(\u001b[0m\u001b[1;33m)\u001b[0m\u001b[1;33m.\u001b[0m\u001b[0mupdate\u001b[0m\u001b[1;33m(\u001b[0m\u001b[0mvars\u001b[0m\u001b[1;33m(\u001b[0m\u001b[0mimportlib\u001b[0m\u001b[1;33m.\u001b[0m\u001b[0mimport_module\u001b[0m\u001b[1;33m(\u001b[0m\u001b[0mbackend_name\u001b[0m\u001b[1;33m)\u001b[0m\u001b[1;33m)\u001b[0m\u001b[1;33m)\u001b[0m\u001b[1;33m\u001b[0m\u001b[1;33m\u001b[0m\u001b[0m\n\u001b[0m\u001b[0;32m    279\u001b[0m \u001b[1;33m\u001b[0m\u001b[0m\n\u001b[0;32m    280\u001b[0m     \u001b[0mrequired_framework\u001b[0m \u001b[1;33m=\u001b[0m \u001b[0m_get_required_interactive_framework\u001b[0m\u001b[1;33m(\u001b[0m\u001b[0mbackend_mod\u001b[0m\u001b[1;33m)\u001b[0m\u001b[1;33m\u001b[0m\u001b[1;33m\u001b[0m\u001b[0m\n",
      "\u001b[1;32m~\\Miniconda3\\envs\\weldx\\lib\\importlib\\__init__.py\u001b[0m in \u001b[0;36mimport_module\u001b[1;34m(name, package)\u001b[0m\n\u001b[0;32m    125\u001b[0m                 \u001b[1;32mbreak\u001b[0m\u001b[1;33m\u001b[0m\u001b[1;33m\u001b[0m\u001b[0m\n\u001b[0;32m    126\u001b[0m             \u001b[0mlevel\u001b[0m \u001b[1;33m+=\u001b[0m \u001b[1;36m1\u001b[0m\u001b[1;33m\u001b[0m\u001b[1;33m\u001b[0m\u001b[0m\n\u001b[1;32m--> 127\u001b[1;33m     \u001b[1;32mreturn\u001b[0m \u001b[0m_bootstrap\u001b[0m\u001b[1;33m.\u001b[0m\u001b[0m_gcd_import\u001b[0m\u001b[1;33m(\u001b[0m\u001b[0mname\u001b[0m\u001b[1;33m[\u001b[0m\u001b[0mlevel\u001b[0m\u001b[1;33m:\u001b[0m\u001b[1;33m]\u001b[0m\u001b[1;33m,\u001b[0m \u001b[0mpackage\u001b[0m\u001b[1;33m,\u001b[0m \u001b[0mlevel\u001b[0m\u001b[1;33m)\u001b[0m\u001b[1;33m\u001b[0m\u001b[1;33m\u001b[0m\u001b[0m\n\u001b[0m\u001b[0;32m    128\u001b[0m \u001b[1;33m\u001b[0m\u001b[0m\n\u001b[0;32m    129\u001b[0m \u001b[1;33m\u001b[0m\u001b[0m\n",
      "\u001b[1;32m~\\Miniconda3\\envs\\weldx\\lib\\importlib\\_bootstrap.py\u001b[0m in \u001b[0;36m_gcd_import\u001b[1;34m(name, package, level)\u001b[0m\n",
      "\u001b[1;32m~\\Miniconda3\\envs\\weldx\\lib\\importlib\\_bootstrap.py\u001b[0m in \u001b[0;36m_find_and_load\u001b[1;34m(name, import_)\u001b[0m\n",
      "\u001b[1;32m~\\Miniconda3\\envs\\weldx\\lib\\importlib\\_bootstrap.py\u001b[0m in \u001b[0;36m_find_and_load_unlocked\u001b[1;34m(name, import_)\u001b[0m\n",
      "\u001b[1;32m~\\Miniconda3\\envs\\weldx\\lib\\importlib\\_bootstrap.py\u001b[0m in \u001b[0;36m_call_with_frames_removed\u001b[1;34m(f, *args, **kwds)\u001b[0m\n",
      "\u001b[1;32m~\\Miniconda3\\envs\\weldx\\lib\\importlib\\_bootstrap.py\u001b[0m in \u001b[0;36m_gcd_import\u001b[1;34m(name, package, level)\u001b[0m\n",
      "\u001b[1;32m~\\Miniconda3\\envs\\weldx\\lib\\importlib\\_bootstrap.py\u001b[0m in \u001b[0;36m_find_and_load\u001b[1;34m(name, import_)\u001b[0m\n",
      "\u001b[1;32m~\\Miniconda3\\envs\\weldx\\lib\\importlib\\_bootstrap.py\u001b[0m in \u001b[0;36m_find_and_load_unlocked\u001b[1;34m(name, import_)\u001b[0m\n",
      "\u001b[1;31mModuleNotFoundError\u001b[0m: No module named 'ipympl'"
     ]
    }
   ],
   "source": [
    "# switch to interactive plots\n",
    "%matplotlib widget"
   ]
  },
  {
   "cell_type": "markdown",
   "id": "tamil-mailman",
   "metadata": {
    "slideshow": {
     "slide_type": "skip"
    }
   },
   "source": [
    "Plot the voltage measurement:"
   ]
  },
  {
   "cell_type": "code",
   "execution_count": 29,
   "id": "average-words",
   "metadata": {
    "slideshow": {
     "slide_type": "skip"
    }
   },
   "outputs": [
    {
     "name": "stderr",
     "output_type": "stream",
     "text": [
      "C:\\Users\\vhirtham\\Miniconda3\\envs\\weldx\\lib\\site-packages\\numpy\\core\\_asarray.py:102: UnitStrippedWarning: The unit of the quantity is stripped when downcasting to ndarray.\n",
      "  return array(a, dtype, copy=False, order=order)\n"
     ]
    },
    {
     "data": {
      "image/png": "[encoded data removed]",
      "text/plain": [
       "<Figure size 720x432 with 1 Axes>"
      ]
     },
     "metadata": {
      "needs_background": "light"
     },
     "output_type": "display_data"
    }
   ],
   "source": [
    "plot_signal(weldx_file[\"welding_voltage\"], \"welding_voltage\")"
   ]
  },
  {
   "cell_type": "markdown",
   "id": "massive-assist",
   "metadata": {
    "slideshow": {
     "slide_type": "subslide"
    }
   },
   "source": [
    "Plot the current meausurement:"
   ]
  },
  {
   "cell_type": "code",
   "execution_count": 30,
   "id": "circular-heating",
   "metadata": {
    "slideshow": {
     "slide_type": "-"
    }
   },
   "outputs": [
    {
     "name": "stderr",
     "output_type": "stream",
     "text": [
      "C:\\Users\\vhirtham\\Miniconda3\\envs\\weldx\\lib\\site-packages\\numpy\\core\\_asarray.py:102: UnitStrippedWarning: The unit of the quantity is stripped when downcasting to ndarray.\n",
      "  return array(a, dtype, copy=False, order=order)\n"
     ]
    },
    {
     "data": {
      "image/png": "[encoded data removed]",
      "text/plain": [
       "<Figure size 720x432 with 1 Axes>"
      ]
     },
     "metadata": {
      "needs_background": "light"
     },
     "output_type": "display_data"
    }
   ],
   "source": [
    "plot_signal(weldx_file[\"welding_current\"], \"welding_current\")"
   ]
  },
  {
   "cell_type": "markdown",
   "id": "desperate-smoke",
   "metadata": {
    "slideshow": {
     "slide_type": "skip"
    }
   },
   "source": [
    "Here is a detailed look at the current waveform:"
   ]
  },
  {
   "cell_type": "code",
   "execution_count": 31,
   "id": "exposed-sarah",
   "metadata": {
    "slideshow": {
     "slide_type": "skip"
    }
   },
   "outputs": [
    {
     "name": "stderr",
     "output_type": "stream",
     "text": [
      "C:\\Users\\vhirtham\\Miniconda3\\envs\\weldx\\lib\\site-packages\\numpy\\core\\_asarray.py:102: UnitStrippedWarning: The unit of the quantity is stripped when downcasting to ndarray.\n",
      "  return array(a, dtype, copy=False, order=order)\n"
     ]
    },
    {
     "data": {
      "image/png": "[encoded data removed]",
      "text/plain": [
       "<Figure size 720x432 with 1 Axes>"
      ]
     },
     "metadata": {
      "needs_background": "light"
     },
     "output_type": "display_data"
    }
   ],
   "source": [
    "plot_signal(weldx_file[\"welding_current\"], \"welding_current\",limits=(23, 23.025))"
   ]
  },
  {
   "cell_type": "markdown",
   "id": "insured-steal",
   "metadata": {
    "slideshow": {
     "slide_type": "slide"
    }
   },
   "source": [
    "## measurement chains\n",
    "To document how a welding related measurement was conducted, we can describe and store measurement chains using the `weldx` API.\n",
    "This includes:\n",
    "- describing the measurement equipment\n",
    "- describing multiple transformation steps from raw-data to the final measurement\n",
    "- providing information about measurement uncertainties and errors\n",
    "- attaching certification examples or similar files\n",
    "\n",
    "An in depth example describing measurement chains can be found in the documentation: [meassurement_example](https://weldx.readthedocs.io/en/v0.3.3/tutorials/measurement_example.html)"
   ]
  },
  {
   "cell_type": "markdown",
   "id": "preliminary-document",
   "metadata": {
    "slideshow": {
     "slide_type": "skip"
    }
   },
   "source": [
    "### current measurement chain"
   ]
  },
  {
   "cell_type": "code",
   "execution_count": 34,
   "id": "specified-guyana",
   "metadata": {
    "slideshow": {
     "slide_type": "skip"
    }
   },
   "outputs": [
    {
     "name": "stdout",
     "output_type": "stream",
     "text": [
      "Current Sensor\n",
      "AD current conversion\n",
      "current calibration\n"
     ]
    }
   ],
   "source": [
    "current_measurement_chain = weldx_file[\"measurements\"][0].measurement_chain\n",
    "\n",
    "current_source = current_measurement_chain.source\n",
    "print(current_source.name)\n",
    "for processor in current_measurement_chain.transformations:\n",
    "    print(processor.name)"
   ]
  },
  {
   "cell_type": "markdown",
   "id": "affiliated-skill",
   "metadata": {},
   "source": [
    "Each measurement chain object can be visualized with it's plot function. The squared nodes represent signals, the circular nodes show data that is present for a single signal. Transformation steps between signals are given with name and some info."
   ]
  },
  {
   "cell_type": "code",
   "execution_count": 35,
   "id": "alike-appeal",
   "metadata": {
    "slideshow": {
     "slide_type": "subslide"
    }
   },
   "outputs": [
    {
     "data": {
      "image/png": "[encoded data removed]",
      "text/plain": [
       "<Figure size 864x432 with 1 Axes>"
      ]
     },
     "metadata": {},
     "output_type": "display_data"
    }
   ],
   "source": [
    "fig, ax = plt.subplots(nrows=1, figsize=(12, 6))\n",
    "weldx_file[\"measurements\"][0].measurement_chain.plot(ax)\n",
    "ipympl_style(fig,toolbar=False)"
   ]
  },
  {
   "cell_type": "code",
   "execution_count": 36,
   "id": "postal-phase",
   "metadata": {
    "slideshow": {
     "slide_type": "skip"
    }
   },
   "outputs": [
    {
     "data": {
      "image/png": "[encoded data removed]",
      "text/plain": [
       "<Figure size 864x432 with 1 Axes>"
      ]
     },
     "metadata": {},
     "output_type": "display_data"
    }
   ],
   "source": [
    "fig, ax = plt.subplots(nrows=1, figsize=(12, 6))\n",
    "weldx_file[\"measurements\"][1].measurement_chain.plot(ax)\n",
    "ipympl_style(fig,toolbar=False)"
   ]
  },
  {
   "cell_type": "code",
   "execution_count": 37,
   "id": "russian-adult",
   "metadata": {
    "slideshow": {
     "slide_type": "subslide"
    }
   },
   "outputs": [
    {
     "data": {
      "image/png": "[encoded data removed]",
      "text/plain": [
       "<Figure size 864x432 with 1 Axes>"
      ]
     },
     "metadata": {},
     "output_type": "display_data"
    }
   ],
   "source": [
    "fig, ax = plt.subplots(nrows=1, figsize=(12, 6))\n",
    "weldx_file[\"measurements\"][2].measurement_chain.plot(ax)\n",
    "ipympl_style(fig,toolbar=False)"
   ]
  },
  {
   "cell_type": "markdown",
   "id": "finnish-possession",
   "metadata": {
    "slideshow": {
     "slide_type": "slide"
    }
   },
   "source": [
    "## coordinate systems\n",
    "The `weldx` API contains multiple functions to describe dependencies and transformations between multiple different coordinate systems.\n",
    "\n",
    "- translations and rotations\n",
    "- constant and time dependent transformations\n",
    "- transformation between different systems\n",
    "- grouping multiple systems into subsystems\n",
    "- transforming spatial data between different coordinate systems\n",
    "- visualization of transformations and systems"
   ]
  },
  {
   "cell_type": "markdown",
   "id": "eleven-therapy",
   "metadata": {
    "slideshow": {
     "slide_type": "skip"
    }
   },
   "source": [
    "There are multiple tutorials available covering coordinate transformations using the `LocalCoordinateSystem` and `CoordinateSystemManager` classes:\n",
    "\n",
    "- https://weldx.readthedocs.io/en/v0.3.3/tutorials/transformations_01_coordinate_systems.html\n",
    "- https://weldx.readthedocs.io/en/v0.3.3/tutorials/transformations_02_coordinate_system_manager.html\n",
    "- https://weldx.readthedocs.io/en/v0.3.3/tutorials/transformations_02_coordinate_system_manager.html#Visualizing-the-coordinate-systems-of-the-CSM\n",
    "- https://weldx.readthedocs.io/en/v0.3.3/tutorials/welding_example_02_weaving.html"
   ]
  },
  {
   "cell_type": "code",
   "execution_count": 38,
   "id": "educational-sucking",
   "metadata": {
    "slideshow": {
     "slide_type": "skip"
    }
   },
   "outputs": [],
   "source": [
    "# switch to static plots\n",
    "%matplotlib inline"
   ]
  },
  {
   "cell_type": "markdown",
   "id": "skilled-spider",
   "metadata": {
    "slideshow": {
     "slide_type": "skip"
    }
   },
   "source": [
    "In addition to the simplified weldment specification, the example dataset contains the complete coordinate system information describing the BAM arc welding setup.\n",
    "\n",
    "- the definition of the reference user frame used for robot programming\n",
    "- the recorded actual TCP movement of the robot\n",
    "- the movement of a laser line scanner attached to the robot head"
   ]
  },
  {
   "cell_type": "markdown",
   "id": "seven-grave",
   "metadata": {
    "slideshow": {
     "slide_type": "skip"
    }
   },
   "source": [
    "We can load the instance of the coordinate system manager directly from the weldx file.\\\n",
    "Following the file schema the data can be accessed under the key `coordinate_systems`."
   ]
  },
  {
   "cell_type": "code",
   "execution_count": 39,
   "id": "descending-infrared",
   "metadata": {
    "slideshow": {
     "slide_type": "skip"
    }
   },
   "outputs": [],
   "source": [
    "csm = weldx_file[\"coordinate_systems\"]"
   ]
  },
  {
   "cell_type": "markdown",
   "id": "dominican-charge",
   "metadata": {
    "slideshow": {
     "slide_type": "subslide"
    }
   },
   "source": [
    "We can visualize all loaded coordinate systems using the built-in `plot` functions."
   ]
  },
  {
   "cell_type": "code",
   "execution_count": 40,
   "id": "nutritional-semiconductor",
   "metadata": {
    "slideshow": {
     "slide_type": "-"
    }
   },
   "outputs": [
    {
     "data": {
      "image/png": "[encoded data removed]",
      "text/plain": [
       "<Figure size 432x432 with 1 Axes>"
      ]
     },
     "metadata": {},
     "output_type": "display_data"
    }
   ],
   "source": [
    "csm.plot_graph()\n",
    "plt.gcf().set_size_inches(w=6, h=6)"
   ]
  },
  {
   "cell_type": "markdown",
   "id": "approximate-excuse",
   "metadata": {
    "slideshow": {
     "slide_type": "skip"
    }
   },
   "source": [
    "Let's take another look at the weld specimen.\n",
    "\n",
    "<img src='./data/WID417_pre.JPG' width=\"640\" />"
   ]
  },
  {
   "cell_type": "markdown",
   "id": "polar-trick",
   "metadata": {
    "slideshow": {
     "slide_type": "skip"
    }
   },
   "source": [
    "The workpiece coordinate system has it's origin located at the start of the workpiece at groove center. We can calculate the position of the thermocouple placement in the workpiece coordinate system."
   ]
  },
  {
   "cell_type": "code",
   "execution_count": 41,
   "id": "connected-interest",
   "metadata": {
    "slideshow": {
     "slide_type": "skip"
    }
   },
   "outputs": [
    {
     "data": {
      "text/plain": [
       "<LocalCoordinateSystem>\n",
       "Dimensions:      (c: 3, v: 3)\n",
       "Coordinates:\n",
       "  * c            (c) <U1 'x' 'y' 'z'\n",
       "  * v            (v) int32 0 1 2\n",
       "Data variables:\n",
       "    coordinates  (c) float64 155.0 123.5 0.0\n",
       "    orientation  (v, c) float64 1.0 0.0 0.0 0.0 1.0 0.0 0.0 0.0 1.0"
      ]
     },
     "execution_count": 41,
     "metadata": {},
     "output_type": "execute_result"
    }
   ],
   "source": [
    "csm.get_cs(\"T1\",\"user_frame\")"
   ]
  },
  {
   "cell_type": "markdown",
   "id": "norman-finland",
   "metadata": {
    "slideshow": {
     "slide_type": "skip"
    }
   },
   "source": [
    "The second thermocouple is offset by 5 mm from the first."
   ]
  },
  {
   "cell_type": "code",
   "execution_count": 42,
   "id": "extreme-truth",
   "metadata": {
    "slideshow": {
     "slide_type": "skip"
    }
   },
   "outputs": [
    {
     "data": {
      "text/plain": [
       "<LocalCoordinateSystem>\n",
       "Dimensions:      (c: 3, v: 3)\n",
       "Coordinates:\n",
       "  * c            (c) <U1 'x' 'y' 'z'\n",
       "  * v            (v) int32 0 1 2\n",
       "Data variables:\n",
       "    coordinates  (c) float64 0.0 5.0 0.0\n",
       "    orientation  (v, c) float64 1.0 0.0 0.0 0.0 1.0 0.0 0.0 0.0 1.0"
      ]
     },
     "execution_count": 42,
     "metadata": {},
     "output_type": "execute_result"
    }
   ],
   "source": [
    "csm.get_cs(\"T2\",\"T1\")"
   ]
  },
  {
   "cell_type": "markdown",
   "id": "round-original",
   "metadata": {},
   "source": [
    "The following command will calculate the recorded robot TCP movement in reference to the workpiece coordinate system.\n",
    "Since the robot movement is time dependent, the result will be a time dependent coordiante system."
   ]
  },
  {
   "cell_type": "code",
   "execution_count": 43,
   "id": "neural-meeting",
   "metadata": {
    "slideshow": {
     "slide_type": "skip"
    }
   },
   "outputs": [
    {
     "data": {
      "text/plain": [
       "<LocalCoordinateSystem>\n",
       "Dimensions:      (c: 3, time: 5176, v: 3)\n",
       "Coordinates:\n",
       "  * c            (c) <U1 'x' 'y' 'z'\n",
       "  * time         (time) timedelta64[ns] -1 days +23:59:59.515000 ... 00:00:40...\n",
       "  * v            (v) int32 0 1 2\n",
       "Data variables:\n",
       "    coordinates  (time, c) float64 20.0 -0.001147 4.001 ... 329.9 -0.09271 3.973\n",
       "    orientation  (v, c) float64 1.0 0.0 0.0 0.0 1.0 0.0 0.0 0.0 1.0"
      ]
     },
     "execution_count": 43,
     "metadata": {},
     "output_type": "execute_result"
    }
   ],
   "source": [
    "csm.get_cs(\"TCP\",\"workpiece\")"
   ]
  },
  {
   "cell_type": "markdown",
   "id": "offshore-kentucky",
   "metadata": {
    "slideshow": {
     "slide_type": "skip"
    }
   },
   "source": [
    "### Add geometry data to CSM\n",
    "\n",
    "For advanced visualization using the `k3d` backend we attach some 3D data to the `CoordinateSystemManager`"
   ]
  },
  {
   "cell_type": "code",
   "execution_count": 44,
   "id": "contrary-smooth",
   "metadata": {
    "slideshow": {
     "slide_type": "skip"
    }
   },
   "outputs": [],
   "source": [
    "geometry_full_width = create_geometry(groove, seam_length, Q_(100, \"mm\"))\n",
    "spatial_data_geo_full = geometry_full_width.spatial_data(\n",
    "    profile_raster_width=Q_(4, \"mm\"), trace_raster_width=Q_(60, \"mm\")\n",
    ")\n",
    "spatial_data_geo_full.coordinates = spatial_data_geo_full.coordinates.astype(\"float32\")\n",
    "\n",
    "spatial_data_geo_reduced = geometry.spatial_data(\n",
    "    profile_raster_width=Q_(4, \"mm\"), trace_raster_width=Q_(60, \"mm\")\n",
    ")\n",
    "\n",
    "csm.assign_data(spatial_data_geo_full, \"workpiece geometry\", \"workpiece\")\n",
    "csm.assign_data(spatial_data_geo_reduced, \"workpiece geometry (reduced)\", \"workpiece\")"
   ]
  },
  {
   "cell_type": "markdown",
   "id": "thousand-superior",
   "metadata": {
    "slideshow": {
     "slide_type": "skip"
    }
   },
   "source": [
    "Adding 3D measurements of the actual pre- and post-weld workpiece geometry:\n",
    "\n",
    "*Note: the default scan data in `scans.asdf` are downsampled to limit memory usage. When running a local copy of the notebook the full dataset can be loaded from the file `scans_full.asdf`.*"
   ]
  },
  {
   "cell_type": "code",
   "execution_count": 45,
   "id": "removed-tooth",
   "metadata": {
    "slideshow": {
     "slide_type": "skip"
    }
   },
   "outputs": [],
   "source": [
    "with asdf.open(f\"./data/scans.asdf\") as af:\n",
    "    scans = af.tree\n",
    "    csm.assign_data(scans[\"scan_0\"], \"scan_0\", \"workpiece\")\n",
    "    csm.assign_data(scans[\"scan_1\"], \"scan_1\", \"workpiece\")"
   ]
  },
  {
   "cell_type": "markdown",
   "id": "structured-memory",
   "metadata": {
    "slideshow": {
     "slide_type": "skip"
    }
   },
   "source": [
    "We also add a 3D model of the welding wire and attach it to the `TCP` coordinate system. The wire model will follow the TCP movement."
   ]
  },
  {
   "cell_type": "code",
   "execution_count": 46,
   "id": "commercial-forth",
   "metadata": {
    "slideshow": {
     "slide_type": "skip"
    }
   },
   "outputs": [],
   "source": [
    "welding_wire_diameter = weldx_file[\"process\"][\"welding_wire\"][\"diameter\"].m\n",
    "csm.assign_data(\n",
    "    welding_wire_geo_data(welding_wire_diameter / 2, 17, 16), \"welding_wire\", \"TCP\"\n",
    ")"
   ]
  },
  {
   "cell_type": "markdown",
   "id": "descending-porter",
   "metadata": {
    "slideshow": {
     "slide_type": "skip"
    }
   },
   "source": [
    "The `weldx` API uses `k3d` for advanced 3D visualization.\n",
    "\n",
    "Here is an example visualization of the experiment design.\\\n",
    "The reconstruction is entierly based on the metadata stored inside the weldx file."
   ]
  },
  {
   "cell_type": "code",
   "execution_count": 47,
   "id": "material-transportation",
   "metadata": {
    "slideshow": {
     "slide_type": "subslide"
    }
   },
   "outputs": [
    {
     "data": {
      "application/vnd.jupyter.widget-view+json": {
       "model_id": "b483330c09ad4bc3b731d9333766eab7",
       "version_major": 2,
       "version_minor": 0
      },
      "text/plain": [
       "Output()"
      ]
     },
     "metadata": {},
     "output_type": "display_data"
    },
    {
     "data": {
      "application/vnd.jupyter.widget-view+json": {
       "model_id": "1c2b33452ebf48839bdf708b89f2291d",
       "version_major": 2,
       "version_minor": 0
      },
      "text/plain": [
       "VBox(children=(HBox(children=(IntSlider(value=0, description='Time:', max=5177), Play(value=0, max=5177), Drop…"
      ]
     },
     "metadata": {},
     "output_type": "display_data"
    },
    {
     "data": {
      "text/plain": [
       "<weldx.visualization.k3d_impl.CoordinateSystemManagerVisualizerK3D at 0x28ac97835e0>"
      ]
     },
     "execution_count": 47,
     "metadata": {},
     "output_type": "execute_result"
    }
   ],
   "source": [
    "csm.plot(\n",
    "    reference_system=\"workpiece\", coordinate_systems=[\"TCP design\", \"T1\", \"T2\"],\n",
    "    data_sets=[\"workpiece geometry\", \"welding_wire\"], colors=cs_colors,\n",
    "    show_data_labels=True, backend=\"k3d\",\n",
    ")"
   ]
  },
  {
   "cell_type": "markdown",
   "id": "logical-monroe",
   "metadata": {},
   "source": [
    "Here is the same visualization, this time using only actual measurement data for the plot.\n",
    "\n",
    "The `TCP` motion is taken from the robot recording of the actual TCP during welding operation.\\\n",
    "The workpiece data was obtained from a 3D scan of the workpiece data before and after welding. We can switch the pre- and post-weld scan data for the plot by selecting the corresponding datasets `scan_0` or `scan_1` in the following cell."
   ]
  },
  {
   "cell_type": "code",
   "execution_count": 48,
   "id": "secure-tulsa",
   "metadata": {
    "slideshow": {
     "slide_type": "subslide"
    }
   },
   "outputs": [
    {
     "data": {
      "application/vnd.jupyter.widget-view+json": {
       "model_id": "c1f10259e60049a38bc8205eb69fbd3d",
       "version_major": 2,
       "version_minor": 0
      },
      "text/plain": [
       "Output()"
      ]
     },
     "metadata": {},
     "output_type": "display_data"
    },
    {
     "data": {
      "application/vnd.jupyter.widget-view+json": {
       "model_id": "85dfe6dec21f431a8a3f72f426f02357",
       "version_major": 2,
       "version_minor": 0
      },
      "text/plain": [
       "VBox(children=(HBox(children=(IntSlider(value=0, description='Time:', max=5177), Play(value=0, max=5177), Drop…"
      ]
     },
     "metadata": {},
     "output_type": "display_data"
    },
    {
     "data": {
      "text/plain": [
       "<weldx.visualization.k3d_impl.CoordinateSystemManagerVisualizerK3D at 0x28ac96e0fd0>"
      ]
     },
     "execution_count": 48,
     "metadata": {},
     "output_type": "execute_result"
    }
   ],
   "source": [
    "csm.plot(\n",
    "    reference_system=\"workpiece\", coordinate_systems=[\"TCP\", \"T1\", \"T2\"],\n",
    "    data_sets=[\"scan_0\", \"welding_wire\"], colors=cs_colors,\n",
    "    show_data_labels=True, backend=\"k3d\",\n",
    ")"
   ]
  },
  {
   "cell_type": "markdown",
   "id": "modular-ultimate",
   "metadata": {
    "slideshow": {
     "slide_type": "skip"
    }
   },
   "source": [
    "## A small example\n",
    "\n",
    "What was the position of the welding process at a specific time (disturbance) of the experiment?"
   ]
  },
  {
   "cell_type": "code",
   "execution_count": 49,
   "id": "continuous-deployment",
   "metadata": {
    "slideshow": {
     "slide_type": "skip"
    }
   },
   "outputs": [
    {
     "data": {
      "image/png": "[encoded data removed]",
      "text/plain": [
       "<Figure size 432x288 with 1 Axes>"
      ]
     },
     "metadata": {},
     "output_type": "display_data"
    }
   ],
   "source": [
    "csm"
   ]
  },
  {
   "cell_type": "code",
   "execution_count": 50,
   "id": "female-large",
   "metadata": {
    "slideshow": {
     "slide_type": "skip"
    }
   },
   "outputs": [
    {
     "data": {
      "text/plain": [
       "<LocalCoordinateSystem>\n",
       "Dimensions:      (c: 3, time: 1, v: 3)\n",
       "Coordinates:\n",
       "  * c            (c) <U1 'x' 'y' 'z'\n",
       "  * time         (time) timedelta64[ns] 00:00:30\n",
       "  * v            (v) int32 0 1 2\n",
       "Data variables:\n",
       "    coordinates  (time, c) float64 249.3 -0.1068 3.973\n",
       "    orientation  (v, c) float64 1.0 0.0 0.0 0.0 1.0 0.0 0.0 0.0 1.0"
      ]
     },
     "execution_count": 50,
     "metadata": {},
     "output_type": "execute_result"
    }
   ],
   "source": [
    "csm.get_cs(\"TCP\",\"workpiece\",time=Q_(30,\"s\"))"
   ]
  },
  {
   "cell_type": "markdown",
   "id": "eight-royalty",
   "metadata": {
    "slideshow": {
     "slide_type": "skip"
    }
   },
   "source": [
    "## Equipment\n",
    "We can also look into the equipment data of the experiment."
   ]
  },
  {
   "cell_type": "code",
   "execution_count": 52,
   "id": "invisible-status",
   "metadata": {
    "slideshow": {
     "slide_type": "skip"
    }
   },
   "outputs": [
    {
     "data": {
      "application/json": [
       {
        "name": "HKS P1000-S3",
        "sources": [
         {
          "error": {
           "deviation": {
            "unit": "percent",
            "value": 0.1
           }
          },
          "name": "Current Sensor",
          "output_signal": {
           "signal_type": "analog",
           "unit": "V"
          }
         },
         {
          "error": {
           "deviation": {
            "unit": "percent",
            "value": 0.1
           }
          },
          "name": "Voltage Sensor",
          "output_signal": {
           "signal_type": "analog",
           "unit": "V"
          }
         }
        ],
        "transformations": []
       },
       {
        "name": "Beckhoff ELM3002-0000",
        "sources": [],
        "transformations": [
         {
          "error": {
           "deviation": {
            "unit": "percent",
            "value": 0.01
           }
          },
          "func": {
           "expression": "a*x + b",
           "parameters": {
            "a": {
             "unit": "1 / volt",
             "value": 3276.8
            },
            "b": {
             "unit": "dimensionless",
             "value": 0
            }
           }
          },
          "name": "AD current conversion",
          "type_transformation": "AD"
         },
         {
          "error": {
           "deviation": {
            "unit": "percent",
            "value": 0.01
           }
          },
          "func": {
           "expression": "a*x + b",
           "parameters": {
            "a": {
             "unit": "1 / volt",
             "value": 3276.8
            },
            "b": {
             "unit": "dimensionless",
             "value": 0
            }
           }
          },
          "name": "AD voltage conversion",
          "type_transformation": "AD"
         }
        ]
       },
       {
        "name": "Beckhoff EL3314-0010",
        "sources": [],
        "transformations": [
         {
          "error": {
           "deviation": {
            "unit": "microvolt",
            "value": 0.25
           }
          },
          "func": {
           "expression": "a*x",
           "parameters": {
            "a": {
             "unit": "1 / volt",
             "value": 1
            }
           }
          },
          "name": "AD temperature conversion T1",
          "type_transformation": "AD"
         },
         {
          "error": {
           "deviation": {
            "unit": "microvolt",
            "value": 0.25
           }
          },
          "func": {
           "expression": "a*x",
           "parameters": {
            "a": {
             "unit": "1 / volt",
             "value": 1
            }
           }
          },
          "name": "AD temperature conversion T2",
          "type_transformation": "AD"
         }
        ]
       }
      ],
      "text/plain": [
       "<IPython.core.display.JSON object>"
      ]
     },
     "execution_count": 52,
     "metadata": {
      "application/json": {
       "expanded": false,
       "root": "./data/single_pass_weld.asdf/equipment"
      }
     },
     "output_type": "execute_result"
    }
   ],
   "source": [
    "view_tree(filename, (\"equipment\",))"
   ]
  },
  {
   "cell_type": "code",
   "execution_count": null,
   "id": "hawaiian-lincoln",
   "metadata": {},
   "outputs": [],
   "source": []
  }
 ],
 "metadata": {
  "celltoolbar": "Slideshow",
  "kernelspec": {
   "display_name": "weldx",
   "language": "python",
   "name": "weldx"
  },
  "language_info": {
   "codemirror_mode": {
    "name": "ipython",
    "version": 3
   },
   "file_extension": ".py",
   "mimetype": "text/x-python",
   "name": "python",
   "nbconvert_exporter": "python",
   "pygments_lexer": "ipython3",
   "version": "3.9.4"
  },
  "rise": {
   "autolaunch": false,
   "footer": "<h3>IIW joint intermediate meeting C-I, C-IV, C-XII, SG-212 - 30.03.2021</h3>",
   "header": "<h1>WelDX - progress report on the welding data exchange format</h1>",
   "scroll": true,
   "theme": "white",
   "transition": "fade"
  }
 },
 "nbformat": 4,
 "nbformat_minor": 5
}
