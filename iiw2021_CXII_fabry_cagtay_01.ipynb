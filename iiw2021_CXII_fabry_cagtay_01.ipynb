{
 "cells": [
  {
   "cell_type": "markdown",
   "id": "behind-arrival",
   "metadata": {
    "slideshow": {
     "slide_type": "skip"
    }
   },
   "source": [
    "# IIW 2021 joint intermediate meeting C-I, C-IV, C-XII, SG-212\n",
    "This notebook is an extended interactive version of the `weldx` features and example dataset presented at the **2021 IIW joint intermediate meeting of C-I, C-IV, C-XII & SG-212**.\n",
    "\n",
    "The code of this notebook can be found here: https://github.com/BAMWelDX/IIW2021_joint_intermediate_CXII\n",
    "\n",
    "You can launch this notebook as an interactive binder session in your browser following this link: \\\n",
    "https://mybinder.org/v2/gh/BAMWelDX/IIW_2021_joint_intermediate_CXII/main?urlpath=lab/tree/iiw2021_CXII_fabry_cagtay_01.ipynb\n",
    "\n",
    "The `weldx` documentation and code is available online:\\\n",
    "https://weldx.readthedocs.io/en/latest/ \\\n",
    "https://github.com/BAMWelDX/weldx\n",
    "\n",
    "The `weldx` documentation and GitHub links for this specific code version `v0.3.3` can be found here:\\\n",
    "https://weldx.readthedocs.io/en/v0.3.3/index.html \\\n",
    "https://github.com/BAMWelDX/weldx/tree/v0.3.3\n",
    "\n"
   ]
  },
  {
   "cell_type": "markdown",
   "id": "hungarian-locator",
   "metadata": {
    "slideshow": {
     "slide_type": "skip"
    }
   },
   "source": [
    "## Process Video\n",
    "To give an ovierview of this welding example, here is a video recording of the welding experiment conducted at BAM.\n",
    "\n",
    "We can see the pre- and post-welding scan of the workpiece geometry as well as the position of the temperature measurements.\n",
    "\n",
    "<video controls src=\"./data/WID417.webm\" />"
   ]
  },
  {
   "cell_type": "markdown",
   "id": "informative-david",
   "metadata": {
    "slideshow": {
     "slide_type": "skip"
    }
   },
   "source": [
    "## Imports\n",
    "We start with some general python package imports used throughout this notebook."
   ]
  },
  {
   "cell_type": "code",
   "execution_count": 1,
   "id": "fleet-server",
   "metadata": {
    "slideshow": {
     "slide_type": "skip"
    }
   },
   "outputs": [],
   "source": [
    "import pprint\n",
    "from pathlib import Path\n",
    "\n",
    "import matplotlib.pyplot as plt\n",
    "import pandas as pd\n",
    "\n",
    "import asdf\n",
    "import weldx\n",
    "from weldx import Q_\n",
    "from weldx.asdf.util import asdf_json_repr\n",
    "\n",
    "pp = pprint.PrettyPrinter(indent=2)\n",
    "pprint = pp.pprint"
   ]
  },
  {
   "cell_type": "markdown",
   "id": "immune-loading",
   "metadata": {
    "slideshow": {
     "slide_type": "skip"
    }
   },
   "source": [
    "Some helper functions for this notebook are included in the `helpers.py` file."
   ]
  },
  {
   "cell_type": "code",
   "execution_count": 2,
   "id": "sexual-found",
   "metadata": {
    "slideshow": {
     "slide_type": "skip"
    }
   },
   "outputs": [],
   "source": [
    "from helpers import (\n",
    "    add_axis_labels_3d,\n",
    "    ax_setup,\n",
    "    build_base_csm,\n",
    "    create_geometry,\n",
    "    cs_colors,\n",
    "    plot_gmaw,\n",
    "    plot_measurements,\n",
    "    plot_signal,\n",
    "    welding_wire_geo_data,\n",
    "    ipympl_style\n",
    ")"
   ]
  },
  {
   "cell_type": "markdown",
   "id": "designing-minority",
   "metadata": {
    "slideshow": {
     "slide_type": "slide"
    }
   },
   "source": [
    "## opening the file\n",
    "To open and access the file contents we will use the `asdf` library to open the weldx example dataset.\n",
    "\n",
    "We define the ASDF filename that contains the data used for this notebook."
   ]
  },
  {
   "cell_type": "code",
   "execution_count": 3,
   "id": "polyphonic-laundry",
   "metadata": {
    "slideshow": {
     "slide_type": "-"
    }
   },
   "outputs": [],
   "source": [
    "filename = \"./data/single_pass_weld.asdf\""
   ]
  },
  {
   "cell_type": "markdown",
   "id": "systematic-database",
   "metadata": {
    "slideshow": {
     "slide_type": "skip"
    }
   },
   "source": [
    "To get an overview of the file contents we can use the `asdf_json_repr` function of the weldx library to create an interactive tree view.\n",
    "\n",
    "Try searching for a specific term like `wire_feedrate` using the ***Filter...*** box in the upper right."
   ]
  },
  {
   "cell_type": "code",
   "execution_count": 4,
   "id": "biological-madonna",
   "metadata": {
    "slideshow": {
     "slide_type": "skip"
    }
   },
   "outputs": [
    {
     "name": "stderr",
     "output_type": "stream",
     "text": [
      "<ipython-input-4-6b0caf934aed>:1: WeldxDeprecationWarning: Call to deprecated function asdf_json_repr.\n",
      "Deprecated since: 0.4.0\n",
      "Removed in: 0.5.0\n",
      " asdf_json_repr was renamed to view_tree\n",
      "  asdf_json_repr(filename)\n"
     ]
    },
    {
     "data": {
      "application/json": {
       "TCP": {
        "coordinates": {
         "data": {
          "byteorder": "little",
          "datatype": "float64",
          "shape": [
           "2",
           "3"
          ],
          "source": "4"
         },
         "dimensions": [
          "time",
          "c"
         ],
         "dtype": "<f8",
         "name": "coordinates"
        },
        "reference_time": {
         "value": "2021-03-17T11:06:42.334400"
        },
        "time": {
         "end": {
          "value": "P0DT0H0M41.333333333S"
         },
         "max": {
          "value": "P0DT0H0M41.333333333S"
         },
         "min": {
          "value": "P0DT0H0M0S"
         },
         "start": {
          "value": "P0DT0H0M0S"
         },
         "values": {
          "byteorder": "little",
          "datatype": "int64",
          "shape": [
           "2"
          ],
          "source": "5"
         }
        }
       },
       "asdf_library": {
        "author": "Space Telescope Science Institute",
        "homepage": "http://github.com/spacetelescope/asdf",
        "name": "asdf",
        "version": "2.7.3"
       },
       "coordinate_systems": {
        "coordinate_systems": [
         {
          "name": "user_frame",
          "reference_system": "workpiece",
          "transformation": {
           "coordinates": {
            "data": {
             "data": [
              "20.0",
              "-115.5",
              "8.0"
             ],
             "datatype": "float64",
             "shape": [
              "3"
             ]
            },
            "dimensions": [
             "c"
            ],
            "dtype": "<f8",
            "name": "coordinates"
           }
          }
         },
         {
          "name": "TCP",
          "reference_system": "user_frame",
          "transformation": {
           "coordinates": {
            "data": {
             "byteorder": "little",
             "datatype": "float64",
             "shape": [
              "5176",
              "3"
             ],
             "source": "6",
             "strides": [
              "8",
              "41408"
             ]
            },
            "dimensions": [
             "time",
             "c"
            ],
            "dtype": "<f8",
            "name": "coordinates"
           },
           "reference_time": {
            "value": "2021-03-17T11:06:41.849400"
           },
           "time": {
            "end": {
             "value": "P0DT0H0M41.4S"
            },
            "freq": "8L",
            "max": {
             "value": "P0DT0H0M41.4S"
            },
            "min": {
             "value": "P0DT0H0M0S"
            },
            "start": {
             "value": "P0DT0H0M0S"
            }
           }
          }
         },
         {
          "name": "TCP",
          "reference_system": "flange",
          "transformation": {
           "coordinates": {
            "data": {
             "data": [
              "-49.325",
              "-0.41",
              "477.208"
             ],
             "datatype": "float64",
             "shape": [
              "3"
             ]
            },
            "dimensions": [
             "c"
            ],
            "dtype": "<f8",
            "name": "coordinates"
           },
           "orientations": {
            "data": {
             "data": [
              [
               "0.9267336773751215",
               "0.013819064325030852",
               "0.3754646783386755"
              ],
              [
               "0.016515967820919346",
               "-0.999855739167001",
               "-0.003965307270386556"
              ],
              [
               "0.37535571665517864",
               "0.009875946333941035",
               "-0.9268282212245625"
              ]
             ],
             "datatype": "float64",
             "shape": [
              "3",
              "3"
             ]
            },
            "dimensions": [
             "c",
             "v"
            ],
            "dtype": "<f8",
            "name": "orientations"
           }
          }
         },
         {
          "name": "LLT_1",
          "reference_system": "flange",
          "transformation": {
           "coordinates": {
            "data": {
             "data": [
              "-47.25",
              "0.2",
              "516.75"
             ],
             "datatype": "float64",
             "shape": [
              "3"
             ]
            },
            "dimensions": [
             "c"
            ],
            "dtype": "<f8",
            "name": "coordinates"
           },
           "orientations": {
            "data": {
             "data": [
              [
               "0.9267343612134203",
               "0.013816681174916207",
               "0.37546307816836594"
              ],
              [
               "0.016514362037814815",
               "-0.9998557560537017",
               "-0.003967736478724144"
              ],
              [
               "0.375354098942369",
               "0.009877570935778363",
               "-0.9268288590670722"
              ]
             ],
             "datatype": "float64",
             "shape": [
              "3",
              "3"
             ]
            },
            "dimensions": [
             "c",
             "v"
            ],
            "dtype": "<f8",
            "name": "orientations"
           }
          }
         },
         {
          "name": "XIRIS_1",
          "reference_system": "flange",
          "transformation": {
           "coordinates": {
            "data": {
             "data": [
              "-49.325",
              "-0.41",
              "477.208"
             ],
             "datatype": "float64",
             "shape": [
              "3"
             ]
            },
            "dimensions": [
             "c"
            ],
            "dtype": "<f8",
            "name": "coordinates"
           },
           "orientations": {
            "data": {
             "data": [
              [
               "0.38980655948248927",
               "0.01382002085303293",
               "0.9207930566680259"
              ],
              [
               "0.014483631368437009",
               "-0.999855717313102",
               "0.008875188938022706"
              ],
              [
               "0.9207828574679309",
               "0.009876820334708339",
               "-0.38995048123225595"
              ]
             ],
             "datatype": "float64",
             "shape": [
              "3",
              "3"
             ]
            },
            "dimensions": [
             "c",
             "v"
            ],
            "dtype": "<f8",
            "name": "orientations"
           }
          }
         },
         {
          "name": "TCP design",
          "reference_system": "workpiece",
          "transformation": {
           "coordinates": {
            "data": {
             "byteorder": "little",
             "datatype": "float64",
             "shape": [
              "2",
              "3"
             ],
             "source": "7"
            },
            "dimensions": [
             "time",
             "c"
            ],
            "dtype": "<f8",
            "name": "coordinates"
           },
           "time": {
            "end": {
             "value": "P0DT0H0M41.333333333S"
            },
            "max": {
             "value": "P0DT0H0M41.333333333S"
            },
            "min": {
             "value": "P0DT0H0M0S"
            },
            "start": {
             "value": "P0DT0H0M0S"
            },
            "values": {
             "byteorder": "little",
             "datatype": "int64",
             "shape": [
              "2"
             ],
             "source": "8"
            }
           }
          }
         },
         {
          "name": "T1",
          "reference_system": "workpiece",
          "transformation": {
           "coordinates": {
            "data": {
             "data": [
              "175.0",
              "8.0",
              "8.0"
             ],
             "datatype": "float64",
             "shape": [
              "3"
             ]
            },
            "dimensions": [
             "c"
            ],
            "dtype": "<f8",
            "name": "coordinates"
           }
          }
         },
         {
          "name": "T2",
          "reference_system": "T1",
          "transformation": {
           "coordinates": {
            "data": {
             "data": [
              "0.0",
              "5.0",
              "0.0"
             ],
             "datatype": "float64",
             "shape": [
              "3"
             ]
            },
            "dimensions": [
             "c"
            ],
            "dtype": "<f8",
            "name": "coordinates"
           }
          }
         }
        ],
        "name": "Robot Trace",
        "reference_time": {
         "value": "2021-03-17T11:06:42.334400"
        },
        "root_system_name": "user_frame",
        "subsystem_names": [
         "TOOL config",
         "TCP trace design"
        ],
        "subsystems": [
         {
          "members": [
           "XIRIS_1",
           "TCP",
           "flange",
           "LLT_1"
          ],
          "name": "TOOL config",
          "parent_system": "Robot Trace",
          "root_cs": "flange",
          "subsystem_names": []
         },
         {
          "members": [
           "user_frame",
           "workpiece",
           "TCP design",
           "T1",
           "T2"
          ],
          "name": "TCP trace design",
          "parent_system": "Robot Trace",
          "root_cs": "workpiece",
          "subsystem_names": []
         }
        ]
       },
       "equipment": [
        {
         "data_transformations": [
          {
           "error": {
            "deviation": {
             "unit": "percent",
             "value": "0.01"
            }
           },
           "func": {
            "expression": "a*x + b",
            "parameters": {
             "a": {
              "unit": "1 / volt",
              "value": "3276.8"
             },
             "b": {
              "unit": "dimensionless",
              "value": "0.0"
             }
            }
           },
           "input_signal": {
            "signal_type": "analog",
            "unit": "V"
           },
           "name": "AD voltage conversion",
           "output_signal": {
            "signal_type": "digital",
            "unit": ""
           }
          }
         ],
         "name": "HKS P1000-S3",
         "sources": [
          {
           "error": {
            "deviation": {
             "unit": "percent",
             "value": "0.1"
            }
           },
           "name": "Voltage Sensor",
           "output_signal": {
            "signal_type": "analog",
            "unit": "V"
           }
          }
         ]
        },
        {
         "data_transformations": [
          {
           "error": {
            "deviation": {
             "unit": "percent",
             "value": "0.01"
            }
           },
           "func": {
            "expression": "a*x + b",
            "parameters": {
             "a": {
              "unit": "1 / volt",
              "value": "3276.8"
             },
             "b": {
              "unit": "dimensionless",
              "value": "0.0"
             }
            }
           },
           "input_signal": {
            "signal_type": "analog",
            "unit": "V"
           },
           "name": "AD current conversion",
           "output_signal": {
            "signal_type": "digital",
            "unit": ""
           }
          }
         ],
         "name": "Beckhoff ELM3002-0000",
         "sources": []
        },
        {
         "data_transformations": [
          {
           "error": {
            "deviation": {
             "unit": "microvolt",
             "value": "0.25"
            }
           },
           "input_signal": {
            "signal_type": "analog",
            "unit": "V"
           },
           "name": "AD temperature conversion",
           "output_signal": {
            "signal_type": "digital",
            "unit": ""
           }
          },
          {
           "error": {
            "deviation": {
             "unit": "microvolt",
             "value": "0.25"
            }
           },
           "input_signal": {
            "signal_type": "analog",
            "unit": "V"
           },
           "name": "AD temperature conversion",
           "output_signal": {
            "signal_type": "digital",
            "unit": ""
           }
          }
         ],
         "name": "Beckhoff EL3314-0010",
         "sources": []
        }
       ],
       "history": {
        "extensions": [
         {
          "extension_class": "weldx.asdf.extension.WeldxExtension",
          "software": {
           "name": "weldx",
           "version": "0.3.1"
          }
         },
         {
          "extension_class": "weldx.asdf.extension.WeldxAsdfExtension",
          "software": {
           "name": "weldx",
           "version": "0.3.1"
          }
         },
         {
          "extension_class": "asdf.extension.BuiltinExtension",
          "software": {
           "name": "asdf",
           "version": "2.7.3"
          }
         }
        ]
       },
       "measurements": [
        {
         "data": [
          {
           "data": {
            "attributes": {
             "BitMask": "0xffffffffffffffff",
             "DataType": "INT16",
             "IndexGroup": "61488",
             "IndexOffset": "128",
             "NetID": "10.0.10.30.1.1",
             "Offset": "0.0",
             "Port": "27908",
             "SampleTime": "0.1",
             "ScaleFactor": "0.030517578125",
             "StartTimeUTC": "2021-03-17 11:05:06.236400",
             "StartTimeUTC_fmt": "%Y-%m-%d %H:%M:%S.%f",
             "SymbolBased": "1",
             "SymbolComment": "",
             "SymbolName": "Term 3 (ELM3002-0000).PAI Samples16 1 Channel 1.Samples",
             "TimeUnit": "ms",
             "Unit": "(None)",
             "Unit_Offset": "0",
             "Unit_ScaleFactor": "1",
             "VariableSize": "2",
             "count": "1380191.0",
             "max": "652.618408203125",
             "mean": "107.62234256768798",
             "min": "-0.30517578125",
             "p25": "-0.152587890625",
             "p50": "-0.091552734375",
             "p75": "188.629150390625",
             "std": "180.9386612025"
            },
            "coordinates": [
             {
              "data": {
               "byteorder": "little",
               "datatype": "int64",
               "shape": [
                "414091"
               ],
               "source": "0"
              },
              "dimensions": [
               "time"
              ],
              "dtype": "<M8[ns]",
              "name": "time"
             }
            ],
            "data": {
             "data": {
              "byteorder": "little",
              "datatype": "float64",
              "shape": [
               "414091"
              ],
              "source": "1"
             },
             "dimensions": [
              "time"
             ],
             "dtype": "<f8",
             "name": "data"
            }
           },
           "name": "Welding current"
          }
         ],
         "measurement_chain": {
          "data_processors": [
           {
            "error": {
             "deviation": {
              "unit": "percent",
              "value": "0.01"
             }
            },
            "func": {
             "expression": "a*x + b",
             "parameters": {
              "a": {
               "unit": "1 / volt",
               "value": "3276.8"
              },
              "b": {
               "unit": "dimensionless",
               "value": "0.0"
              }
             }
            },
            "input_signal": {
             "signal_type": "analog",
             "unit": "V"
            },
            "name": "AD current conversion",
            "output_signal": {
             "signal_type": "digital",
             "unit": ""
            }
           },
           {
            "error": {
             "deviation": "0.0"
            },
            "func": {
             "expression": "a*x + b",
             "parameters": {
              "a": {
               "unit": "ampere",
               "value": "0.030517578125"
              },
              "b": {
               "unit": "ampere",
               "value": "0.0"
              }
             }
            },
            "input_signal": {
             "signal_type": "digital",
             "unit": ""
            },
            "meta": {
             "name": "Beckhoff TwinCAT ScopeView",
             "version": "3.4.3143"
            },
            "name": "current calibration",
            "output_signal": {
             "data": {
              "data": {
               "attributes": {
                "BitMask": "0xffffffffffffffff",
                "DataType": "INT16",
                "IndexGroup": "61488",
                "IndexOffset": "128",
                "NetID": "10.0.10.30.1.1",
                "Offset": "0.0",
                "Port": "27908",
                "SampleTime": "0.1",
                "ScaleFactor": "0.030517578125",
                "StartTimeUTC": "2021-03-17 11:05:06.236400",
                "StartTimeUTC_fmt": "%Y-%m-%d %H:%M:%S.%f",
                "SymbolBased": "1",
                "SymbolComment": "",
                "SymbolName": "Term 3 (ELM3002-0000).PAI Samples16 1 Channel 1.Samples",
                "TimeUnit": "ms",
                "Unit": "(None)",
                "Unit_Offset": "0",
                "Unit_ScaleFactor": "1",
                "VariableSize": "2",
                "count": "1380191.0",
                "max": "652.618408203125",
                "mean": "107.62234256768798",
                "min": "-0.30517578125",
                "p25": "-0.152587890625",
                "p50": "-0.091552734375",
                "p75": "188.629150390625",
                "std": "180.9386612025"
               },
               "coordinates": [
                {
                 "data": {
                  "byteorder": "little",
                  "datatype": "int64",
                  "shape": [
                   "414091"
                  ],
                  "source": "0"
                 },
                 "dimensions": [
                  "time"
                 ],
                 "dtype": "<M8[ns]",
                 "name": "time"
                }
               ],
               "data": {
                "data": {
                 "byteorder": "little",
                 "datatype": "float64",
                 "shape": [
                  "414091"
                 ],
                 "source": "1"
                },
                "dimensions": [
                 "time"
                ],
                "dtype": "<f8",
                "name": "data"
               }
              },
              "name": "Welding current"
             },
             "signal_type": "digital",
             "unit": "A"
            }
           }
          ],
          "data_source": {
           "error": {
            "deviation": {
             "unit": "percent",
             "value": "0.1"
            }
           },
           "name": "Current Sensor",
           "output_signal": {
            "signal_type": "analog",
            "unit": "V"
           }
          },
          "name": "welding current measurement chain"
         },
         "name": "welding current measurement"
        },
        {
         "data": [
          {
           "data": {
            "attributes": {
             "BitMask": "0xffffffffffffffff",
             "DataType": "INT16",
             "IndexGroup": "61488",
             "IndexOffset": "134",
             "NetID": "10.0.10.30.1.1",
             "Offset": "0.0",
             "Port": "27908",
             "SampleTime": "0.1",
             "ScaleFactor": "0.0030517578125",
             "StartTimeUTC": "2021-03-17 11:05:06.236400",
             "StartTimeUTC_fmt": "%Y-%m-%d %H:%M:%S.%f",
             "SymbolBased": "1",
             "SymbolComment": "",
             "SymbolName": "Term 3 (ELM3002-0000).PAI Samples16 1 Channel 2.Samples",
             "TimeUnit": "ms",
             "Unit": "(None)",
             "Unit_Offset": "0",
             "Unit_ScaleFactor": "1",
             "VariableSize": "2",
             "count": "1380191.0",
             "max": "69.6868896484375",
             "mean": "9.190082095457882",
             "min": "-0.2288818359375",
             "p25": "-0.1220703125",
             "p50": "-0.115966796875",
             "p75": "24.627685546875",
             "std": "14.837536693145362"
            },
            "coordinates": [
             {
              "data": {
               "byteorder": "little",
               "datatype": "int64",
               "shape": [
                "414091"
               ],
               "source": "2"
              },
              "dimensions": [
               "time"
              ],
              "dtype": "<M8[ns]",
              "name": "time"
             }
            ],
            "data": {
             "data": {
              "byteorder": "little",
              "datatype": "float64",
              "shape": [
               "414091"
              ],
              "source": "3"
             },
             "dimensions": [
              "time"
             ],
             "dtype": "<f8",
             "name": "data"
            }
           },
           "name": "Welding voltage"
          }
         ],
         "measurement_chain": {
          "data_processors": [
           {
            "error": {
             "deviation": {
              "unit": "percent",
              "value": "0.01"
             }
            },
            "func": {
             "expression": "a*x + b",
             "parameters": {
              "a": {
               "unit": "1 / volt",
               "value": "3276.8"
              },
              "b": {
               "unit": "dimensionless",
               "value": "0.0"
              }
             }
            },
            "input_signal": {
             "signal_type": "analog",
             "unit": "V"
            },
            "name": "AD voltage conversion",
            "output_signal": {
             "signal_type": "digital",
             "unit": ""
            }
           },
           {
            "error": {
             "deviation": "0.0"
            },
            "func": {
             "expression": "a*x + b",
             "parameters": {
              "a": {
               "unit": "volt",
               "value": "0.0030517578125"
              },
              "b": {
               "unit": "volt",
               "value": "0.0"
              }
             }
            },
            "input_signal": {
             "signal_type": "digital",
             "unit": ""
            },
            "meta": {
             "name": "Beckhoff TwinCAT ScopeView",
             "version": "3.4.3143"
            },
            "name": "voltage calibration",
            "output_signal": {
             "data": {
              "data": {
               "attributes": {
                "BitMask": "0xffffffffffffffff",
                "DataType": "INT16",
                "IndexGroup": "61488",
                "IndexOffset": "134",
                "NetID": "10.0.10.30.1.1",
                "Offset": "0.0",
                "Port": "27908",
                "SampleTime": "0.1",
                "ScaleFactor": "0.0030517578125",
                "StartTimeUTC": "2021-03-17 11:05:06.236400",
                "StartTimeUTC_fmt": "%Y-%m-%d %H:%M:%S.%f",
                "SymbolBased": "1",
                "SymbolComment": "",
                "SymbolName": "Term 3 (ELM3002-0000).PAI Samples16 1 Channel 2.Samples",
                "TimeUnit": "ms",
                "Unit": "(None)",
                "Unit_Offset": "0",
                "Unit_ScaleFactor": "1",
                "VariableSize": "2",
                "count": "1380191.0",
                "max": "69.6868896484375",
                "mean": "9.190082095457882",
                "min": "-0.2288818359375",
                "p25": "-0.1220703125",
                "p50": "-0.115966796875",
                "p75": "24.627685546875",
                "std": "14.837536693145362"
               },
               "coordinates": [
                {
                 "data": {
                  "byteorder": "little",
                  "datatype": "int64",
                  "shape": [
                   "414091"
                  ],
                  "source": "2"
                 },
                 "dimensions": [
                  "time"
                 ],
                 "dtype": "<M8[ns]",
                 "name": "time"
                }
               ],
               "data": {
                "data": {
                 "byteorder": "little",
                 "datatype": "float64",
                 "shape": [
                  "414091"
                 ],
                 "source": "3"
                },
                "dimensions": [
                 "time"
                ],
                "dtype": "<f8",
                "name": "data"
               }
              },
              "name": "Welding voltage"
             },
             "signal_type": "digital",
             "unit": "V"
            }
           }
          ],
          "data_source": {
           "error": {
            "deviation": {
             "unit": "percent",
             "value": "0.1"
            }
           },
           "name": "Voltage Sensor",
           "output_signal": {
            "signal_type": "analog",
            "unit": "V"
           }
          },
          "name": "welding voltage measurement chain"
         },
         "name": "welding voltage measurement"
        },
        {
         "data": [
          {
           "data": {
            "attributes": {
             "BitMask": "0xffffffffffffffff",
             "DataType": "INT32",
             "IndexGroup": "61488",
             "IndexOffset": "512",
             "NetID": "10.0.10.30.1.1",
             "Offset": "0.0",
             "Port": "27906",
             "SampleTime": "1.0",
             "ScaleFactor": "0.01",
             "StartTimeUTC": "2021-03-17 11:05:40.131400",
             "StartTimeUTC_fmt": "%Y-%m-%d %H:%M:%S.%f",
             "SymbolBased": "1",
             "SymbolComment": "",
             "SymbolName": "Term 6 (EL3314-0010).TC Inputs Channel 1.Value",
             "TimeUnit": "ms",
             "Unit": "°C (Temperature)",
             "Unit_Offset": "0",
             "Unit_ScaleFactor": "1",
             "VariableSize": "4",
             "count": "459092.0",
             "max": "773.63",
             "mean": "214.43706013172044",
             "min": "95.9",
             "p25": "129.15",
             "p50": "152.67000000000002",
             "p75": "240.28",
             "std": "148.72171816494935"
            },
            "coordinates": [
             {
              "data": {
               "byteorder": "little",
               "datatype": "int64",
               "shape": [
                "459092"
               ],
               "source": "9"
              },
              "dimensions": [
               "time"
              ],
              "dtype": "<M8[ns]",
              "name": "time"
             }
            ],
            "data": {
             "data": {
              "byteorder": "little",
              "datatype": "float64",
              "shape": [
               "459092"
              ],
              "source": "10"
             },
             "dimensions": [
              "time"
             ],
             "dtype": "<f8",
             "name": "data"
            }
           },
           "name": "T1"
          }
         ],
         "measurement_chain": {
          "data_processors": [
           {
            "error": {
             "deviation": {
              "unit": "microvolt",
              "value": "0.25"
             }
            },
            "input_signal": {
             "signal_type": "analog",
             "unit": "V"
            },
            "name": "AD temperature conversion",
            "output_signal": {
             "signal_type": "digital",
             "unit": ""
            }
           },
           {
            "error": {
             "deviation": "0.0"
            },
            "func": {
             "expression": "a*x",
             "parameters": {
              "a": {
               "unit": "degree_Celsius",
               "value": "0.1"
              }
             }
            },
            "input_signal": {
             "signal_type": "digital",
             "unit": ""
            },
            "meta": {
             "name": "Beckhoff TwinCAT ScopeView",
             "version": "3.4.3143"
            },
            "name": "temperature conversion",
            "output_signal": {
             "data": {
              "data": {
               "attributes": {
                "BitMask": "0xffffffffffffffff",
                "DataType": "INT32",
                "IndexGroup": "61488",
                "IndexOffset": "512",
                "NetID": "10.0.10.30.1.1",
                "Offset": "0.0",
                "Port": "27906",
                "SampleTime": "1.0",
                "ScaleFactor": "0.01",
                "StartTimeUTC": "2021-03-17 11:05:40.131400",
                "StartTimeUTC_fmt": "%Y-%m-%d %H:%M:%S.%f",
                "SymbolBased": "1",
                "SymbolComment": "",
                "SymbolName": "Term 6 (EL3314-0010).TC Inputs Channel 1.Value",
                "TimeUnit": "ms",
                "Unit": "°C (Temperature)",
                "Unit_Offset": "0",
                "Unit_ScaleFactor": "1",
                "VariableSize": "4",
                "count": "459092.0",
                "max": "773.63",
                "mean": "214.43706013172044",
                "min": "95.9",
                "p25": "129.15",
                "p50": "152.67000000000002",
                "p75": "240.28",
                "std": "148.72171816494935"
               },
               "coordinates": [
                {
                 "data": {
                  "byteorder": "little",
                  "datatype": "int64",
                  "shape": [
                   "459092"
                  ],
                  "source": "9"
                 },
                 "dimensions": [
                  "time"
                 ],
                 "dtype": "<M8[ns]",
                 "name": "time"
                }
               ],
               "data": {
                "data": {
                 "byteorder": "little",
                 "datatype": "float64",
                 "shape": [
                  "459092"
                 ],
                 "source": "10"
                },
                "dimensions": [
                 "time"
                ],
                "dtype": "<f8",
                "name": "data"
               }
              },
              "name": "T1"
             },
             "signal_type": "digital",
             "unit": "°C"
            }
           }
          ],
          "data_source": {
           "error": {
            "deviation": {
             "unit": "microvolt",
             "value": "0.25"
            }
           },
           "name": "Thermocouple T1",
           "output_signal": {
            "signal_type": "analog",
            "unit": "V"
           }
          },
          "name": "temperature measurement chain T1"
         },
         "name": "temperature measurement T1"
        },
        {
         "data": [
          {
           "data": {
            "attributes": {
             "BitMask": "0xffffffffffffffff",
             "DataType": "INT32",
             "IndexGroup": "61488",
             "IndexOffset": "518",
             "NetID": "10.0.10.30.1.1",
             "Offset": "0.0",
             "Port": "27906",
             "SampleTime": "1.0",
             "ScaleFactor": "0.01",
             "StartTimeUTC": "2021-03-17 11:05:40.131400",
             "StartTimeUTC_fmt": "%Y-%m-%d %H:%M:%S.%f",
             "SymbolBased": "1",
             "SymbolComment": "",
             "SymbolName": "Term 6 (EL3314-0010).TC Inputs Channel 2.Value",
             "TimeUnit": "ms",
             "Unit": "°C (Temperature)",
             "Unit_Offset": "0",
             "Unit_ScaleFactor": "1",
             "VariableSize": "4",
             "count": "459092.0",
             "max": "506.52",
             "mean": "192.16265145115514",
             "min": "93.28",
             "p25": "125.25",
             "p50": "147.6",
             "p75": "225.82",
             "std": "107.34071392656577"
            },
            "coordinates": [
             {
              "data": {
               "byteorder": "little",
               "datatype": "int64",
               "shape": [
                "459092"
               ],
               "source": "11"
              },
              "dimensions": [
               "time"
              ],
              "dtype": "<M8[ns]",
              "name": "time"
             }
            ],
            "data": {
             "data": {
              "byteorder": "little",
              "datatype": "float64",
              "shape": [
               "459092"
              ],
              "source": "12"
             },
             "dimensions": [
              "time"
             ],
             "dtype": "<f8",
             "name": "data"
            }
           },
           "name": "T2"
          }
         ],
         "measurement_chain": {
          "data_processors": [
           {
            "error": {
             "deviation": {
              "unit": "microvolt",
              "value": "0.25"
             }
            },
            "input_signal": {
             "signal_type": "analog",
             "unit": "V"
            },
            "name": "AD temperature conversion",
            "output_signal": {
             "signal_type": "digital",
             "unit": ""
            }
           },
           {
            "error": {
             "deviation": "0.0"
            },
            "func": {
             "expression": "a*x",
             "parameters": {
              "a": {
               "unit": "degree_Celsius",
               "value": "0.1"
              }
             }
            },
            "input_signal": {
             "signal_type": "digital",
             "unit": ""
            },
            "meta": {
             "name": "Beckhoff TwinCAT ScopeView",
             "version": "3.4.3143"
            },
            "name": "temperature conversion",
            "output_signal": {
             "data": {
              "data": {
               "attributes": {
                "BitMask": "0xffffffffffffffff",
                "DataType": "INT32",
                "IndexGroup": "61488",
                "IndexOffset": "518",
                "NetID": "10.0.10.30.1.1",
                "Offset": "0.0",
                "Port": "27906",
                "SampleTime": "1.0",
                "ScaleFactor": "0.01",
                "StartTimeUTC": "2021-03-17 11:05:40.131400",
                "StartTimeUTC_fmt": "%Y-%m-%d %H:%M:%S.%f",
                "SymbolBased": "1",
                "SymbolComment": "",
                "SymbolName": "Term 6 (EL3314-0010).TC Inputs Channel 2.Value",
                "TimeUnit": "ms",
                "Unit": "°C (Temperature)",
                "Unit_Offset": "0",
                "Unit_ScaleFactor": "1",
                "VariableSize": "4",
                "count": "459092.0",
                "max": "506.52",
                "mean": "192.16265145115514",
                "min": "93.28",
                "p25": "125.25",
                "p50": "147.6",
                "p75": "225.82",
                "std": "107.34071392656577"
               },
               "coordinates": [
                {
                 "data": {
                  "byteorder": "little",
                  "datatype": "int64",
                  "shape": [
                   "459092"
                  ],
                  "source": "11"
                 },
                 "dimensions": [
                  "time"
                 ],
                 "dtype": "<M8[ns]",
                 "name": "time"
                }
               ],
               "data": {
                "data": {
                 "byteorder": "little",
                 "datatype": "float64",
                 "shape": [
                  "459092"
                 ],
                 "source": "12"
                },
                "dimensions": [
                 "time"
                ],
                "dtype": "<f8",
                "name": "data"
               }
              },
              "name": "T2"
             },
             "signal_type": "digital",
             "unit": "°C"
            }
           }
          ],
          "data_source": {
           "error": {
            "deviation": {
             "unit": "microvolt",
             "value": "0.25"
            }
           },
           "name": "Thermocouple T2",
           "output_signal": {
            "signal_type": "analog",
            "unit": "V"
           }
          },
          "name": "temperature measurement chain T2"
         },
         "name": "temperature measurement T2"
        }
       ],
       "process": {
        "shielding_gas": {
         "torch_shielding_gas": {
          "common_name": "corgon 18",
          "gas_component": [
           {
            "gas_chemical_name": "argon",
            "gas_percentage": {
             "unit": "percent",
             "value": "82"
            }
           },
           {
            "gas_chemical_name": "carbon dioxide",
            "gas_percentage": {
             "unit": "percent",
             "value": "18"
            }
           }
          ]
         },
         "torch_shielding_gas_flowrate": {
          "unit": "liter / minute",
          "value": "20"
         },
         "use_torch_shielding_gas": "true"
        },
        "weld_speed": {
         "unit": "centimeter / minute",
         "value": "45"
        },
        "welding_process": {
         "base_process": "pulse",
         "manufacturer": "Fronius",
         "parameters": {
          "base_voltage": {
           "unit": "volt",
           "value": "25"
          },
          "pulse_current": {
           "unit": "ampere",
           "value": "480"
          },
          "pulse_duration": {
           "unit": "millisecond",
           "value": "4"
          },
          "pulse_frequency": {
           "unit": "hertz",
           "value": "200"
          },
          "wire_feedrate": {
           "unit": "meter / minute",
           "value": "12"
          }
         },
         "power_source": "TPS 500i",
         "tag": "GMAW"
        },
        "welding_wire": {
         "class": "G 42 2 C/M G4Si1",
         "diameter": {
          "unit": "millimeter",
          "value": "1.2"
         },
         "wx_user": {
          "charge id": "00349764",
          "manufacturer": "WDI"
         }
        }
       },
       "reference_timestamp": {
        "value": "2021-03-17T11:06:42.334400"
       },
       "welding_current": {
        "data": {
         "data": {
          "attributes": {
           "BitMask": "0xffffffffffffffff",
           "DataType": "INT16",
           "IndexGroup": "61488",
           "IndexOffset": "128",
           "NetID": "10.0.10.30.1.1",
           "Offset": "0.0",
           "Port": "27908",
           "SampleTime": "0.1",
           "ScaleFactor": "0.030517578125",
           "StartTimeUTC": "2021-03-17 11:05:06.236400",
           "StartTimeUTC_fmt": "%Y-%m-%d %H:%M:%S.%f",
           "SymbolBased": "1",
           "SymbolComment": "",
           "SymbolName": "Term 3 (ELM3002-0000).PAI Samples16 1 Channel 1.Samples",
           "TimeUnit": "ms",
           "Unit": "(None)",
           "Unit_Offset": "0",
           "Unit_ScaleFactor": "1",
           "VariableSize": "2",
           "count": "1380191.0",
           "max": "652.618408203125",
           "mean": "107.62234256768798",
           "min": "-0.30517578125",
           "p25": "-0.152587890625",
           "p50": "-0.091552734375",
           "p75": "188.629150390625",
           "std": "180.9386612025"
          },
          "coordinates": [
           {
            "data": {
             "byteorder": "little",
             "datatype": "int64",
             "shape": [
              "414091"
             ],
             "source": "0"
            },
            "dimensions": [
             "time"
            ],
            "dtype": "<M8[ns]",
            "name": "time"
           }
          ],
          "data": {
           "data": {
            "byteorder": "little",
            "datatype": "float64",
            "shape": [
             "414091"
            ],
            "source": "1"
           },
           "dimensions": [
            "time"
           ],
           "dtype": "<f8",
           "name": "data"
          }
         },
         "name": "Welding current"
        },
        "signal_type": "digital",
        "unit": "A"
       },
       "welding_voltage": {
        "data": {
         "data": {
          "attributes": {
           "BitMask": "0xffffffffffffffff",
           "DataType": "INT16",
           "IndexGroup": "61488",
           "IndexOffset": "134",
           "NetID": "10.0.10.30.1.1",
           "Offset": "0.0",
           "Port": "27908",
           "SampleTime": "0.1",
           "ScaleFactor": "0.0030517578125",
           "StartTimeUTC": "2021-03-17 11:05:06.236400",
           "StartTimeUTC_fmt": "%Y-%m-%d %H:%M:%S.%f",
           "SymbolBased": "1",
           "SymbolComment": "",
           "SymbolName": "Term 3 (ELM3002-0000).PAI Samples16 1 Channel 2.Samples",
           "TimeUnit": "ms",
           "Unit": "(None)",
           "Unit_Offset": "0",
           "Unit_ScaleFactor": "1",
           "VariableSize": "2",
           "count": "1380191.0",
           "max": "69.6868896484375",
           "mean": "9.190082095457882",
           "min": "-0.2288818359375",
           "p25": "-0.1220703125",
           "p50": "-0.115966796875",
           "p75": "24.627685546875",
           "std": "14.837536693145362"
          },
          "coordinates": [
           {
            "data": {
             "byteorder": "little",
             "datatype": "int64",
             "shape": [
              "414091"
             ],
             "source": "2"
            },
            "dimensions": [
             "time"
            ],
            "dtype": "<M8[ns]",
            "name": "time"
           }
          ],
          "data": {
           "data": {
            "byteorder": "little",
            "datatype": "float64",
            "shape": [
             "414091"
            ],
            "source": "3"
           },
           "dimensions": [
            "time"
           ],
           "dtype": "<f8",
           "name": "data"
          }
         },
         "name": "Welding voltage"
        },
        "signal_type": "digital",
        "unit": "V"
       },
       "workpiece": {
        "base_metal": {
         "common_name": "S355J2+N",
         "standard": "DIN EN 10225-2:2011"
        },
        "geometry": {
         "groove_shape": {
          "alpha": {
           "unit": "degree",
           "value": "45"
          },
          "b": {
           "unit": "millimeter",
           "value": "1"
          },
          "c": {
           "unit": "millimeter",
           "value": "1"
          },
          "code_number": [
           "1.3",
           "1.5"
          ],
          "t": {
           "unit": "millimeter",
           "value": "8"
          }
         },
         "seam_length": {
          "unit": "millimeter",
          "value": "350"
         }
        }
       },
       "wx_user": {
        "WID": "417",
        "operator": "C. Schippereit",
        "project": "WelDX presentation"
       }
      },
      "text/plain": [
       "<IPython.core.display.JSON object>"
      ]
     },
     "execution_count": 4,
     "metadata": {
      "application/json": {
       "expanded": false,
       "root": "./data/single_pass_weld.asdf/"
      }
     },
     "output_type": "execute_result"
    }
   ],
   "source": [
    "asdf_json_repr(filename)"
   ]
  },
  {
   "cell_type": "markdown",
   "id": "altered-crash",
   "metadata": {
    "slideshow": {
     "slide_type": "skip"
    }
   },
   "source": [
    "The file is expected to validate against the schema `single_pass_weld-1.0.0.schema.yaml`.\\\n",
    "The details describing the schema requirements can be found here: https://weldx.readthedocs.io/en/v0.3.3/generated/weldx.bam.de/weldx/datamodels/single_pass_weld-1.0.0.schema.html"
   ]
  },
  {
   "cell_type": "code",
   "execution_count": null,
   "id": "spectacular-korean",
   "metadata": {
    "slideshow": {
     "slide_type": "skip"
    }
   },
   "outputs": [],
   "source": [
    "file_schema = (\n",
    "    Path(weldx.__path__[0])\n",
    "    / Path(\n",
    "        \"./asdf/schemas/weldx.bam.de/weldx/datamodels/single_pass_weld-1.0.0.schema.yaml\"\n",
    "    ).as_posix()\n",
    ")"
   ]
  },
  {
   "cell_type": "markdown",
   "id": "martial-hampshire",
   "metadata": {
    "slideshow": {
     "slide_type": "subslide"
    }
   },
   "source": [
    "We open the weldx file and run a validation agains the `single_pass_weld-1.0.0.schema.yaml` schema.\\\n",
    "The validation ensures that all elements of the weldx file pass the requirements defined in the schema, including:\n",
    "- all requirement entries are present in the file:\n",
    "  - `workpiece`\n",
    "  - `TCP`\n",
    "  - `welding_current`\n",
    "  - `welding_voltage`\n",
    "  - `measurement chains`\n",
    "  - `equipment`\n",
    "- all entries and objects stored in the file have the correct type\n",
    "- all additional restrictions defined in `single_pass_weld-1.0.0.schema.yaml` are met"
   ]
  },
  {
   "cell_type": "code",
   "execution_count": null,
   "id": "fatal-blues",
   "metadata": {},
   "outputs": [],
   "source": [
    "with asdf.open(filename, custom_schema=file_schema) as asdf_file:\n",
    "    weldx_file = asdf_file.tree"
   ]
  },
  {
   "cell_type": "markdown",
   "id": "dirty-wilson",
   "metadata": {
    "slideshow": {
     "slide_type": "slide"
    }
   },
   "source": [
    "## general metadata\n",
    "First let's look at some general simple metadata stored in the WelDX-file.\n",
    "\n",
    "The (optional) `reference_timestamp` field is used to indicate the start time of the experiment (the moment of arc ignition). All time data that is not given as absolute time are interpreted as relative to the given reference time."
   ]
  },
  {
   "cell_type": "code",
   "execution_count": null,
   "id": "excellent-france",
   "metadata": {
    "slideshow": {
     "slide_type": "-"
    }
   },
   "outputs": [],
   "source": [
    "weldx_file.get(\"reference_timestamp\")"
   ]
  },
  {
   "cell_type": "markdown",
   "id": "sweet-doubt",
   "metadata": {
    "slideshow": {
     "slide_type": "skip"
    }
   },
   "source": [
    "We can deduce the total runtime of the experiment from the TCP movement of the welding."
   ]
  },
  {
   "cell_type": "code",
   "execution_count": null,
   "id": "italic-hardwood",
   "metadata": {
    "slideshow": {
     "slide_type": "skip"
    }
   },
   "outputs": [],
   "source": [
    "pd.TimedeltaIndex(weldx_file[\"TCP\"].time)"
   ]
  },
  {
   "cell_type": "markdown",
   "id": "informal-american",
   "metadata": {},
   "source": [
    "The WelDX standard introduces the `wx_user` field to store user specific content."
   ]
  },
  {
   "cell_type": "code",
   "execution_count": null,
   "id": "interpreted-horror",
   "metadata": {
    "slideshow": {
     "slide_type": "-"
    }
   },
   "outputs": [],
   "source": [
    "weldx_file.get(\"wx_user\")"
   ]
  },
  {
   "cell_type": "markdown",
   "id": "super-colonial",
   "metadata": {},
   "source": [
    "We define a time index from start to end of the experiment."
   ]
  },
  {
   "cell_type": "code",
   "execution_count": null,
   "id": "expired-illness",
   "metadata": {
    "slideshow": {
     "slide_type": "skip"
    }
   },
   "outputs": [],
   "source": [
    "t = pd.TimedeltaIndex(weldx_file[\"TCP\"].time[[0, -1]])"
   ]
  },
  {
   "cell_type": "markdown",
   "id": "traditional-possible",
   "metadata": {
    "slideshow": {
     "slide_type": "slide"
    }
   },
   "source": [
    "## workpiece definition\n",
    "The file schema mandates that the user provides workpiece information with the following properties:\n",
    "- `base_metal` referenced by a common name and the associated standard\n",
    "- the `geometry` consisting of a groove description following ISO 9692-1 and the seam length"
   ]
  },
  {
   "cell_type": "markdown",
   "id": "vietnamese-examination",
   "metadata": {
    "slideshow": {
     "slide_type": "skip"
    }
   },
   "source": [
    "Here is how this information is stored the `workpiece` entry of the example dataset weldx file:\n",
    "```yaml\n",
    "workpiece:\n",
    "  base_metal: {common_name: 'S355J2+N', standard: 'DIN EN 10225-2:2011'}\n",
    "  geometry:\n",
    "    groove_shape: !<tag:weldx.bam.de:weldx/groove/iso_9692_1_2013_12/VGroove-1.0.0>\n",
    "      t: !unit/quantity-1.1.0 {unit: millimeter, value: 8}\n",
    "      alpha: !unit/quantity-1.1.0 {unit: degree, value: 45}\n",
    "      b: !unit/quantity-1.1.0 {unit: millimeter, value: 1}\n",
    "      c: !unit/quantity-1.1.0 {unit: millimeter, value: 1}\n",
    "    seam_length: !unit/quantity-1.1.0 {unit: millimeter, value: 350}\n",
    "```"
   ]
  },
  {
   "cell_type": "markdown",
   "id": "possible-eating",
   "metadata": {
    "slideshow": {
     "slide_type": "subslide"
    },
    "tags": []
   },
   "source": [
    "### workpiece material\n",
    "\n",
    "Since we know exactly where to find the information in the file, we can access the metadata directly for all files that validate against the file schema."
   ]
  },
  {
   "cell_type": "code",
   "execution_count": null,
   "id": "sacred-watch",
   "metadata": {},
   "outputs": [],
   "source": [
    "weldx_file[\"workpiece\"][\"base_metal\"][\"common_name\"]"
   ]
  },
  {
   "cell_type": "code",
   "execution_count": null,
   "id": "fundamental-brand",
   "metadata": {},
   "outputs": [],
   "source": [
    "weldx_file[\"workpiece\"][\"base_metal\"][\"standard\"]"
   ]
  },
  {
   "cell_type": "markdown",
   "id": "blind-extreme",
   "metadata": {
    "slideshow": {
     "slide_type": "fragment"
    }
   },
   "source": [
    "### seam length\n",
    "\n",
    "The total seam length of the workpiece is also stored.\\\n",
    "As throughout most of the functionality of the `weldx` API, physical units must be used where appropriate to avoid ambiguity."
   ]
  },
  {
   "cell_type": "code",
   "execution_count": null,
   "id": "sunset-amsterdam",
   "metadata": {},
   "outputs": [],
   "source": [
    "seam_length = weldx_file[\"workpiece\"][\"geometry\"][\"seam_length\"]\n",
    "print(seam_length)"
   ]
  },
  {
   "cell_type": "markdown",
   "id": "willing-telephone",
   "metadata": {
    "slideshow": {
     "slide_type": "subslide"
    }
   },
   "source": [
    "### welding groove\n",
    "\n",
    "The groove shape will be loaded into a specific weldx type:"
   ]
  },
  {
   "cell_type": "code",
   "execution_count": null,
   "id": "crucial-tours",
   "metadata": {},
   "outputs": [],
   "source": [
    "groove = weldx_file[\"workpiece\"][\"geometry\"][\"groove_shape\"]\n",
    "str(groove)"
   ]
  },
  {
   "cell_type": "markdown",
   "id": "numerical-license",
   "metadata": {
    "slideshow": {
     "slide_type": "skip"
    }
   },
   "source": [
    "The `weldx` API includes convinient functions to create and visualize different welding groove shapes.\\\n",
    "Many examples and details are available in this tutorial: https://weldx.readthedocs.io/en/v0.3.3/tutorials/groove_types_01.html"
   ]
  },
  {
   "cell_type": "markdown",
   "id": "western-genre",
   "metadata": {
    "slideshow": {
     "slide_type": "subslide"
    }
   },
   "source": [
    "To get a picture of the groove shape we can simply call the `plot` function."
   ]
  },
  {
   "cell_type": "code",
   "execution_count": null,
   "id": "tight-aging",
   "metadata": {},
   "outputs": [],
   "source": [
    "groove.plot()\n",
    "fig = plt.gcf(); fig.set_size_inches(7, 7);"
   ]
  },
  {
   "cell_type": "markdown",
   "id": "crucial-presence",
   "metadata": {
    "slideshow": {
     "slide_type": "subslide"
    }
   },
   "source": [
    "### 3D Geometry\n",
    "With all the metadata of the workpiece available, it is easy to visualize a simple 3D model of the specimen."
   ]
  },
  {
   "cell_type": "code",
   "execution_count": null,
   "id": "exterior-oriental",
   "metadata": {},
   "outputs": [],
   "source": [
    "geometry = create_geometry(groove, seam_length, Q_(10, \"mm\"))\n",
    "geometry.plot(profile_raster_width=Q_(4, \"mm\"), trace_raster_width=Q_(60, \"mm\"))\n",
    "ax_setup(plt.gca())\n",
    "fig = plt.gcf()\n",
    "fig.set_size_inches(7, 7)"
   ]
  },
  {
   "cell_type": "markdown",
   "id": "sonic-department",
   "metadata": {
    "slideshow": {
     "slide_type": "skip"
    }
   },
   "source": [
    "## Welding TCP movement description\n",
    "\n",
    "The path of the welding wire along the weld seam is given by the `TCP` property.\n",
    "\n",
    "The weld path is a linear movement between two points at a constant weld speed. The TCP reference frame is the workpiece base coordinate system, starting at the beginning of the weld seam. The x-axis coordinates will indicate the start- and end-point of the welding process along the workpiece length. The y- and z-coordinates determine the position of the TCP in relation to the cross-sectional groove plane.\n",
    "\n",
    "The information is stored in a [LocalCoordinateSystem](https://weldx.readthedocs.io/en/v0.3.3/_autosummary/weldx.transformations.LocalCoordinateSystem.html#weldx.transformations.LocalCoordinateSystem) instance with two points and the start and end time relative to the `reference_timestamp`.\n",
    "\n",
    "The YAML section of the weldx file describing the TCP movement looks like this:\n",
    "\n",
    "```yaml\n",
    "TCP: !<tag:weldx.bam.de:weldx/core/transformations/local_coordinate_system-1.0.0>\n",
    "  reference_time: !<tag:weldx.bam.de:weldx/time/timestamp-1.0.0> {value: '2021-03-17T11:06:42.334400'}\n",
    "  time: !<tag:weldx.bam.de:weldx/time/timedeltaindex-1.0.0>\n",
    "    values: !core/ndarray-1.0.0\n",
    "      data: [0, 41333333333]\n",
    "      datatype: int64\n",
    "      shape: [2]\n",
    "    start: !<tag:weldx.bam.de:weldx/time/timedelta-1.0.0> {value: 'P0DT0H0M0S'}\n",
    "    end: !<tag:weldx.bam.de:weldx/time/timedelta-1.0.0> {value: 'P0DT0H0M41.333333333S'}\n",
    "  coordinates: !<tag:weldx.bam.de:weldx/core/variable-1.0.0>\n",
    "    name: coordinates\n",
    "    dimensions: [time, c]\n",
    "    dtype: <f8\n",
    "    data: !core/ndarray-1.0.0\n",
    "      data:\n",
    "      - [20.0, 0.0, 3.0]\n",
    "      - [330.0, 0.0, 3.0]\n",
    "      datatype: float64\n",
    "      shape: [2, 3]\n",
    "```\n",
    "\n",
    "The `data` section of the coordiantes describe the start end end point in 3D space: `[20.0, 0.0, 3.0]` to `[330.0, 0.0, 3.0]` .\n",
    "Therefor the welded part of the workpiece will extend from 20 mm to 330 mm of the joint. The offset in z-direction is 3 mm from the workpiece bottom."
   ]
  },
  {
   "cell_type": "markdown",
   "id": "sonic-browse",
   "metadata": {
    "slideshow": {
     "slide_type": "subslide"
    }
   },
   "source": [
    "We can create a `CoordinateSystemManager` instance and add the movement of the welding TCP to the geometry plot:"
   ]
  },
  {
   "cell_type": "code",
   "execution_count": null,
   "id": "fifty-lighting",
   "metadata": {},
   "outputs": [],
   "source": [
    "csm_base = build_base_csm(weldx_file, plot=False)\n",
    "csm_base.plot(\n",
    "    reference_system=\"workpiece\", coordinate_systems=[\"TCP weld\"],\n",
    "    data_sets=[\"workpiece (simple)\"], colors=cs_colors,\n",
    "    show_wireframe=True, show_data_labels=False, show_vectors=False,\n",
    ")\n",
    "ax_setup(plt.gca())"
   ]
  },
  {
   "cell_type": "markdown",
   "id": "arctic-funds",
   "metadata": {
    "slideshow": {
     "slide_type": "slide"
    }
   },
   "source": [
    "## Process description\n",
    "The arc welding process must be defined using the following properties:\n",
    "```yaml\n",
    "process:\n",
    "  type: object\n",
    "  properties:\n",
    "    welding_process:\n",
    "      $ref: \"http://weldx.bam.de/schemas/weldx/process/GMAW-1.0.0\"\n",
    "    shielding_gas:\n",
    "      tag: \"tag:weldx.bam.de:weldx/aws/process/shielding_gas_for_procedure-1.0.0\"\n",
    "    weld_speed:\n",
    "      ...\n",
    "    welding_wire:\n",
    "      ...\n",
    "  required: [welding_process, shielding_gas, weld_speed, welding_wire]\n",
    "```\n",
    "\n",
    "We can store the process property in a new variable:"
   ]
  },
  {
   "cell_type": "code",
   "execution_count": null,
   "id": "sound-robinson",
   "metadata": {
    "slideshow": {
     "slide_type": "skip"
    }
   },
   "outputs": [],
   "source": [
    "process = weldx_file[\"process\"]"
   ]
  },
  {
   "cell_type": "markdown",
   "id": "unavailable-dream",
   "metadata": {
    "slideshow": {
     "slide_type": "skip"
    }
   },
   "source": [
    "The weld speed is restricted to a constant value of dimension \"[length]/[time]\"\n",
    "```yaml\n",
    "weld_speed:\n",
    "  tag: \"tag:weldx.bam.de:weldx/core/time_series-1.0.0\"\n",
    "  wx_unit: \"m/s\"\n",
    "  wx_shape: [1]\n",
    "```"
   ]
  },
  {
   "cell_type": "code",
   "execution_count": null,
   "id": "reasonable-karma",
   "metadata": {
    "slideshow": {
     "slide_type": "subslide"
    }
   },
   "outputs": [],
   "source": [
    "process[\"weld_speed\"].data.to(\"mm/s\")"
   ]
  },
  {
   "cell_type": "markdown",
   "id": "controversial-chile",
   "metadata": {},
   "source": [
    "The welding wire is described by the constant diameter and a string describing the classification.\n",
    "```yaml\n",
    "welding_wire:\n",
    "  type: object\n",
    "  properties:\n",
    "    diameter:\n",
    "      description: |\n",
    "        The diameter of the welding wire.\n",
    "      tag: \"tag:stsci.edu:asdf/unit/quantity-1.1.0\"\n",
    "      wx_unit: \"m\"\n",
    "      wx_shape: [1]\n",
    "    class:\n",
    "      type: string\n",
    "```\n",
    "\n",
    "Additional metadata can be stored in the `wx_user` field if necessary. In the example, a G4Si1 wire with 1.2 mm diameter was used. The manufacturer and charge number are also given."
   ]
  },
  {
   "cell_type": "code",
   "execution_count": null,
   "id": "backed-myrtle",
   "metadata": {
    "slideshow": {
     "slide_type": "fragment"
    }
   },
   "outputs": [],
   "source": [
    "process[\"welding_wire\"]"
   ]
  },
  {
   "cell_type": "markdown",
   "id": "injured-fraction",
   "metadata": {},
   "source": [
    "The shielding gas information consists of a common name and the gas mixture."
   ]
  },
  {
   "cell_type": "code",
   "execution_count": null,
   "id": "silent-wings",
   "metadata": {
    "slideshow": {
     "slide_type": "fragment"
    }
   },
   "outputs": [],
   "source": [
    "pprint(process[\"shielding_gas\"].torch_shielding_gas.__dict__)"
   ]
  },
  {
   "cell_type": "code",
   "execution_count": null,
   "id": "dietary-clearance",
   "metadata": {
    "slideshow": {
     "slide_type": "skip"
    }
   },
   "outputs": [],
   "source": [
    "# switch to static plots\n",
    "%matplotlib inline"
   ]
  },
  {
   "cell_type": "markdown",
   "id": "further-samuel",
   "metadata": {},
   "source": [
    "The `welding_process` describes the parameters set at the welding power source during the course of the experiment.\n",
    "\n",
    "Parameters are represented by a [`TimeSeries`](https://weldx.readthedocs.io/en/v0.3.3/tutorials/timeseries_01.html) object and can vary over time. In this example, all parameters are set to constant values."
   ]
  },
  {
   "cell_type": "code",
   "execution_count": null,
   "id": "alert-probe",
   "metadata": {
    "slideshow": {
     "slide_type": "subslide"
    }
   },
   "outputs": [],
   "source": [
    "gmaw_process = process[\"welding_process\"]\n",
    "fig, ax = plot_gmaw(gmaw_process, t)  "
   ]
  },
  {
   "cell_type": "markdown",
   "id": "bearing-publisher",
   "metadata": {
    "slideshow": {
     "slide_type": "slide"
    }
   },
   "source": [
    "## measurements\n",
    "We can list all measurements stored in the file."
   ]
  },
  {
   "cell_type": "code",
   "execution_count": null,
   "id": "after-upper",
   "metadata": {},
   "outputs": [],
   "source": [
    "for measurement in weldx_file[\"measurements\"]:\n",
    "    print(measurement.name)"
   ]
  },
  {
   "cell_type": "markdown",
   "id": "wrapped-richmond",
   "metadata": {},
   "source": [
    "We can also create a plot showing all signals stored in the measurement chains listed under `measurements`.\n",
    "\n",
    "In the example dataset the welding current and voltage are recorded during the welding process. The temperature-measurements are recorded before and after the welding experiment. Due to the use of reference times, all signals can be synchronized. "
   ]
  },
  {
   "cell_type": "code",
   "execution_count": null,
   "id": "violent-relationship",
   "metadata": {
    "slideshow": {
     "slide_type": "subslide"
    }
   },
   "outputs": [],
   "source": [
    "plot_measurements(weldx_file[\"measurements\"], ref_time=weldx_file[\"reference_timestamp\"])"
   ]
  },
  {
   "cell_type": "code",
   "execution_count": null,
   "id": "administrative-mortality",
   "metadata": {
    "slideshow": {
     "slide_type": "skip"
    }
   },
   "outputs": [],
   "source": [
    "# switch to interactive plots\n",
    "%matplotlib widget"
   ]
  },
  {
   "cell_type": "markdown",
   "id": "premium-large",
   "metadata": {
    "slideshow": {
     "slide_type": "skip"
    }
   },
   "source": [
    "Plot the voltage measurement:"
   ]
  },
  {
   "cell_type": "code",
   "execution_count": null,
   "id": "social-improvement",
   "metadata": {
    "slideshow": {
     "slide_type": "skip"
    }
   },
   "outputs": [],
   "source": [
    "plot_signal(weldx_file[\"welding_voltage\"])"
   ]
  },
  {
   "cell_type": "markdown",
   "id": "established-angle",
   "metadata": {
    "slideshow": {
     "slide_type": "subslide"
    }
   },
   "source": [
    "Plot the current meausurement:"
   ]
  },
  {
   "cell_type": "code",
   "execution_count": null,
   "id": "absent-mount",
   "metadata": {
    "slideshow": {
     "slide_type": "-"
    }
   },
   "outputs": [],
   "source": [
    "plot_signal(weldx_file[\"welding_current\"])"
   ]
  },
  {
   "cell_type": "markdown",
   "id": "alert-receipt",
   "metadata": {
    "slideshow": {
     "slide_type": "skip"
    }
   },
   "source": [
    "Here is a detailed look at the current waveform:"
   ]
  },
  {
   "cell_type": "code",
   "execution_count": null,
   "id": "virgin-width",
   "metadata": {
    "slideshow": {
     "slide_type": "skip"
    }
   },
   "outputs": [],
   "source": [
    "plot_signal(weldx_file[\"welding_current\"], limits=(23, 23.025))"
   ]
  },
  {
   "cell_type": "markdown",
   "id": "ideal-transsexual",
   "metadata": {
    "slideshow": {
     "slide_type": "slide"
    }
   },
   "source": [
    "## measurement chains\n",
    "To document how a welding related measurement was conducted, we can describe and store measurement chains using the `weldx` API.\n",
    "This includes:\n",
    "- describing the measurement equipment\n",
    "- describing multiple transformation steps from raw-data to the final measurement\n",
    "- providing information about measurement uncertainties and errors\n",
    "- attaching certification examples or similar files\n",
    "\n",
    "An in depth example describing measurement chains can be found in the documentation: [meassurement_example](https://weldx.readthedocs.io/en/v0.3.3/tutorials/measurement_example.html)"
   ]
  },
  {
   "cell_type": "markdown",
   "id": "tested-uruguay",
   "metadata": {
    "slideshow": {
     "slide_type": "skip"
    }
   },
   "source": [
    "### current measurement chain"
   ]
  },
  {
   "cell_type": "code",
   "execution_count": null,
   "id": "further-career",
   "metadata": {
    "slideshow": {
     "slide_type": "skip"
    }
   },
   "outputs": [],
   "source": [
    "current_measurement_chain = weldx_file[\"measurements\"][0].measurement_chain\n",
    "\n",
    "current_source = current_measurement_chain.data_source\n",
    "print(current_source.name)\n",
    "for processor in current_measurement_chain.data_processors:\n",
    "    print(processor.name)"
   ]
  },
  {
   "cell_type": "markdown",
   "id": "typical-cathedral",
   "metadata": {},
   "source": [
    "Each measurement chain object can be visualized with it's plot function. The squared nodes represent signals, the circular nodes show data that is present for a single signal. Transformation steps between signals are given with name and some info."
   ]
  },
  {
   "cell_type": "code",
   "execution_count": null,
   "id": "suitable-poison",
   "metadata": {
    "slideshow": {
     "slide_type": "subslide"
    }
   },
   "outputs": [],
   "source": [
    "fig, ax = plt.subplots(nrows=1, figsize=(12, 6))\n",
    "weldx_file[\"measurements\"][0].measurement_chain.plot(ax)\n",
    "ipympl_style(fig,toolbar=False)"
   ]
  },
  {
   "cell_type": "code",
   "execution_count": null,
   "id": "psychological-prize",
   "metadata": {
    "slideshow": {
     "slide_type": "skip"
    }
   },
   "outputs": [],
   "source": [
    "fig, ax = plt.subplots(nrows=1, figsize=(12, 6))\n",
    "weldx_file[\"measurements\"][1].measurement_chain.plot(ax)\n",
    "ipympl_style(fig,toolbar=False)"
   ]
  },
  {
   "cell_type": "code",
   "execution_count": null,
   "id": "correct-occasion",
   "metadata": {
    "slideshow": {
     "slide_type": "subslide"
    }
   },
   "outputs": [],
   "source": [
    "fig, ax = plt.subplots(nrows=1, figsize=(12, 6))\n",
    "weldx_file[\"measurements\"][2].measurement_chain.plot(ax)\n",
    "ipympl_style(fig,toolbar=False)"
   ]
  },
  {
   "cell_type": "markdown",
   "id": "violent-contest",
   "metadata": {
    "slideshow": {
     "slide_type": "slide"
    }
   },
   "source": [
    "## coordinate systems\n",
    "The `weldx` API contains multiple functions to describe dependencies and transformations between multiple different coordinate systems.\n",
    "\n",
    "- translations and rotations\n",
    "- constant and time dependent transformations\n",
    "- transformation between different systems\n",
    "- grouping multiple systems into subsystems\n",
    "- transforming spatial data between different coordinate systems\n",
    "- visualization of transformations and systems"
   ]
  },
  {
   "cell_type": "markdown",
   "id": "ambient-benjamin",
   "metadata": {
    "slideshow": {
     "slide_type": "skip"
    }
   },
   "source": [
    "There are multiple tutorials available covering coordinate transformations using the `LocalCoordinateSystem` and `CoordinateSystemManager` classes:\n",
    "\n",
    "- https://weldx.readthedocs.io/en/v0.3.3/tutorials/transformations_01_coordinate_systems.html\n",
    "- https://weldx.readthedocs.io/en/v0.3.3/tutorials/transformations_02_coordinate_system_manager.html\n",
    "- https://weldx.readthedocs.io/en/v0.3.3/tutorials/transformations_02_coordinate_system_manager.html#Visualizing-the-coordinate-systems-of-the-CSM\n",
    "- https://weldx.readthedocs.io/en/v0.3.3/tutorials/welding_example_02_weaving.html"
   ]
  },
  {
   "cell_type": "code",
   "execution_count": null,
   "id": "further-consistency",
   "metadata": {
    "slideshow": {
     "slide_type": "skip"
    }
   },
   "outputs": [],
   "source": [
    "# switch to static plots\n",
    "%matplotlib inline"
   ]
  },
  {
   "cell_type": "markdown",
   "id": "illegal-edinburgh",
   "metadata": {
    "slideshow": {
     "slide_type": "skip"
    }
   },
   "source": [
    "In addition to the simplified weldment specification, the example dataset contains the complete coordinate system information describing the BAM arc welding setup.\n",
    "\n",
    "- the definition of the reference user frame used for robot programming\n",
    "- the recorded actual TCP movement of the robot\n",
    "- the movement of a laser line scanner attached to the robot head"
   ]
  },
  {
   "cell_type": "markdown",
   "id": "engaging-expression",
   "metadata": {
    "slideshow": {
     "slide_type": "skip"
    }
   },
   "source": [
    "We can load the instance of the coordinate system manager directly from the weldx file.\\\n",
    "Following the file schema the data can be accessed under the key `coordinate_systems`."
   ]
  },
  {
   "cell_type": "code",
   "execution_count": null,
   "id": "chronic-romantic",
   "metadata": {
    "slideshow": {
     "slide_type": "skip"
    }
   },
   "outputs": [],
   "source": [
    "csm = weldx_file[\"coordinate_systems\"]"
   ]
  },
  {
   "cell_type": "markdown",
   "id": "complex-research",
   "metadata": {
    "slideshow": {
     "slide_type": "subslide"
    }
   },
   "source": [
    "We can visualize all loaded coordinate systems using the built-in `plot` functions."
   ]
  },
  {
   "cell_type": "code",
   "execution_count": null,
   "id": "recorded-parent",
   "metadata": {
    "slideshow": {
     "slide_type": "-"
    }
   },
   "outputs": [],
   "source": [
    "csm.plot_graph()\n",
    "plt.gcf().set_size_inches(w=6, h=6)"
   ]
  },
  {
   "cell_type": "markdown",
   "id": "purple-plymouth",
   "metadata": {
    "slideshow": {
     "slide_type": "skip"
    }
   },
   "source": [
    "Let's take another look at the weld specimen.\n",
    "\n",
    "<img src='./data/WID417_pre.JPG' width=\"640\" />"
   ]
  },
  {
   "cell_type": "markdown",
   "id": "technological-firmware",
   "metadata": {
    "slideshow": {
     "slide_type": "skip"
    }
   },
   "source": [
    "The workpiece coordinate system has it's origin located at the start of the workpiece at groove center. We can calculate the position of the thermocouple placement in the workpiece coordinate system."
   ]
  },
  {
   "cell_type": "code",
   "execution_count": null,
   "id": "considerable-linux",
   "metadata": {
    "slideshow": {
     "slide_type": "skip"
    }
   },
   "outputs": [],
   "source": [
    "csm.get_cs(\"T1\",\"user_frame\")"
   ]
  },
  {
   "cell_type": "markdown",
   "id": "adapted-crowd",
   "metadata": {
    "slideshow": {
     "slide_type": "skip"
    }
   },
   "source": [
    "The second thermocouple is offset by 5 mm from the first."
   ]
  },
  {
   "cell_type": "code",
   "execution_count": null,
   "id": "optimum-latitude",
   "metadata": {
    "slideshow": {
     "slide_type": "skip"
    }
   },
   "outputs": [],
   "source": [
    "csm.get_cs(\"T2\",\"T1\")"
   ]
  },
  {
   "cell_type": "markdown",
   "id": "encouraging-benefit",
   "metadata": {},
   "source": [
    "The following command will calculate the recorded robot TCP movement in reference to the workpiece coordinate system.\n",
    "Since the robot movement is time dependent, the result will be a time dependent coordiante system."
   ]
  },
  {
   "cell_type": "code",
   "execution_count": null,
   "id": "dress-pension",
   "metadata": {
    "slideshow": {
     "slide_type": "skip"
    }
   },
   "outputs": [],
   "source": [
    "csm.get_cs(\"TCP\",\"workpiece\")"
   ]
  },
  {
   "cell_type": "markdown",
   "id": "pursuant-couple",
   "metadata": {
    "slideshow": {
     "slide_type": "skip"
    }
   },
   "source": [
    "### Add geometry data to CSM\n",
    "\n",
    "For advanced visualization using the `k3d` backend we attach some 3D data to the `CoordinateSystemManager`"
   ]
  },
  {
   "cell_type": "code",
   "execution_count": null,
   "id": "planned-bankruptcy",
   "metadata": {
    "slideshow": {
     "slide_type": "skip"
    }
   },
   "outputs": [],
   "source": [
    "geometry_full_width = create_geometry(groove, seam_length, Q_(100, \"mm\"))\n",
    "spatial_data_geo_full = geometry_full_width.spatial_data(\n",
    "    profile_raster_width=Q_(4, \"mm\"), trace_raster_width=Q_(60, \"mm\")\n",
    ")\n",
    "spatial_data_geo_full.coordinates = spatial_data_geo_full.coordinates.astype(\"float32\")\n",
    "\n",
    "spatial_data_geo_reduced = geometry.spatial_data(\n",
    "    profile_raster_width=Q_(4, \"mm\"), trace_raster_width=Q_(60, \"mm\")\n",
    ")\n",
    "\n",
    "csm.assign_data(spatial_data_geo_full, \"workpiece geometry\", \"workpiece\")\n",
    "csm.assign_data(spatial_data_geo_reduced, \"workpiece geometry (reduced)\", \"workpiece\")"
   ]
  },
  {
   "cell_type": "markdown",
   "id": "surrounded-patent",
   "metadata": {
    "slideshow": {
     "slide_type": "skip"
    }
   },
   "source": [
    "Adding 3D measurements of the actual pre- and post-weld workpiece geometry:\n",
    "\n",
    "*Note: the default scan data in `scans.asdf` are downsampled to limit memory usage. When running a local copy of the notebook the full dataset can be loaded from the file `scans_full.asdf`.*"
   ]
  },
  {
   "cell_type": "code",
   "execution_count": null,
   "id": "characteristic-element",
   "metadata": {
    "slideshow": {
     "slide_type": "skip"
    }
   },
   "outputs": [],
   "source": [
    "with asdf.open(f\"./data/scans.asdf\") as af:\n",
    "    scans = af.tree\n",
    "    csm.assign_data(scans[\"scan_0\"], \"scan_0\", \"workpiece\")\n",
    "    csm.assign_data(scans[\"scan_1\"], \"scan_1\", \"workpiece\")"
   ]
  },
  {
   "cell_type": "markdown",
   "id": "encouraging-means",
   "metadata": {
    "slideshow": {
     "slide_type": "skip"
    }
   },
   "source": [
    "We also add a 3D model of the welding wire and attach it to the `TCP` coordinate system. The wire model will follow the TCP movement."
   ]
  },
  {
   "cell_type": "code",
   "execution_count": null,
   "id": "convenient-requirement",
   "metadata": {
    "slideshow": {
     "slide_type": "skip"
    }
   },
   "outputs": [],
   "source": [
    "welding_wire_diameter = weldx_file[\"process\"][\"welding_wire\"][\"diameter\"].m\n",
    "csm.assign_data(\n",
    "    welding_wire_geo_data(welding_wire_diameter / 2, 17, 16), \"welding_wire\", \"TCP\"\n",
    ")"
   ]
  },
  {
   "cell_type": "markdown",
   "id": "minute-memphis",
   "metadata": {
    "slideshow": {
     "slide_type": "skip"
    }
   },
   "source": [
    "The `weldx` API uses `k3d` for advanced 3D visualization.\n",
    "\n",
    "Here is an example visualization of the experiment design.\\\n",
    "The reconstruction is entierly based on the metadata stored inside the weldx file."
   ]
  },
  {
   "cell_type": "code",
   "execution_count": null,
   "id": "pressed-graphic",
   "metadata": {
    "slideshow": {
     "slide_type": "subslide"
    }
   },
   "outputs": [],
   "source": [
    "csm.plot(\n",
    "    reference_system=\"workpiece\", coordinate_systems=[\"TCP design\", \"T1\", \"T2\"],\n",
    "    data_sets=[\"workpiece geometry\", \"welding_wire\"], colors=cs_colors,\n",
    "    show_data_labels=True, backend=\"k3d\",\n",
    ")"
   ]
  },
  {
   "cell_type": "markdown",
   "id": "precise-aurora",
   "metadata": {},
   "source": [
    "Here is the same visualization, this time using only actual measurement data for the plot.\n",
    "\n",
    "The `TCP` motion is taken from the robot recording of the actual TCP during welding operation.\\\n",
    "The workpiece data was obtained from a 3D scan of the workpiece data before and after welding. We can switch the pre- and post-weld scan data for the plot by selecting the corresponding datasets `scan_0` or `scan_1` in the following cell."
   ]
  },
  {
   "cell_type": "code",
   "execution_count": null,
   "id": "empirical-prescription",
   "metadata": {
    "slideshow": {
     "slide_type": "subslide"
    }
   },
   "outputs": [],
   "source": [
    "csm.plot(\n",
    "    reference_system=\"workpiece\", coordinate_systems=[\"TCP\", \"T1\", \"T2\"],\n",
    "    data_sets=[\"scan_0\", \"welding_wire\"], colors=cs_colors,\n",
    "    show_data_labels=True, backend=\"k3d\",\n",
    ")"
   ]
  },
  {
   "cell_type": "markdown",
   "id": "alternate-provision",
   "metadata": {
    "slideshow": {
     "slide_type": "skip"
    }
   },
   "source": [
    "## A small example\n",
    "\n",
    "What was the position of the welding process at a specific time (disturbance) of the experiment?"
   ]
  },
  {
   "cell_type": "code",
   "execution_count": null,
   "id": "historical-insider",
   "metadata": {
    "slideshow": {
     "slide_type": "skip"
    }
   },
   "outputs": [],
   "source": [
    "csm"
   ]
  },
  {
   "cell_type": "code",
   "execution_count": null,
   "id": "specialized-terror",
   "metadata": {
    "slideshow": {
     "slide_type": "skip"
    }
   },
   "outputs": [],
   "source": [
    "csm.get_cs(\"TCP\",\"workpiece\",time=Q_(30,\"s\"))"
   ]
  },
  {
   "cell_type": "markdown",
   "id": "maritime-disposal",
   "metadata": {
    "slideshow": {
     "slide_type": "skip"
    }
   },
   "source": [
    "## Equipment\n",
    "We can also look into the equipment data of the experiment."
   ]
  },
  {
   "cell_type": "code",
   "execution_count": null,
   "id": "noted-mouth",
   "metadata": {
    "slideshow": {
     "slide_type": "skip"
    }
   },
   "outputs": [],
   "source": [
    "asdf_json_repr(filename, (\"equipment\",))"
   ]
  }
 ],
 "metadata": {
  "celltoolbar": "Slideshow",
  "kernelspec": {
   "display_name": "weldx",
   "language": "python",
   "name": "weldx"
  },
  "language_info": {
   "codemirror_mode": {
    "name": "ipython",
    "version": 3
   },
   "file_extension": ".py",
   "mimetype": "text/x-python",
   "name": "python",
   "nbconvert_exporter": "python",
   "pygments_lexer": "ipython3",
   "version": "3.8.8"
  },
  "rise": {
   "autolaunch": false,
   "footer": "<h3>IIW joint intermediate meeting C-I, C-IV, C-XII, SG-212 - 30.03.2021</h3>",
   "header": "<h1>WelDX - progress report on the welding data exchange format</h1>",
   "scroll": true,
   "theme": "white",
   "transition": "fade"
  }
 },
 "nbformat": 4,
 "nbformat_minor": 5
}
