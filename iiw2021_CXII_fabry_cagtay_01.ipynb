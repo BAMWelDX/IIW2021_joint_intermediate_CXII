{
 "cells": [
  {
   "cell_type": "markdown",
   "metadata": {
    "slideshow": {
     "slide_type": "skip"
    }
   },
   "source": [
    "# IIW 2021 joint intermediate meeting C-I, C-IV, C-XII, SG-212\n",
    "This notebook is an extended interactive version of the `weldx` features and example dataset presented at the **2021 IIW joint intermediate meeting of C-I, C-IV, C-XII & SG-212**.\n",
    "\n",
    "The code of this notebook can be found here: https://github.com/BAMWelDX/IIW2021_joint_intermediate_CXII\n",
    "\n",
    "You can launch this notebook as an interactive binder session in your browser following this link: \n",
    "https://mybinder.org/v2/gh/BAMWelDX/IIW_2021_joint_intermediate_CXII/main?urlpath=lab/tree/iiw2021_CXII_fabry_cagtay_01.ipynb\n",
    "\n",
    "The `weldx` documentation and code is available online:\\\n",
    "https://weldx.readthedocs.io/en/latest/ \\\n",
    "https://github.com/BAMWelDX/weldx\n",
    "\n",
    "The `weldx` documentation and GitHub links for this specific code version `v0.3.1` can be found here:\\\n",
    "https://weldx.readthedocs.io/en/v0.3.1/index.html \\\n",
    "https://github.com/BAMWelDX/weldx/tree/v0.3.1\n",
    "\n"
   ]
  },
  {
   "cell_type": "markdown",
   "metadata": {
    "slideshow": {
     "slide_type": "skip"
    }
   },
   "source": [
    "## Process Video\n",
    "To give an ovierview of this welding example, here is a video recording of the welding experiment conducted at BAM.\n",
    "\n",
    "We can see the pre- and post-welding scan of the workpiece geometry as well as the position of the temperature measurements.\n",
    "\n",
    "<video controls src=\"./data/WID417.webm\" />"
   ]
  },
  {
   "cell_type": "markdown",
   "metadata": {
    "slideshow": {
     "slide_type": "skip"
    }
   },
   "source": [
    "## Imports\n",
    "We start with some general python package imports used throughout this notebook."
   ]
  },
  {
   "cell_type": "code",
   "execution_count": null,
   "metadata": {
    "slideshow": {
     "slide_type": "skip"
    }
   },
   "outputs": [],
   "source": [
    "import pprint\n",
    "from pathlib import Path\n",
    "\n",
    "import matplotlib.pyplot as plt\n",
    "import pandas as pd\n",
    "\n",
    "import asdf\n",
    "import weldx\n",
    "from weldx import Q_\n",
    "from weldx.asdf.util import asdf_json_repr\n",
    "\n",
    "pp = pprint.PrettyPrinter(indent=2)\n",
    "pprint = pp.pprint"
   ]
  },
  {
   "cell_type": "markdown",
   "metadata": {
    "slideshow": {
     "slide_type": "skip"
    }
   },
   "source": [
    "Some helper functions for this notebook are included in the `helpers.py` file."
   ]
  },
  {
   "cell_type": "code",
   "execution_count": null,
   "metadata": {
    "slideshow": {
     "slide_type": "skip"
    }
   },
   "outputs": [],
   "source": [
    "from helpers import (\n",
    "    add_axis_labels_3d,\n",
    "    ax_setup,\n",
    "    build_base_csm,\n",
    "    create_geometry,\n",
    "    cs_colors,\n",
    "    plot_gmaw,\n",
    "    plot_measurements,\n",
    "    plot_signal,\n",
    "    welding_wire_geo_data,\n",
    "    ipympl_style\n",
    ")"
   ]
  },
  {
   "cell_type": "markdown",
   "metadata": {
    "slideshow": {
     "slide_type": "slide"
    }
   },
   "source": [
    "## opening the file\n",
    "To open and access the file contents we will use the `asdf` library to open the weldx example dataset.\n",
    "\n",
    "We define the ASDF filename that contains the data used for this notebook."
   ]
  },
  {
   "cell_type": "code",
   "execution_count": null,
   "metadata": {
    "slideshow": {
     "slide_type": "-"
    }
   },
   "outputs": [],
   "source": [
    "filename = \"./data/single_pass_weld.asdf\""
   ]
  },
  {
   "cell_type": "markdown",
   "metadata": {
    "slideshow": {
     "slide_type": "skip"
    }
   },
   "source": [
    "To get an overview of the file contents we can use the `asdf_json_repr` function of the weldx library to create an interactive tree view.\n",
    "\n",
    "Try searching for a specific term like `wire_feedrate` using the ***Filter...*** box in the upper right."
   ]
  },
  {
   "cell_type": "code",
   "execution_count": null,
   "metadata": {
    "slideshow": {
     "slide_type": "skip"
    }
   },
   "outputs": [],
   "source": [
    "asdf_json_repr(filename)"
   ]
  },
  {
   "cell_type": "markdown",
   "metadata": {
    "slideshow": {
     "slide_type": "skip"
    }
   },
   "source": [
    "The file is expected to validate against the schema `single_pass_weld-1.0.0.schema.yaml`.\n",
    "The details describing the schema requirements can be found here: https://weldx.readthedocs.io/en/v0.3.1/generated/weldx.bam.de/weldx/datamodels/single_pass_weld-1.0.0.schema.html"
   ]
  },
  {
   "cell_type": "code",
   "execution_count": null,
   "metadata": {
    "slideshow": {
     "slide_type": "skip"
    }
   },
   "outputs": [],
   "source": [
    "file_schema = (\n",
    "    Path(weldx.__path__[0])\n",
    "    / Path(\n",
    "        \"./asdf/schemas/weldx.bam.de/weldx/datamodels/single_pass_weld-1.0.0.schema.yaml\"\n",
    "    ).as_posix()\n",
    ")"
   ]
  },
  {
   "cell_type": "markdown",
   "metadata": {
    "slideshow": {
     "slide_type": "subslide"
    }
   },
   "source": [
    "We open the weldx file and run a validation agains the `single_pass_weld-1.0.0.schema.yaml` schema.\\\n",
    "The validation ensures that all elements of the weldx file pass the requirements defined in the schema, including:\n",
    "- all requirement entries are present in the file:\n",
    "  - `workpiece`\n",
    "  - `TCP`\n",
    "  - `welding_current`\n",
    "  - `welding_voltage`\n",
    "  - `measurement chains`\n",
    "  - `equipment`\n",
    "- all entries and objects stored in the file have the correct type\n",
    "- all additional restrictions defined in `single_pass_weld-1.0.0.schema.yaml` are met"
   ]
  },
  {
   "cell_type": "code",
   "execution_count": null,
   "metadata": {},
   "outputs": [],
   "source": [
    "with asdf.open(filename, custom_schema=file_schema) as asdf_file:\n",
    "    weldx_file = asdf_file.tree"
   ]
  },
  {
   "cell_type": "markdown",
   "metadata": {
    "slideshow": {
     "slide_type": "slide"
    }
   },
   "source": [
    "## general metadata\n",
    "First let's look at some general simple metadata stored in the WelDX-file.\n",
    "\n",
    "The `reference_timestamp` field is used to indicate the start time of the experiment (the moment of arc ignition). All time data that is not given as absolute time are interpreted as relative to the given reference time."
   ]
  },
  {
   "cell_type": "code",
   "execution_count": null,
   "metadata": {
    "slideshow": {
     "slide_type": "-"
    }
   },
   "outputs": [],
   "source": [
    "weldx_file.get(\"reference_timestamp\")"
   ]
  },
  {
   "cell_type": "markdown",
   "metadata": {
    "slideshow": {
     "slide_type": "skip"
    }
   },
   "source": [
    "We can deduce the total runtime of the experiment from the TCP movement of the welding."
   ]
  },
  {
   "cell_type": "code",
   "execution_count": null,
   "metadata": {
    "slideshow": {
     "slide_type": "skip"
    }
   },
   "outputs": [],
   "source": [
    "pd.TimedeltaIndex(weldx_file[\"TCP\"].time)"
   ]
  },
  {
   "cell_type": "code",
   "execution_count": null,
   "metadata": {
    "slideshow": {
     "slide_type": "-"
    }
   },
   "outputs": [],
   "source": [
    "weldx_file.get(\"wx_user\")"
   ]
  },
  {
   "cell_type": "code",
   "execution_count": null,
   "metadata": {
    "slideshow": {
     "slide_type": "skip"
    }
   },
   "outputs": [],
   "source": [
    "t = pd.TimedeltaIndex(weldx_file[\"TCP\"].time[[0, -1]])"
   ]
  },
  {
   "cell_type": "markdown",
   "metadata": {
    "slideshow": {
     "slide_type": "slide"
    }
   },
   "source": [
    "## workpiece definition\n",
    "The file schema mandates that the user provides workpiece information with the following properties:\n",
    "- `base_metal` referenced by a common name and the associated standard\n",
    "- the `geometry` consisting of a groove description following ISO 9692-1 and the seam length"
   ]
  },
  {
   "cell_type": "markdown",
   "metadata": {
    "slideshow": {
     "slide_type": "skip"
    }
   },
   "source": [
    "Here is how this information is stored the `workpiece` entry of the example dataset weldx file:\n",
    "```yaml\n",
    "workpiece:\n",
    "  base_metal: {common_name: 'S355J2+N', standard: 'DIN EN 10225-2:2011'}\n",
    "  geometry:\n",
    "    groove_shape: !<tag:weldx.bam.de:weldx/groove/iso_9692_1_2013_12/VGroove-1.0.0>\n",
    "      t: !unit/quantity-1.1.0 {unit: millimeter, value: 8}\n",
    "      alpha: !unit/quantity-1.1.0 {unit: degree, value: 45}\n",
    "      b: !unit/quantity-1.1.0 {unit: millimeter, value: 1}\n",
    "      c: !unit/quantity-1.1.0 {unit: millimeter, value: 1}\n",
    "    seam_length: !unit/quantity-1.1.0 {unit: millimeter, value: 350}\n",
    "```"
   ]
  },
  {
   "cell_type": "markdown",
   "metadata": {
    "slideshow": {
     "slide_type": "subslide"
    },
    "tags": []
   },
   "source": [
    "### workpiece material\n",
    "\n",
    "Since we know exactly where to find the information in the file, we can access the metadata directly for all files that validate against the file schema."
   ]
  },
  {
   "cell_type": "code",
   "execution_count": null,
   "metadata": {},
   "outputs": [],
   "source": [
    "weldx_file[\"workpiece\"][\"base_metal\"][\"common_name\"]"
   ]
  },
  {
   "cell_type": "code",
   "execution_count": null,
   "metadata": {},
   "outputs": [],
   "source": [
    "weldx_file[\"workpiece\"][\"base_metal\"][\"standard\"]"
   ]
  },
  {
   "cell_type": "markdown",
   "metadata": {
    "slideshow": {
     "slide_type": "fragment"
    }
   },
   "source": [
    "### seam length\n",
    "\n",
    "The total seam length of the workpiece is also stored.\\\n",
    "As throughout most of the functionality of the `weldx` API, physical units must be used where appropriate to avoid ambiguity."
   ]
  },
  {
   "cell_type": "code",
   "execution_count": null,
   "metadata": {},
   "outputs": [],
   "source": [
    "seam_length = weldx_file[\"workpiece\"][\"geometry\"][\"seam_length\"]\n",
    "print(seam_length)"
   ]
  },
  {
   "cell_type": "markdown",
   "metadata": {
    "slideshow": {
     "slide_type": "subslide"
    }
   },
   "source": [
    "### welding groove\n",
    "\n",
    "The groove shape will be loaded into a specific weldx type:"
   ]
  },
  {
   "cell_type": "code",
   "execution_count": null,
   "metadata": {},
   "outputs": [],
   "source": [
    "groove = weldx_file[\"workpiece\"][\"geometry\"][\"groove_shape\"]\n",
    "str(groove)"
   ]
  },
  {
   "cell_type": "markdown",
   "metadata": {
    "slideshow": {
     "slide_type": "skip"
    }
   },
   "source": [
    "The `weldx` API includes convinient functions to create and visualize different welding groove shapes.\\\n",
    "Many examples and details are available in this tutorial: https://weldx.readthedocs.io/en/v0.3.1/tutorials/groove_types_01.html"
   ]
  },
  {
   "cell_type": "markdown",
   "metadata": {
    "slideshow": {
     "slide_type": "subslide"
    }
   },
   "source": [
    "To get a picture of the groove shape we can simply call the `plot` function."
   ]
  },
  {
   "cell_type": "code",
   "execution_count": null,
   "metadata": {},
   "outputs": [],
   "source": [
    "groove.plot()\n",
    "fig = plt.gcf(); fig.set_size_inches(7, 7);"
   ]
  },
  {
   "cell_type": "markdown",
   "metadata": {
    "slideshow": {
     "slide_type": "subslide"
    }
   },
   "source": [
    "### 3D Geometry\n",
    "With all the metadata of the workpiece available, it is easy to visualize a simple 3D model of the specimen."
   ]
  },
  {
   "cell_type": "code",
   "execution_count": null,
   "metadata": {},
   "outputs": [],
   "source": [
    "geometry = create_geometry(groove, seam_length, Q_(10, \"mm\"))\n",
    "geometry.plot(profile_raster_width=Q_(4, \"mm\"), trace_raster_width=Q_(60, \"mm\"))\n",
    "ax_setup(plt.gca())\n",
    "fig = plt.gcf()\n",
    "fig.set_size_inches(7, 7)"
   ]
  },
  {
   "cell_type": "markdown",
   "metadata": {
    "slideshow": {
     "slide_type": "skip"
    }
   },
   "source": [
    "## Welding TCP movement description\n",
    "\n",
    "```yaml\n",
    "TCP: !<tag:weldx.bam.de:weldx/core/transformations/local_coordinate_system-1.0.0>\n",
    "  reference_time: !<tag:weldx.bam.de:weldx/time/timestamp-1.0.0> {value: '2021-03-17T11:06:42.334400'}\n",
    "  time: !<tag:weldx.bam.de:weldx/time/timedeltaindex-1.0.0>\n",
    "    values: !core/ndarray-1.0.0\n",
    "      data: [0, 41333333333]\n",
    "      datatype: int64\n",
    "      shape: [2]\n",
    "    start: !<tag:weldx.bam.de:weldx/time/timedelta-1.0.0> {value: 'P0DT0H0M0S'}\n",
    "    end: !<tag:weldx.bam.de:weldx/time/timedelta-1.0.0> {value: 'P0DT0H0M41.333333333S'}\n",
    "  coordinates: !<tag:weldx.bam.de:weldx/core/variable-1.0.0>\n",
    "    name: coordinates\n",
    "    dimensions: [time, c]\n",
    "    dtype: <f8\n",
    "    data: !core/ndarray-1.0.0\n",
    "      data:\n",
    "      - [20.0, 0.0, 3.0]\n",
    "      - [330.0, 0.0, 3.0]\n",
    "      datatype: float64\n",
    "      shape: [2, 3]\n",
    "```"
   ]
  },
  {
   "cell_type": "markdown",
   "metadata": {
    "slideshow": {
     "slide_type": "subslide"
    }
   },
   "source": [
    "We can add the movement of the welding TCP to the geometry plot:"
   ]
  },
  {
   "cell_type": "code",
   "execution_count": null,
   "metadata": {},
   "outputs": [],
   "source": [
    "csm_base = build_base_csm(weldx_file, plot=False)\n",
    "csm_base.plot(\n",
    "    reference_system=\"workpiece\", coordinate_systems=[\"TCP weld\"],\n",
    "    data_sets=[\"workpiece (simple)\"], colors=cs_colors,\n",
    "    show_wireframe=True, show_data_labels=False, show_vectors=False,\n",
    ")\n",
    "ax_setup(plt.gca())"
   ]
  },
  {
   "cell_type": "markdown",
   "metadata": {
    "slideshow": {
     "slide_type": "slide"
    }
   },
   "source": [
    "## Process description\n",
    "The arc welding process must be defined using the following properties:\n",
    "```yaml\n",
    "process:\n",
    "  type: object\n",
    "  properties:\n",
    "    welding_process:\n",
    "      $ref: \"http://weldx.bam.de/schemas/weldx/process/GMAW-1.0.0\"\n",
    "    shielding_gas:\n",
    "      tag: \"tag:weldx.bam.de:weldx/aws/process/shielding_gas_for_procedure-1.0.0\"\n",
    "    weld_speed:\n",
    "      ...\n",
    "    welding_wire:\n",
    "      ...\n",
    "  required: [welding_process, shielding_gas, weld_speed, welding_wire]\n",
    "```"
   ]
  },
  {
   "cell_type": "code",
   "execution_count": null,
   "metadata": {
    "slideshow": {
     "slide_type": "skip"
    }
   },
   "outputs": [],
   "source": [
    "process = weldx_file[\"process\"]\n",
    "process[\"welding_process\"].tag"
   ]
  },
  {
   "cell_type": "markdown",
   "metadata": {
    "slideshow": {
     "slide_type": "skip"
    }
   },
   "source": [
    "The weld speed is restricted to a constant value of dimension \"[length]/[time]\"\n",
    "```yaml\n",
    "weld_speed:\n",
    "  tag: \"tag:weldx.bam.de:weldx/core/time_series-1.0.0\"\n",
    "  wx_unit: \"m/s\"\n",
    "  wx_shape: [1]\n",
    "```"
   ]
  },
  {
   "cell_type": "code",
   "execution_count": null,
   "metadata": {
    "slideshow": {
     "slide_type": "subslide"
    }
   },
   "outputs": [],
   "source": [
    "process[\"weld_speed\"]"
   ]
  },
  {
   "cell_type": "code",
   "execution_count": null,
   "metadata": {
    "slideshow": {
     "slide_type": "fragment"
    }
   },
   "outputs": [],
   "source": [
    "process[\"welding_wire\"]"
   ]
  },
  {
   "cell_type": "code",
   "execution_count": null,
   "metadata": {
    "slideshow": {
     "slide_type": "fragment"
    }
   },
   "outputs": [],
   "source": [
    "pprint(process[\"shielding_gas\"].torch_shielding_gas.__dict__)"
   ]
  },
  {
   "cell_type": "code",
   "execution_count": null,
   "metadata": {
    "slideshow": {
     "slide_type": "skip"
    }
   },
   "outputs": [],
   "source": [
    "# switch to static plots\n",
    "%matplotlib inline"
   ]
  },
  {
   "cell_type": "code",
   "execution_count": null,
   "metadata": {
    "slideshow": {
     "slide_type": "subslide"
    }
   },
   "outputs": [],
   "source": [
    "gmaw_process = process[\"welding_process\"]\n",
    "fig, ax = plot_gmaw(gmaw_process, t)  "
   ]
  },
  {
   "cell_type": "markdown",
   "metadata": {
    "slideshow": {
     "slide_type": "slide"
    }
   },
   "source": [
    "## measurements\n",
    "list all measurements stored in the file"
   ]
  },
  {
   "cell_type": "code",
   "execution_count": null,
   "metadata": {},
   "outputs": [],
   "source": [
    "measurement_data = weldx_file[\"measurements\"]\n",
    "for measurement in measurement_data:\n",
    "    print(measurement.name)"
   ]
  },
  {
   "cell_type": "code",
   "execution_count": null,
   "metadata": {
    "slideshow": {
     "slide_type": "subslide"
    }
   },
   "outputs": [],
   "source": [
    "plot_measurements(measurement_data, ref_time=weldx_file[\"reference_timestamp\"])"
   ]
  },
  {
   "cell_type": "code",
   "execution_count": null,
   "metadata": {
    "slideshow": {
     "slide_type": "skip"
    }
   },
   "outputs": [],
   "source": [
    "# switch to interactive plots\n",
    "%matplotlib widget"
   ]
  },
  {
   "cell_type": "markdown",
   "metadata": {
    "slideshow": {
     "slide_type": "subslide"
    }
   },
   "source": [
    "Plot the current meausurement:"
   ]
  },
  {
   "cell_type": "code",
   "execution_count": null,
   "metadata": {
    "slideshow": {
     "slide_type": "-"
    }
   },
   "outputs": [],
   "source": [
    "plot_signal(weldx_file[\"welding_current\"])"
   ]
  },
  {
   "cell_type": "markdown",
   "metadata": {
    "slideshow": {
     "slide_type": "skip"
    }
   },
   "source": [
    "Plot the voltage measurement:"
   ]
  },
  {
   "cell_type": "code",
   "execution_count": null,
   "metadata": {
    "slideshow": {
     "slide_type": "skip"
    }
   },
   "outputs": [],
   "source": [
    "plot_signal(weldx_file[\"welding_voltage\"])"
   ]
  },
  {
   "cell_type": "markdown",
   "metadata": {
    "slideshow": {
     "slide_type": "skip"
    }
   },
   "source": [
    "Plot a section of the current measurement:"
   ]
  },
  {
   "cell_type": "code",
   "execution_count": null,
   "metadata": {
    "slideshow": {
     "slide_type": "skip"
    }
   },
   "outputs": [],
   "source": [
    "plot_signal(weldx_file[\"welding_current\"], limits=(23, 23.025))"
   ]
  },
  {
   "cell_type": "markdown",
   "metadata": {
    "slideshow": {
     "slide_type": "slide"
    }
   },
   "source": [
    "## measurement chains\n",
    "To document how a welding related measurement was conducted, we can describe and store measurement chains using the `weldx` API.\n",
    "This includes:\n",
    "- describing the measurement equipment\n",
    "- describing multiple transformation steps from raw-data to the final measurement\n",
    "- providing information about measurement uncertainties and errors\n",
    "- attaching certification examples or similar files\n",
    "\n",
    "An in depth example describing measurement chains can be found in the documentation: [meassurement_example](https://weldx.readthedocs.io/en/v0.3.1/tutorials/measurement_example.html)"
   ]
  },
  {
   "cell_type": "markdown",
   "metadata": {
    "slideshow": {
     "slide_type": "skip"
    }
   },
   "source": [
    "### current measurement chain"
   ]
  },
  {
   "cell_type": "code",
   "execution_count": null,
   "metadata": {
    "slideshow": {
     "slide_type": "skip"
    }
   },
   "outputs": [],
   "source": [
    "current_measurement_chain = measurement_data[0].measurement_chain\n",
    "\n",
    "current_source = current_measurement_chain.data_source\n",
    "print(current_source.name)\n",
    "for processor in current_measurement_chain.data_processors:\n",
    "    print(processor.name)"
   ]
  },
  {
   "cell_type": "code",
   "execution_count": null,
   "metadata": {
    "slideshow": {
     "slide_type": "subslide"
    }
   },
   "outputs": [],
   "source": [
    "fig, ax = plt.subplots(nrows=1, figsize=(12, 6))\n",
    "weldx_file[\"measurements\"][0].measurement_chain.plot(ax)\n",
    "ipympl_style(fig,toolbar=False)"
   ]
  },
  {
   "cell_type": "code",
   "execution_count": null,
   "metadata": {
    "slideshow": {
     "slide_type": "skip"
    }
   },
   "outputs": [],
   "source": [
    "fig, ax = plt.subplots(nrows=1, figsize=(12, 6))\n",
    "weldx_file[\"measurements\"][1].measurement_chain.plot(ax)\n",
    "ipympl_style(fig,toolbar=False)"
   ]
  },
  {
   "cell_type": "code",
   "execution_count": null,
   "metadata": {
    "slideshow": {
     "slide_type": "subslide"
    }
   },
   "outputs": [],
   "source": [
    "fig, ax = plt.subplots(nrows=1, figsize=(12, 6))\n",
    "weldx_file[\"measurements\"][2].measurement_chain.plot(ax)\n",
    "ipympl_style(fig,toolbar=False)"
   ]
  },
  {
   "cell_type": "markdown",
   "metadata": {
    "slideshow": {
     "slide_type": "slide"
    }
   },
   "source": [
    "## coordinate systems\n",
    "The `weldx` API contains multiple functions to describe dependencies and transformations between multiple different coordinate systems.\n",
    "\n",
    "- translations and rotations\n",
    "- constant and time dependent transformations\n",
    "- transformation between different systems\n",
    "- grouping multiple systems into subsystems\n",
    "- transforming spatial data between different coordinate systems\n",
    "- visualization of transformations and systems"
   ]
  },
  {
   "cell_type": "markdown",
   "metadata": {
    "slideshow": {
     "slide_type": "skip"
    }
   },
   "source": [
    "There are multiple tutorials available covering coordinate transformations using the `LocalCoordinateSystem` and `CoordinateSystemManager` classes:\n",
    "\n",
    "- https://weldx.readthedocs.io/en/v0.3.1/tutorials/transformations_01_coordinate_systems.html\n",
    "- https://weldx.readthedocs.io/en/v0.3.1/tutorials/transformations_02_coordinate_system_manager.html\n",
    "- https://weldx.readthedocs.io/en/v0.3.1/tutorials/transformations_02_coordinate_system_manager.html#Visualizing-the-coordinate-systems-of-the-CSM\n",
    "- https://weldx.readthedocs.io/en/v0.3.1/tutorials/welding_example_02_weaving.html"
   ]
  },
  {
   "cell_type": "code",
   "execution_count": null,
   "metadata": {
    "slideshow": {
     "slide_type": "skip"
    }
   },
   "outputs": [],
   "source": [
    "# switch to static plots\n",
    "%matplotlib inline"
   ]
  },
  {
   "cell_type": "markdown",
   "metadata": {
    "slideshow": {
     "slide_type": "skip"
    }
   },
   "source": [
    "In addition to the simplified weldment specification, the example dataset contains the complete coordinate system information describing the BAM arc welding setup.\n",
    "\n",
    "- the definition of the reference user frame used for robot programming\n",
    "- the recorded actual TCP movement of the robot\n",
    "- the movement of a laser line scanner attached to the robot head"
   ]
  },
  {
   "cell_type": "markdown",
   "metadata": {
    "slideshow": {
     "slide_type": "skip"
    }
   },
   "source": [
    "We can load the instance of the coordinate system manager directly from the weldx file.\\\n",
    "Following the file schema the data can be accessed under the key `coordinate_systems`."
   ]
  },
  {
   "cell_type": "code",
   "execution_count": null,
   "metadata": {
    "slideshow": {
     "slide_type": "skip"
    }
   },
   "outputs": [],
   "source": [
    "csm = weldx_file[\"coordinate_systems\"]"
   ]
  },
  {
   "cell_type": "markdown",
   "metadata": {
    "slideshow": {
     "slide_type": "subslide"
    }
   },
   "source": [
    "We can visualize all loaded coordinate systems using the built-in `plot` functions."
   ]
  },
  {
   "cell_type": "code",
   "execution_count": null,
   "metadata": {
    "slideshow": {
     "slide_type": "-"
    }
   },
   "outputs": [],
   "source": [
    "csm.plot_graph()\n",
    "plt.gcf().set_size_inches(w=6, h=6)"
   ]
  },
  {
   "cell_type": "markdown",
   "metadata": {
    "slideshow": {
     "slide_type": "skip"
    }
   },
   "source": [
    "Let's take another look at the weld specimen.\n",
    "\n",
    "<img src='./data/WID417_pre.JPG' width=\"640\" />"
   ]
  },
  {
   "cell_type": "markdown",
   "metadata": {
    "slideshow": {
     "slide_type": "skip"
    }
   },
   "source": [
    "The workpiece coordinate system has it's origin located at the start of the workpiece at groove center. We can calculate the position of the thermocouple placement in the workpiece coordinate system."
   ]
  },
  {
   "cell_type": "code",
   "execution_count": null,
   "metadata": {
    "slideshow": {
     "slide_type": "skip"
    }
   },
   "outputs": [],
   "source": [
    "csm.get_cs(\"T1\",\"user_frame\")"
   ]
  },
  {
   "cell_type": "markdown",
   "metadata": {
    "slideshow": {
     "slide_type": "skip"
    }
   },
   "source": [
    "The second thermocouple is offset by 5 mm from the first."
   ]
  },
  {
   "cell_type": "code",
   "execution_count": null,
   "metadata": {
    "slideshow": {
     "slide_type": "skip"
    }
   },
   "outputs": [],
   "source": [
    "csm.get_cs(\"TCP\",\"workpiece\")"
   ]
  },
  {
   "cell_type": "markdown",
   "metadata": {
    "slideshow": {
     "slide_type": "skip"
    }
   },
   "source": [
    "### Add geometry data to CSM\n",
    "\n",
    "For advanced visualization using the `k3d` backend we attach some 3D data to the `CoordinateSystemManager`"
   ]
  },
  {
   "cell_type": "code",
   "execution_count": null,
   "metadata": {
    "slideshow": {
     "slide_type": "skip"
    }
   },
   "outputs": [],
   "source": [
    "geometry_full_width = create_geometry(groove, seam_length, Q_(100, \"mm\"))\n",
    "spatial_data_geo_full = geometry_full_width.spatial_data(\n",
    "    profile_raster_width=Q_(4, \"mm\"), trace_raster_width=Q_(60, \"mm\")\n",
    ")\n",
    "spatial_data_geo_full.coordinates = spatial_data_geo_full.coordinates.astype(\"float32\")\n",
    "\n",
    "spatial_data_geo_reduced = geometry.spatial_data(\n",
    "    profile_raster_width=Q_(4, \"mm\"), trace_raster_width=Q_(60, \"mm\")\n",
    ")\n",
    "\n",
    "csm.assign_data(spatial_data_geo_full, \"workpiece geometry\", \"workpiece\")\n",
    "csm.assign_data(spatial_data_geo_reduced, \"workpiece geometry (reduced)\", \"workpiece\")"
   ]
  },
  {
   "cell_type": "markdown",
   "metadata": {
    "slideshow": {
     "slide_type": "skip"
    }
   },
   "source": [
    "Adding 3D measurements of the actual pre- and post-weld workpiece geometry."
   ]
  },
  {
   "cell_type": "code",
   "execution_count": null,
   "metadata": {
    "slideshow": {
     "slide_type": "skip"
    }
   },
   "outputs": [],
   "source": [
    "with asdf.open(f\"./data/scans.asdf\") as af:\n",
    "    scans = af.tree\n",
    "    csm.assign_data(scans[\"scan_0\"], \"scan_0\", \"workpiece\")\n",
    "    csm.assign_data(scans[\"scan_1\"], \"scan_1\", \"workpiece\")"
   ]
  },
  {
   "cell_type": "markdown",
   "metadata": {
    "slideshow": {
     "slide_type": "skip"
    }
   },
   "source": [
    "We also add a 3D model of the welding wire."
   ]
  },
  {
   "cell_type": "code",
   "execution_count": null,
   "metadata": {
    "slideshow": {
     "slide_type": "skip"
    }
   },
   "outputs": [],
   "source": [
    "welding_wire_diameter = weldx_file[\"process\"][\"welding_wire\"][\"diameter\"].m\n",
    "csm.assign_data(\n",
    "    welding_wire_geo_data(welding_wire_diameter / 2, 17, 16), \"welding_wire\", \"TCP\"\n",
    ")"
   ]
  },
  {
   "cell_type": "markdown",
   "metadata": {
    "slideshow": {
     "slide_type": "skip"
    }
   },
   "source": [
    "The `weldx` API offers some advanced 3D visualization that run inside the browser window.\n",
    "\n",
    "Here is an example visualization of the experiment design.\\\n",
    "The reconstruction is entierly based on the metadata stored inside the weldx file."
   ]
  },
  {
   "cell_type": "code",
   "execution_count": null,
   "metadata": {
    "slideshow": {
     "slide_type": "subslide"
    }
   },
   "outputs": [],
   "source": [
    "csm.plot(\n",
    "    reference_system=\"workpiece\", coordinate_systems=[\"TCP design\", \"T1\", \"T2\"],\n",
    "    data_sets=[\"workpiece geometry\", \"welding_wire\"], colors=cs_colors,\n",
    "    show_data_labels=True, backend=\"k3d\",\n",
    ")"
   ]
  },
  {
   "cell_type": "code",
   "execution_count": null,
   "metadata": {
    "slideshow": {
     "slide_type": "subslide"
    }
   },
   "outputs": [],
   "source": [
    "csm.plot(\n",
    "    reference_system=\"workpiece\", coordinate_systems=[\"TCP\", \"T1\", \"T2\"],\n",
    "    data_sets=[\"scan_0\", \"welding_wire\"], colors=cs_colors,\n",
    "    show_data_labels=True, backend=\"k3d\",\n",
    ")"
   ]
  },
  {
   "cell_type": "markdown",
   "metadata": {
    "slideshow": {
     "slide_type": "skip"
    }
   },
   "source": [
    "## A small example\n",
    "\n",
    "What was the position of the welding process at a specific time (disturbance) of the experiment?"
   ]
  },
  {
   "cell_type": "code",
   "execution_count": null,
   "metadata": {
    "slideshow": {
     "slide_type": "skip"
    }
   },
   "outputs": [],
   "source": [
    "csm"
   ]
  },
  {
   "cell_type": "code",
   "execution_count": null,
   "metadata": {
    "slideshow": {
     "slide_type": "skip"
    }
   },
   "outputs": [],
   "source": [
    "csm.get_cs(\"TCP\",\"workpiece\",time=Q_(30,\"s\"))"
   ]
  },
  {
   "cell_type": "markdown",
   "metadata": {
    "slideshow": {
     "slide_type": "skip"
    }
   },
   "source": [
    "## Equipment"
   ]
  },
  {
   "cell_type": "code",
   "execution_count": null,
   "metadata": {
    "slideshow": {
     "slide_type": "skip"
    }
   },
   "outputs": [],
   "source": [
    "asdf_json_repr(filename, (\"equipment\",))"
   ]
  },
  {
   "cell_type": "markdown",
   "metadata": {
    "slideshow": {
     "slide_type": "skip"
    }
   },
   "source": [
    "### Simple Error estimation"
   ]
  },
  {
   "cell_type": "code",
   "execution_count": null,
   "metadata": {
    "slideshow": {
     "slide_type": "skip"
    }
   },
   "outputs": [],
   "source": [
    "current_source = current_measurement_chain.data_source\n",
    "print(current_source.error)\n",
    "for processor in current_measurement_chain.data_processors:\n",
    "    print(processor.error)"
   ]
  },
  {
   "cell_type": "code",
   "execution_count": null,
   "metadata": {
    "slideshow": {
     "slide_type": "skip"
    }
   },
   "outputs": [],
   "source": [
    "total_error = current_source.error.deviation + 1\n",
    "for processor in current_measurement_chain.data_processors:\n",
    "    total_error *= processor.error.deviation + 1\n",
    "total_error -= 1\n",
    "total_error"
   ]
  },
  {
   "cell_type": "code",
   "execution_count": null,
   "metadata": {
    "slideshow": {
     "slide_type": "skip"
    }
   },
   "outputs": [],
   "source": [
    "welding_current = weldx_file[\"welding_current\"]\n",
    "welding_current_cycle_peak = welding_current.data.data[9999:10017]\n",
    "time = welding_current.data.data.time[9999:10017] - welding_current.data.data.time[0]\n",
    "time = weldx.util.pandas_time_delta_to_quantity(time)\n",
    "plt.plot(time.m, welding_current_cycle_peak, color=\"b\")\n",
    "plt.plot(\n",
    "    time.m, welding_current_cycle_peak * (1 + total_error).magnitude, \"--\", color=\"b\"\n",
    ")\n",
    "plt.plot(\n",
    "    time.m, welding_current_cycle_peak * (1 - total_error).magnitude, \"--\", color=\"b\"\n",
    ")\n",
    "plt.gca().set_xlabel(\"time in s\")\n",
    "plt.gca().set_ylabel(\"Welding current in A\")"
   ]
  },
  {
   "cell_type": "markdown",
   "metadata": {
    "slideshow": {
     "slide_type": "skip"
    }
   },
   "source": [
    "### Show subsystems"
   ]
  },
  {
   "cell_type": "code",
   "execution_count": null,
   "metadata": {
    "slideshow": {
     "slide_type": "skip"
    }
   },
   "outputs": [],
   "source": [
    "csm.subsystem_names"
   ]
  },
  {
   "cell_type": "code",
   "execution_count": null,
   "metadata": {
    "slideshow": {
     "slide_type": "skip"
    }
   },
   "outputs": [],
   "source": [
    "import matplotlib.pyplot as plt\n",
    "\n",
    "subsystems = csm.subsystems\n",
    "\n",
    "fig, ax = plt.subplots(ncols=2)\n",
    "fig.set_size_inches(w=14, h=5)\n",
    "for i, subsystem in enumerate(subsystems):\n",
    "    subsystem.plot_graph(ax=ax[i])"
   ]
  },
  {
   "cell_type": "markdown",
   "metadata": {
    "slideshow": {
     "slide_type": "skip"
    }
   },
   "source": [
    "Here is a simple matplotlib plot showing the position of the thermocouples on the workpiece surface"
   ]
  },
  {
   "cell_type": "code",
   "execution_count": null,
   "metadata": {
    "slideshow": {
     "slide_type": "skip"
    }
   },
   "outputs": [],
   "source": [
    "csm.plot(\n",
    "    reference_system=\"workpiece\", coordinate_systems=[\"TCP design\", \"T1\", \"T2\"],\n",
    "    data_sets=[\"workpiece geometry (reduced)\"], colors=cs_colors,\n",
    "    show_wireframe=True, show_data_labels=False, show_vectors=False,\n",
    ")\n",
    "ax_setup(plt.gca())"
   ]
  }
 ],
 "metadata": {
  "celltoolbar": "Slideshow",
  "kernelspec": {
   "display_name": "weldx",
   "language": "python",
   "name": "weldx"
  },
  "language_info": {
   "codemirror_mode": {
    "name": "ipython",
    "version": 3
   },
   "file_extension": ".py",
   "mimetype": "text/x-python",
   "name": "python",
   "nbconvert_exporter": "python",
   "pygments_lexer": "ipython3",
   "version": "3.9.2"
  },
  "rise": {
   "autolaunch": false,
   "footer": "<h3>IIW joint intermediate meeting C-I, C-IV, C-XII, SG-212 - 30.03.2021</h3>",
   "header": "<h1>WelDX - progress report on the welding data exchange format</h1>",
   "scroll": true,
   "theme": "white",
   "transition": "fade"
  }
 },
 "nbformat": 4,
 "nbformat_minor": 5
}